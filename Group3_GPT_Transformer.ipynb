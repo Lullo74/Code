{
  "cells": [
    {
      "cell_type": "markdown",
      "metadata": {
        "id": "hCGHOFH2Nmcv"
      },
      "source": [
        "# STEP 1 - Problem Definition:\n",
        "### Our Goal was to build a Transformer Model That is training on text data and produces text output based on the user input."
      ]
    },
    {
      "cell_type": "markdown",
      "metadata": {
        "id": "-nv1dUn5NphH"
      },
      "source": [
        "# STEP 2 - Data Exploration And Analysis\n",
        "\n",
        "### Exploring The Data To Make More Sense Of What Is Going On And What type of data we have."
      ]
    },
    {
      "cell_type": "code",
      "execution_count": null,
      "metadata": {
        "id": "6Q4YXNtANtb7"
      },
      "outputs": [],
      "source": [
        "import pandas as pd\n",
        "import os\n",
        "import gc\n",
        "import glob\n",
        "import math\n",
        "import random\n",
        "from tqdm import tqdm\n",
        "import wandb\n",
        "import torch\n",
        "import torch.nn as nn\n",
        "import torch.nn.functional as F\n",
        "import torch.nn.functional as F\n",
        "from transformers import AutoTokenizer\n",
        "from torch.utils.data import TensorDataset, Dataset, DataLoader\n",
        "import torch.optim as optim\n",
        "import heapq\n",
        "from typing import Dict, List, Tuple"
      ]
    },
    {
      "cell_type": "code",
      "execution_count": null,
      "metadata": {
        "colab": {
          "base_uri": "https://localhost:8080/"
        },
        "id": "pXLtosfKN23Z",
        "outputId": "f2a58a1f-d604-498d-8fd4-4dfe242f708f"
      },
      "outputs": [
        {
          "output_type": "stream",
          "name": "stdout",
          "text": [
            "Mounted at /content/drive\n"
          ]
        }
      ],
      "source": [
        "# Mounting The Revelent Google Drive\n",
        "from google.colab import drive\n",
        "drive.mount('/content/drive', force_remount=True)"
      ]
    },
    {
      "cell_type": "code",
      "execution_count": null,
      "metadata": {
        "colab": {
          "base_uri": "https://localhost:8080/"
        },
        "id": "vPa03DGrN4hp",
        "outputId": "17f19c14-1e27-43ef-8c39-f0d2362e89db"
      },
      "outputs": [
        {
          "output_type": "execute_result",
          "data": {
            "text/plain": [
              "['Khaya Philosophies',\n",
              " 'Khaya Trading University',\n",
              " 'Car_design_files.zip',\n",
              " 'SAHARA',\n",
              " 'AMAHLE',\n",
              " 'SONO EZEZIMOTO',\n",
              " 'Sonosezimoto web 1.zip',\n",
              " 'Important',\n",
              " 'Personal Brand',\n",
              " 'Curriculum',\n",
              " 'Jupyter',\n",
              " 'Colab Notebooks',\n",
              " 'Assignment.gdoc',\n",
              " 'Copy of Loan Approval (Classification Deep Neural Network).ipynb',\n",
              " 'Attention is All You Need_250224_134635.pdf',\n",
              " 'tokenizer',\n",
              " 'AIMLFinalProject ',\n",
              " 'FinalProject',\n",
              " 'Transformer_Training_Dataset(1).txt',\n",
              " 'vocab.json',\n",
              " 'merges.txt',\n",
              " 'tokenizer.json',\n",
              " 'Cleaned_Transformer_Training_Dataset.txt']"
            ]
          },
          "metadata": {},
          "execution_count": 39
        }
      ],
      "source": [
        "# Directory List\n",
        "import os\n",
        "os.listdir('/content/drive/MyDrive/')"
      ]
    },
    {
      "cell_type": "code",
      "execution_count": null,
      "metadata": {
        "id": "ZnTqXjv8OG4c"
      },
      "outputs": [],
      "source": [
        "# Selecting File Dataset and Reading File And Converting it into a DataFrame\n",
        "file_path = \"/content/drive/MyDrive/Transformer_Training_Dataset(1).txt\"\n",
        "\n",
        "with open(file_path, 'r') as file:\n",
        "    lines = file.readlines()\n",
        "\n",
        "df = pd.DataFrame(lines, columns=['text'])"
      ]
    },
    {
      "cell_type": "code",
      "execution_count": null,
      "metadata": {
        "colab": {
          "base_uri": "https://localhost:8080/",
          "height": 206
        },
        "id": "DlOeDzprOLia",
        "outputId": "bb1fd813-3936-417c-fb5c-f6e24caff17f"
      },
      "outputs": [
        {
          "output_type": "execute_result",
          "data": {
            "text/plain": [
              "                                                text\n",
              "0  Robert W: Hi, I�m Rob, Director of Research at...\n",
              "1                                                 \\n\n",
              "2  Miles�s research has been supported by the Nat...\n",
              "3                                                 \\n\n",
              "4  Miles Brundage: [00:00:30] Thanks for having m..."
            ],
            "text/html": [
              "\n",
              "  <div id=\"df-e93cec98-c0eb-4f84-87e3-b58dca57981d\" class=\"colab-df-container\">\n",
              "    <div>\n",
              "<style scoped>\n",
              "    .dataframe tbody tr th:only-of-type {\n",
              "        vertical-align: middle;\n",
              "    }\n",
              "\n",
              "    .dataframe tbody tr th {\n",
              "        vertical-align: top;\n",
              "    }\n",
              "\n",
              "    .dataframe thead th {\n",
              "        text-align: right;\n",
              "    }\n",
              "</style>\n",
              "<table border=\"1\" class=\"dataframe\">\n",
              "  <thead>\n",
              "    <tr style=\"text-align: right;\">\n",
              "      <th></th>\n",
              "      <th>text</th>\n",
              "    </tr>\n",
              "  </thead>\n",
              "  <tbody>\n",
              "    <tr>\n",
              "      <th>0</th>\n",
              "      <td>Robert W: Hi, I�m Rob, Director of Research at...</td>\n",
              "    </tr>\n",
              "    <tr>\n",
              "      <th>1</th>\n",
              "      <td>\\n</td>\n",
              "    </tr>\n",
              "    <tr>\n",
              "      <th>2</th>\n",
              "      <td>Miles�s research has been supported by the Nat...</td>\n",
              "    </tr>\n",
              "    <tr>\n",
              "      <th>3</th>\n",
              "      <td>\\n</td>\n",
              "    </tr>\n",
              "    <tr>\n",
              "      <th>4</th>\n",
              "      <td>Miles Brundage: [00:00:30] Thanks for having m...</td>\n",
              "    </tr>\n",
              "  </tbody>\n",
              "</table>\n",
              "</div>\n",
              "    <div class=\"colab-df-buttons\">\n",
              "\n",
              "  <div class=\"colab-df-container\">\n",
              "    <button class=\"colab-df-convert\" onclick=\"convertToInteractive('df-e93cec98-c0eb-4f84-87e3-b58dca57981d')\"\n",
              "            title=\"Convert this dataframe to an interactive table.\"\n",
              "            style=\"display:none;\">\n",
              "\n",
              "  <svg xmlns=\"http://www.w3.org/2000/svg\" height=\"24px\" viewBox=\"0 -960 960 960\">\n",
              "    <path d=\"M120-120v-720h720v720H120Zm60-500h600v-160H180v160Zm220 220h160v-160H400v160Zm0 220h160v-160H400v160ZM180-400h160v-160H180v160Zm440 0h160v-160H620v160ZM180-180h160v-160H180v160Zm440 0h160v-160H620v160Z\"/>\n",
              "  </svg>\n",
              "    </button>\n",
              "\n",
              "  <style>\n",
              "    .colab-df-container {\n",
              "      display:flex;\n",
              "      gap: 12px;\n",
              "    }\n",
              "\n",
              "    .colab-df-convert {\n",
              "      background-color: #E8F0FE;\n",
              "      border: none;\n",
              "      border-radius: 50%;\n",
              "      cursor: pointer;\n",
              "      display: none;\n",
              "      fill: #1967D2;\n",
              "      height: 32px;\n",
              "      padding: 0 0 0 0;\n",
              "      width: 32px;\n",
              "    }\n",
              "\n",
              "    .colab-df-convert:hover {\n",
              "      background-color: #E2EBFA;\n",
              "      box-shadow: 0px 1px 2px rgba(60, 64, 67, 0.3), 0px 1px 3px 1px rgba(60, 64, 67, 0.15);\n",
              "      fill: #174EA6;\n",
              "    }\n",
              "\n",
              "    .colab-df-buttons div {\n",
              "      margin-bottom: 4px;\n",
              "    }\n",
              "\n",
              "    [theme=dark] .colab-df-convert {\n",
              "      background-color: #3B4455;\n",
              "      fill: #D2E3FC;\n",
              "    }\n",
              "\n",
              "    [theme=dark] .colab-df-convert:hover {\n",
              "      background-color: #434B5C;\n",
              "      box-shadow: 0px 1px 3px 1px rgba(0, 0, 0, 0.15);\n",
              "      filter: drop-shadow(0px 1px 2px rgba(0, 0, 0, 0.3));\n",
              "      fill: #FFFFFF;\n",
              "    }\n",
              "  </style>\n",
              "\n",
              "    <script>\n",
              "      const buttonEl =\n",
              "        document.querySelector('#df-e93cec98-c0eb-4f84-87e3-b58dca57981d button.colab-df-convert');\n",
              "      buttonEl.style.display =\n",
              "        google.colab.kernel.accessAllowed ? 'block' : 'none';\n",
              "\n",
              "      async function convertToInteractive(key) {\n",
              "        const element = document.querySelector('#df-e93cec98-c0eb-4f84-87e3-b58dca57981d');\n",
              "        const dataTable =\n",
              "          await google.colab.kernel.invokeFunction('convertToInteractive',\n",
              "                                                    [key], {});\n",
              "        if (!dataTable) return;\n",
              "\n",
              "        const docLinkHtml = 'Like what you see? Visit the ' +\n",
              "          '<a target=\"_blank\" href=https://colab.research.google.com/notebooks/data_table.ipynb>data table notebook</a>'\n",
              "          + ' to learn more about interactive tables.';\n",
              "        element.innerHTML = '';\n",
              "        dataTable['output_type'] = 'display_data';\n",
              "        await google.colab.output.renderOutput(dataTable, element);\n",
              "        const docLink = document.createElement('div');\n",
              "        docLink.innerHTML = docLinkHtml;\n",
              "        element.appendChild(docLink);\n",
              "      }\n",
              "    </script>\n",
              "  </div>\n",
              "\n",
              "\n",
              "<div id=\"df-fb501cd7-4992-4aa6-b6ae-22d2f10112a9\">\n",
              "  <button class=\"colab-df-quickchart\" onclick=\"quickchart('df-fb501cd7-4992-4aa6-b6ae-22d2f10112a9')\"\n",
              "            title=\"Suggest charts\"\n",
              "            style=\"display:none;\">\n",
              "\n",
              "<svg xmlns=\"http://www.w3.org/2000/svg\" height=\"24px\"viewBox=\"0 0 24 24\"\n",
              "     width=\"24px\">\n",
              "    <g>\n",
              "        <path d=\"M19 3H5c-1.1 0-2 .9-2 2v14c0 1.1.9 2 2 2h14c1.1 0 2-.9 2-2V5c0-1.1-.9-2-2-2zM9 17H7v-7h2v7zm4 0h-2V7h2v10zm4 0h-2v-4h2v4z\"/>\n",
              "    </g>\n",
              "</svg>\n",
              "  </button>\n",
              "\n",
              "<style>\n",
              "  .colab-df-quickchart {\n",
              "      --bg-color: #E8F0FE;\n",
              "      --fill-color: #1967D2;\n",
              "      --hover-bg-color: #E2EBFA;\n",
              "      --hover-fill-color: #174EA6;\n",
              "      --disabled-fill-color: #AAA;\n",
              "      --disabled-bg-color: #DDD;\n",
              "  }\n",
              "\n",
              "  [theme=dark] .colab-df-quickchart {\n",
              "      --bg-color: #3B4455;\n",
              "      --fill-color: #D2E3FC;\n",
              "      --hover-bg-color: #434B5C;\n",
              "      --hover-fill-color: #FFFFFF;\n",
              "      --disabled-bg-color: #3B4455;\n",
              "      --disabled-fill-color: #666;\n",
              "  }\n",
              "\n",
              "  .colab-df-quickchart {\n",
              "    background-color: var(--bg-color);\n",
              "    border: none;\n",
              "    border-radius: 50%;\n",
              "    cursor: pointer;\n",
              "    display: none;\n",
              "    fill: var(--fill-color);\n",
              "    height: 32px;\n",
              "    padding: 0;\n",
              "    width: 32px;\n",
              "  }\n",
              "\n",
              "  .colab-df-quickchart:hover {\n",
              "    background-color: var(--hover-bg-color);\n",
              "    box-shadow: 0 1px 2px rgba(60, 64, 67, 0.3), 0 1px 3px 1px rgba(60, 64, 67, 0.15);\n",
              "    fill: var(--button-hover-fill-color);\n",
              "  }\n",
              "\n",
              "  .colab-df-quickchart-complete:disabled,\n",
              "  .colab-df-quickchart-complete:disabled:hover {\n",
              "    background-color: var(--disabled-bg-color);\n",
              "    fill: var(--disabled-fill-color);\n",
              "    box-shadow: none;\n",
              "  }\n",
              "\n",
              "  .colab-df-spinner {\n",
              "    border: 2px solid var(--fill-color);\n",
              "    border-color: transparent;\n",
              "    border-bottom-color: var(--fill-color);\n",
              "    animation:\n",
              "      spin 1s steps(1) infinite;\n",
              "  }\n",
              "\n",
              "  @keyframes spin {\n",
              "    0% {\n",
              "      border-color: transparent;\n",
              "      border-bottom-color: var(--fill-color);\n",
              "      border-left-color: var(--fill-color);\n",
              "    }\n",
              "    20% {\n",
              "      border-color: transparent;\n",
              "      border-left-color: var(--fill-color);\n",
              "      border-top-color: var(--fill-color);\n",
              "    }\n",
              "    30% {\n",
              "      border-color: transparent;\n",
              "      border-left-color: var(--fill-color);\n",
              "      border-top-color: var(--fill-color);\n",
              "      border-right-color: var(--fill-color);\n",
              "    }\n",
              "    40% {\n",
              "      border-color: transparent;\n",
              "      border-right-color: var(--fill-color);\n",
              "      border-top-color: var(--fill-color);\n",
              "    }\n",
              "    60% {\n",
              "      border-color: transparent;\n",
              "      border-right-color: var(--fill-color);\n",
              "    }\n",
              "    80% {\n",
              "      border-color: transparent;\n",
              "      border-right-color: var(--fill-color);\n",
              "      border-bottom-color: var(--fill-color);\n",
              "    }\n",
              "    90% {\n",
              "      border-color: transparent;\n",
              "      border-bottom-color: var(--fill-color);\n",
              "    }\n",
              "  }\n",
              "</style>\n",
              "\n",
              "  <script>\n",
              "    async function quickchart(key) {\n",
              "      const quickchartButtonEl =\n",
              "        document.querySelector('#' + key + ' button');\n",
              "      quickchartButtonEl.disabled = true;  // To prevent multiple clicks.\n",
              "      quickchartButtonEl.classList.add('colab-df-spinner');\n",
              "      try {\n",
              "        const charts = await google.colab.kernel.invokeFunction(\n",
              "            'suggestCharts', [key], {});\n",
              "      } catch (error) {\n",
              "        console.error('Error during call to suggestCharts:', error);\n",
              "      }\n",
              "      quickchartButtonEl.classList.remove('colab-df-spinner');\n",
              "      quickchartButtonEl.classList.add('colab-df-quickchart-complete');\n",
              "    }\n",
              "    (() => {\n",
              "      let quickchartButtonEl =\n",
              "        document.querySelector('#df-fb501cd7-4992-4aa6-b6ae-22d2f10112a9 button');\n",
              "      quickchartButtonEl.style.display =\n",
              "        google.colab.kernel.accessAllowed ? 'block' : 'none';\n",
              "    })();\n",
              "  </script>\n",
              "</div>\n",
              "\n",
              "    </div>\n",
              "  </div>\n"
            ],
            "application/vnd.google.colaboratory.intrinsic+json": {
              "type": "dataframe",
              "variable_name": "df"
            }
          },
          "metadata": {},
          "execution_count": 41
        }
      ],
      "source": [
        "# Printing The Columns Of The DataFrame\n",
        "df.head()"
      ]
    },
    {
      "cell_type": "code",
      "execution_count": null,
      "metadata": {
        "colab": {
          "base_uri": "https://localhost:8080/",
          "height": 175
        },
        "id": "FyNxv_IFONMi",
        "outputId": "ed7a99c4-6e39-406c-a496-222a4c0c30d6"
      },
      "outputs": [
        {
          "output_type": "execute_result",
          "data": {
            "text/plain": [
              "           text\n",
              "count   2115432\n",
              "unique  2084506\n",
              "top          \\n\n",
              "freq      25160"
            ],
            "text/html": [
              "\n",
              "  <div id=\"df-862d094e-79a4-43ff-aa73-e18bc881df4a\" class=\"colab-df-container\">\n",
              "    <div>\n",
              "<style scoped>\n",
              "    .dataframe tbody tr th:only-of-type {\n",
              "        vertical-align: middle;\n",
              "    }\n",
              "\n",
              "    .dataframe tbody tr th {\n",
              "        vertical-align: top;\n",
              "    }\n",
              "\n",
              "    .dataframe thead th {\n",
              "        text-align: right;\n",
              "    }\n",
              "</style>\n",
              "<table border=\"1\" class=\"dataframe\">\n",
              "  <thead>\n",
              "    <tr style=\"text-align: right;\">\n",
              "      <th></th>\n",
              "      <th>text</th>\n",
              "    </tr>\n",
              "  </thead>\n",
              "  <tbody>\n",
              "    <tr>\n",
              "      <th>count</th>\n",
              "      <td>2115432</td>\n",
              "    </tr>\n",
              "    <tr>\n",
              "      <th>unique</th>\n",
              "      <td>2084506</td>\n",
              "    </tr>\n",
              "    <tr>\n",
              "      <th>top</th>\n",
              "      <td>\\n</td>\n",
              "    </tr>\n",
              "    <tr>\n",
              "      <th>freq</th>\n",
              "      <td>25160</td>\n",
              "    </tr>\n",
              "  </tbody>\n",
              "</table>\n",
              "</div>\n",
              "    <div class=\"colab-df-buttons\">\n",
              "\n",
              "  <div class=\"colab-df-container\">\n",
              "    <button class=\"colab-df-convert\" onclick=\"convertToInteractive('df-862d094e-79a4-43ff-aa73-e18bc881df4a')\"\n",
              "            title=\"Convert this dataframe to an interactive table.\"\n",
              "            style=\"display:none;\">\n",
              "\n",
              "  <svg xmlns=\"http://www.w3.org/2000/svg\" height=\"24px\" viewBox=\"0 -960 960 960\">\n",
              "    <path d=\"M120-120v-720h720v720H120Zm60-500h600v-160H180v160Zm220 220h160v-160H400v160Zm0 220h160v-160H400v160ZM180-400h160v-160H180v160Zm440 0h160v-160H620v160ZM180-180h160v-160H180v160Zm440 0h160v-160H620v160Z\"/>\n",
              "  </svg>\n",
              "    </button>\n",
              "\n",
              "  <style>\n",
              "    .colab-df-container {\n",
              "      display:flex;\n",
              "      gap: 12px;\n",
              "    }\n",
              "\n",
              "    .colab-df-convert {\n",
              "      background-color: #E8F0FE;\n",
              "      border: none;\n",
              "      border-radius: 50%;\n",
              "      cursor: pointer;\n",
              "      display: none;\n",
              "      fill: #1967D2;\n",
              "      height: 32px;\n",
              "      padding: 0 0 0 0;\n",
              "      width: 32px;\n",
              "    }\n",
              "\n",
              "    .colab-df-convert:hover {\n",
              "      background-color: #E2EBFA;\n",
              "      box-shadow: 0px 1px 2px rgba(60, 64, 67, 0.3), 0px 1px 3px 1px rgba(60, 64, 67, 0.15);\n",
              "      fill: #174EA6;\n",
              "    }\n",
              "\n",
              "    .colab-df-buttons div {\n",
              "      margin-bottom: 4px;\n",
              "    }\n",
              "\n",
              "    [theme=dark] .colab-df-convert {\n",
              "      background-color: #3B4455;\n",
              "      fill: #D2E3FC;\n",
              "    }\n",
              "\n",
              "    [theme=dark] .colab-df-convert:hover {\n",
              "      background-color: #434B5C;\n",
              "      box-shadow: 0px 1px 3px 1px rgba(0, 0, 0, 0.15);\n",
              "      filter: drop-shadow(0px 1px 2px rgba(0, 0, 0, 0.3));\n",
              "      fill: #FFFFFF;\n",
              "    }\n",
              "  </style>\n",
              "\n",
              "    <script>\n",
              "      const buttonEl =\n",
              "        document.querySelector('#df-862d094e-79a4-43ff-aa73-e18bc881df4a button.colab-df-convert');\n",
              "      buttonEl.style.display =\n",
              "        google.colab.kernel.accessAllowed ? 'block' : 'none';\n",
              "\n",
              "      async function convertToInteractive(key) {\n",
              "        const element = document.querySelector('#df-862d094e-79a4-43ff-aa73-e18bc881df4a');\n",
              "        const dataTable =\n",
              "          await google.colab.kernel.invokeFunction('convertToInteractive',\n",
              "                                                    [key], {});\n",
              "        if (!dataTable) return;\n",
              "\n",
              "        const docLinkHtml = 'Like what you see? Visit the ' +\n",
              "          '<a target=\"_blank\" href=https://colab.research.google.com/notebooks/data_table.ipynb>data table notebook</a>'\n",
              "          + ' to learn more about interactive tables.';\n",
              "        element.innerHTML = '';\n",
              "        dataTable['output_type'] = 'display_data';\n",
              "        await google.colab.output.renderOutput(dataTable, element);\n",
              "        const docLink = document.createElement('div');\n",
              "        docLink.innerHTML = docLinkHtml;\n",
              "        element.appendChild(docLink);\n",
              "      }\n",
              "    </script>\n",
              "  </div>\n",
              "\n",
              "\n",
              "<div id=\"df-7d4a0080-2d43-4bd5-95b1-672d5712afa3\">\n",
              "  <button class=\"colab-df-quickchart\" onclick=\"quickchart('df-7d4a0080-2d43-4bd5-95b1-672d5712afa3')\"\n",
              "            title=\"Suggest charts\"\n",
              "            style=\"display:none;\">\n",
              "\n",
              "<svg xmlns=\"http://www.w3.org/2000/svg\" height=\"24px\"viewBox=\"0 0 24 24\"\n",
              "     width=\"24px\">\n",
              "    <g>\n",
              "        <path d=\"M19 3H5c-1.1 0-2 .9-2 2v14c0 1.1.9 2 2 2h14c1.1 0 2-.9 2-2V5c0-1.1-.9-2-2-2zM9 17H7v-7h2v7zm4 0h-2V7h2v10zm4 0h-2v-4h2v4z\"/>\n",
              "    </g>\n",
              "</svg>\n",
              "  </button>\n",
              "\n",
              "<style>\n",
              "  .colab-df-quickchart {\n",
              "      --bg-color: #E8F0FE;\n",
              "      --fill-color: #1967D2;\n",
              "      --hover-bg-color: #E2EBFA;\n",
              "      --hover-fill-color: #174EA6;\n",
              "      --disabled-fill-color: #AAA;\n",
              "      --disabled-bg-color: #DDD;\n",
              "  }\n",
              "\n",
              "  [theme=dark] .colab-df-quickchart {\n",
              "      --bg-color: #3B4455;\n",
              "      --fill-color: #D2E3FC;\n",
              "      --hover-bg-color: #434B5C;\n",
              "      --hover-fill-color: #FFFFFF;\n",
              "      --disabled-bg-color: #3B4455;\n",
              "      --disabled-fill-color: #666;\n",
              "  }\n",
              "\n",
              "  .colab-df-quickchart {\n",
              "    background-color: var(--bg-color);\n",
              "    border: none;\n",
              "    border-radius: 50%;\n",
              "    cursor: pointer;\n",
              "    display: none;\n",
              "    fill: var(--fill-color);\n",
              "    height: 32px;\n",
              "    padding: 0;\n",
              "    width: 32px;\n",
              "  }\n",
              "\n",
              "  .colab-df-quickchart:hover {\n",
              "    background-color: var(--hover-bg-color);\n",
              "    box-shadow: 0 1px 2px rgba(60, 64, 67, 0.3), 0 1px 3px 1px rgba(60, 64, 67, 0.15);\n",
              "    fill: var(--button-hover-fill-color);\n",
              "  }\n",
              "\n",
              "  .colab-df-quickchart-complete:disabled,\n",
              "  .colab-df-quickchart-complete:disabled:hover {\n",
              "    background-color: var(--disabled-bg-color);\n",
              "    fill: var(--disabled-fill-color);\n",
              "    box-shadow: none;\n",
              "  }\n",
              "\n",
              "  .colab-df-spinner {\n",
              "    border: 2px solid var(--fill-color);\n",
              "    border-color: transparent;\n",
              "    border-bottom-color: var(--fill-color);\n",
              "    animation:\n",
              "      spin 1s steps(1) infinite;\n",
              "  }\n",
              "\n",
              "  @keyframes spin {\n",
              "    0% {\n",
              "      border-color: transparent;\n",
              "      border-bottom-color: var(--fill-color);\n",
              "      border-left-color: var(--fill-color);\n",
              "    }\n",
              "    20% {\n",
              "      border-color: transparent;\n",
              "      border-left-color: var(--fill-color);\n",
              "      border-top-color: var(--fill-color);\n",
              "    }\n",
              "    30% {\n",
              "      border-color: transparent;\n",
              "      border-left-color: var(--fill-color);\n",
              "      border-top-color: var(--fill-color);\n",
              "      border-right-color: var(--fill-color);\n",
              "    }\n",
              "    40% {\n",
              "      border-color: transparent;\n",
              "      border-right-color: var(--fill-color);\n",
              "      border-top-color: var(--fill-color);\n",
              "    }\n",
              "    60% {\n",
              "      border-color: transparent;\n",
              "      border-right-color: var(--fill-color);\n",
              "    }\n",
              "    80% {\n",
              "      border-color: transparent;\n",
              "      border-right-color: var(--fill-color);\n",
              "      border-bottom-color: var(--fill-color);\n",
              "    }\n",
              "    90% {\n",
              "      border-color: transparent;\n",
              "      border-bottom-color: var(--fill-color);\n",
              "    }\n",
              "  }\n",
              "</style>\n",
              "\n",
              "  <script>\n",
              "    async function quickchart(key) {\n",
              "      const quickchartButtonEl =\n",
              "        document.querySelector('#' + key + ' button');\n",
              "      quickchartButtonEl.disabled = true;  // To prevent multiple clicks.\n",
              "      quickchartButtonEl.classList.add('colab-df-spinner');\n",
              "      try {\n",
              "        const charts = await google.colab.kernel.invokeFunction(\n",
              "            'suggestCharts', [key], {});\n",
              "      } catch (error) {\n",
              "        console.error('Error during call to suggestCharts:', error);\n",
              "      }\n",
              "      quickchartButtonEl.classList.remove('colab-df-spinner');\n",
              "      quickchartButtonEl.classList.add('colab-df-quickchart-complete');\n",
              "    }\n",
              "    (() => {\n",
              "      let quickchartButtonEl =\n",
              "        document.querySelector('#df-7d4a0080-2d43-4bd5-95b1-672d5712afa3 button');\n",
              "      quickchartButtonEl.style.display =\n",
              "        google.colab.kernel.accessAllowed ? 'block' : 'none';\n",
              "    })();\n",
              "  </script>\n",
              "</div>\n",
              "\n",
              "    </div>\n",
              "  </div>\n"
            ],
            "application/vnd.google.colaboratory.intrinsic+json": {
              "type": "dataframe",
              "summary": "{\n  \"name\": \"df\",\n  \"rows\": 4,\n  \"fields\": [\n    {\n      \"column\": \"text\",\n      \"properties\": {\n        \"dtype\": \"string\",\n        \"num_unique_values\": 4,\n        \"samples\": [\n          2084506,\n          \"25160\",\n          \"2115432\"\n        ],\n        \"semantic_type\": \"\",\n        \"description\": \"\"\n      }\n    }\n  ]\n}"
            }
          },
          "metadata": {},
          "execution_count": 42
        }
      ],
      "source": [
        "# Describing The DataFrame\n",
        "df.describe()"
      ]
    },
    {
      "cell_type": "code",
      "execution_count": null,
      "metadata": {
        "colab": {
          "base_uri": "https://localhost:8080/"
        },
        "id": "OU3vKHA5OUKv",
        "outputId": "81dbd418-ed9d-448a-a4e3-b83ad9955150"
      },
      "outputs": [
        {
          "output_type": "stream",
          "name": "stdout",
          "text": [
            "(2115432, 1)\n"
          ]
        }
      ],
      "source": [
        "# Shape Of Our DataFrame\n",
        "print(df.shape)"
      ]
    },
    {
      "cell_type": "code",
      "execution_count": null,
      "metadata": {
        "colab": {
          "base_uri": "https://localhost:8080/"
        },
        "id": "M1uqFiSfOXMn",
        "outputId": "278c5001-78af-44da-e443-166375e0ffa6"
      },
      "outputs": [
        {
          "output_type": "stream",
          "name": "stdout",
          "text": [
            "<class 'pandas.core.frame.DataFrame'>\n",
            "RangeIndex: 2115432 entries, 0 to 2115431\n",
            "Data columns (total 1 columns):\n",
            " #   Column  Dtype \n",
            "---  ------  ----- \n",
            " 0   text    object\n",
            "dtypes: object(1)\n",
            "memory usage: 16.1+ MB\n",
            "None\n"
          ]
        }
      ],
      "source": [
        "print(df.info())"
      ]
    },
    {
      "cell_type": "code",
      "execution_count": null,
      "metadata": {
        "colab": {
          "base_uri": "https://localhost:8080/"
        },
        "id": "hbZXkF_JOeCy",
        "outputId": "94a28fdd-5aca-43c4-8fd3-0d9b2066ab98"
      },
      "outputs": [
        {
          "output_type": "stream",
          "name": "stdout",
          "text": [
            "text    0\n",
            "dtype: int64\n"
          ]
        }
      ],
      "source": [
        "# Checking Number Of Null Values\n",
        "print(df.isnull().sum())"
      ]
    },
    {
      "cell_type": "code",
      "execution_count": null,
      "metadata": {
        "id": "TFDJlhHuOfcq"
      },
      "outputs": [],
      "source": [
        "# Calculating The Text Length Distribution Of Each Line\n",
        "df['text_length'] = df['text'].str.len()"
      ]
    },
    {
      "cell_type": "code",
      "execution_count": null,
      "metadata": {
        "colab": {
          "base_uri": "https://localhost:8080/",
          "height": 564
        },
        "id": "CKbgmsCoOlsX",
        "outputId": "025b2284-42b8-43a8-c9f5-d2ac514ead15"
      },
      "outputs": [
        {
          "output_type": "display_data",
          "data": {
            "text/plain": [
              "<Figure size 1000x600 with 1 Axes>"
            ],
            "image/png": "[encoded data removed]"
          },
          "metadata": {}
        }
      ],
      "source": [
        "# Plotting The Text Length Distribution Of Each Line\n",
        "import matplotlib.pyplot as plt\n",
        "import seaborn as sns\n",
        "\n",
        "plt.figure(figsize=(10, 6))\n",
        "sns.histplot(df['text_length'], bins=50, kde=True)\n",
        "plt.title('Text Length Distribution')\n",
        "plt.xlabel('Text Length')\n",
        "plt.ylabel('Frequency')\n",
        "plt.show()"
      ]
    },
    {
      "cell_type": "code",
      "execution_count": null,
      "metadata": {
        "colab": {
          "base_uri": "https://localhost:8080/",
          "height": 424
        },
        "id": "oRYUG5rfOpCP",
        "outputId": "117ed6a8-9831-43dc-d02e-accc6a6887e9"
      },
      "outputs": [
        {
          "output_type": "display_data",
          "data": {
            "text/plain": [
              "<Figure size 1000x600 with 1 Axes>"
            ],
            "image/png": "[encoded data removed]"
          },
          "metadata": {}
        }
      ],
      "source": [
        "# Displaying The Most Frequent Words In Our Dataset\n",
        "from wordcloud import WordCloud\n",
        "\n",
        "# Assuming 'df' is your DataFrame containing the text data, Create all_words from your DataFrame\n",
        "all_words = ' '.join(df['text']).split()\n",
        "\n",
        "wordcloud = WordCloud(width=800, height=400, background_color='white').generate(' '.join(all_words))\n",
        "\n",
        "plt.figure(figsize=(10, 6))\n",
        "plt.imshow(wordcloud, interpolation='bilinear')\n",
        "plt.axis('off')\n",
        "plt.show()"
      ]
    },
    {
      "cell_type": "markdown",
      "metadata": {
        "id": "lfzX4XF2OxIf"
      },
      "source": [
        "# STEP 2 - Data Cleaning\n",
        "\n",
        "### Exploring The Data To Make More Sense Of What Is Going On And What type of data we have."
      ]
    },
    {
      "cell_type": "code",
      "execution_count": null,
      "metadata": {
        "colab": {
          "base_uri": "https://localhost:8080/"
        },
        "id": "bnG2NEejOyp4",
        "outputId": "f9ae26f0-9407-414c-8cdc-813cfe7fbb50"
      },
      "outputs": [
        {
          "output_type": "stream",
          "name": "stdout",
          "text": [
            "[('the', 877731), ('to', 745946), ('i', 605577), ('tom', 541601), ('a', 507697), ('that', 464313), ('and', 418215), ('you', 401043), ('of', 392047), ('is', 320802)]\n"
          ]
        }
      ],
      "source": [
        "# Tokenizing and Cleaning Text\n",
        "from collections import Counter\n",
        "import re\n",
        "\n",
        "# Removing Special Characters And Extra Spaces\n",
        "def clean_text(text):\n",
        "    text = text.lower()\n",
        "    text = re.sub(r'\\W', ' ', text)\n",
        "    text = re.sub(r'\\s+', ' ', text)\n",
        "    return text\n",
        "\n",
        "df['cleaned_text'] = df['text'].apply(clean_text)\n",
        "all_words = ' '.join(df['cleaned_text']).split()\n",
        "word_freq = Counter(all_words)\n",
        "\n",
        "# Display the most common words\n",
        "print(word_freq.most_common(10))"
      ]
    },
    {
      "cell_type": "code",
      "execution_count": null,
      "metadata": {
        "colab": {
          "base_uri": "https://localhost:8080/",
          "height": 206
        },
        "id": "tqIPJPGUO52r",
        "outputId": "8acfca0c-2a74-4ea3-ae7b-4907c3d3f8f6"
      },
      "outputs": [
        {
          "output_type": "execute_result",
          "data": {
            "text/plain": [
              "                                                text  text_length  \\\n",
              "0  Robert W: Hi, I�m Rob, Director of Research at...          404   \n",
              "1                                                 \\n            1   \n",
              "2  Miles�s research has been supported by the Nat...          187   \n",
              "3                                                 \\n            1   \n",
              "4  Miles Brundage: [00:00:30] Thanks for having m...           49   \n",
              "\n",
              "                                        cleaned_text  \n",
              "0  robert w hi i m rob director of research at 80...  \n",
              "1                                                     \n",
              "2  miles s research has been supported by the nat...  \n",
              "3                                                     \n",
              "4      miles brundage 00 00 30 thanks for having me   "
            ],
            "text/html": [
              "\n",
              "  <div id=\"df-777313d9-83c3-4d91-8b69-fac2de62f1ea\" class=\"colab-df-container\">\n",
              "    <div>\n",
              "<style scoped>\n",
              "    .dataframe tbody tr th:only-of-type {\n",
              "        vertical-align: middle;\n",
              "    }\n",
              "\n",
              "    .dataframe tbody tr th {\n",
              "        vertical-align: top;\n",
              "    }\n",
              "\n",
              "    .dataframe thead th {\n",
              "        text-align: right;\n",
              "    }\n",
              "</style>\n",
              "<table border=\"1\" class=\"dataframe\">\n",
              "  <thead>\n",
              "    <tr style=\"text-align: right;\">\n",
              "      <th></th>\n",
              "      <th>text</th>\n",
              "      <th>text_length</th>\n",
              "      <th>cleaned_text</th>\n",
              "    </tr>\n",
              "  </thead>\n",
              "  <tbody>\n",
              "    <tr>\n",
              "      <th>0</th>\n",
              "      <td>Robert W: Hi, I�m Rob, Director of Research at...</td>\n",
              "      <td>404</td>\n",
              "      <td>robert w hi i m rob director of research at 80...</td>\n",
              "    </tr>\n",
              "    <tr>\n",
              "      <th>1</th>\n",
              "      <td>\\n</td>\n",
              "      <td>1</td>\n",
              "      <td></td>\n",
              "    </tr>\n",
              "    <tr>\n",
              "      <th>2</th>\n",
              "      <td>Miles�s research has been supported by the Nat...</td>\n",
              "      <td>187</td>\n",
              "      <td>miles s research has been supported by the nat...</td>\n",
              "    </tr>\n",
              "    <tr>\n",
              "      <th>3</th>\n",
              "      <td>\\n</td>\n",
              "      <td>1</td>\n",
              "      <td></td>\n",
              "    </tr>\n",
              "    <tr>\n",
              "      <th>4</th>\n",
              "      <td>Miles Brundage: [00:00:30] Thanks for having m...</td>\n",
              "      <td>49</td>\n",
              "      <td>miles brundage 00 00 30 thanks for having me</td>\n",
              "    </tr>\n",
              "  </tbody>\n",
              "</table>\n",
              "</div>\n",
              "    <div class=\"colab-df-buttons\">\n",
              "\n",
              "  <div class=\"colab-df-container\">\n",
              "    <button class=\"colab-df-convert\" onclick=\"convertToInteractive('df-777313d9-83c3-4d91-8b69-fac2de62f1ea')\"\n",
              "            title=\"Convert this dataframe to an interactive table.\"\n",
              "            style=\"display:none;\">\n",
              "\n",
              "  <svg xmlns=\"http://www.w3.org/2000/svg\" height=\"24px\" viewBox=\"0 -960 960 960\">\n",
              "    <path d=\"M120-120v-720h720v720H120Zm60-500h600v-160H180v160Zm220 220h160v-160H400v160Zm0 220h160v-160H400v160ZM180-400h160v-160H180v160Zm440 0h160v-160H620v160ZM180-180h160v-160H180v160Zm440 0h160v-160H620v160Z\"/>\n",
              "  </svg>\n",
              "    </button>\n",
              "\n",
              "  <style>\n",
              "    .colab-df-container {\n",
              "      display:flex;\n",
              "      gap: 12px;\n",
              "    }\n",
              "\n",
              "    .colab-df-convert {\n",
              "      background-color: #E8F0FE;\n",
              "      border: none;\n",
              "      border-radius: 50%;\n",
              "      cursor: pointer;\n",
              "      display: none;\n",
              "      fill: #1967D2;\n",
              "      height: 32px;\n",
              "      padding: 0 0 0 0;\n",
              "      width: 32px;\n",
              "    }\n",
              "\n",
              "    .colab-df-convert:hover {\n",
              "      background-color: #E2EBFA;\n",
              "      box-shadow: 0px 1px 2px rgba(60, 64, 67, 0.3), 0px 1px 3px 1px rgba(60, 64, 67, 0.15);\n",
              "      fill: #174EA6;\n",
              "    }\n",
              "\n",
              "    .colab-df-buttons div {\n",
              "      margin-bottom: 4px;\n",
              "    }\n",
              "\n",
              "    [theme=dark] .colab-df-convert {\n",
              "      background-color: #3B4455;\n",
              "      fill: #D2E3FC;\n",
              "    }\n",
              "\n",
              "    [theme=dark] .colab-df-convert:hover {\n",
              "      background-color: #434B5C;\n",
              "      box-shadow: 0px 1px 3px 1px rgba(0, 0, 0, 0.15);\n",
              "      filter: drop-shadow(0px 1px 2px rgba(0, 0, 0, 0.3));\n",
              "      fill: #FFFFFF;\n",
              "    }\n",
              "  </style>\n",
              "\n",
              "    <script>\n",
              "      const buttonEl =\n",
              "        document.querySelector('#df-777313d9-83c3-4d91-8b69-fac2de62f1ea button.colab-df-convert');\n",
              "      buttonEl.style.display =\n",
              "        google.colab.kernel.accessAllowed ? 'block' : 'none';\n",
              "\n",
              "      async function convertToInteractive(key) {\n",
              "        const element = document.querySelector('#df-777313d9-83c3-4d91-8b69-fac2de62f1ea');\n",
              "        const dataTable =\n",
              "          await google.colab.kernel.invokeFunction('convertToInteractive',\n",
              "                                                    [key], {});\n",
              "        if (!dataTable) return;\n",
              "\n",
              "        const docLinkHtml = 'Like what you see? Visit the ' +\n",
              "          '<a target=\"_blank\" href=https://colab.research.google.com/notebooks/data_table.ipynb>data table notebook</a>'\n",
              "          + ' to learn more about interactive tables.';\n",
              "        element.innerHTML = '';\n",
              "        dataTable['output_type'] = 'display_data';\n",
              "        await google.colab.output.renderOutput(dataTable, element);\n",
              "        const docLink = document.createElement('div');\n",
              "        docLink.innerHTML = docLinkHtml;\n",
              "        element.appendChild(docLink);\n",
              "      }\n",
              "    </script>\n",
              "  </div>\n",
              "\n",
              "\n",
              "<div id=\"df-c329818b-eb52-44bc-a6e8-e84483a1beef\">\n",
              "  <button class=\"colab-df-quickchart\" onclick=\"quickchart('df-c329818b-eb52-44bc-a6e8-e84483a1beef')\"\n",
              "            title=\"Suggest charts\"\n",
              "            style=\"display:none;\">\n",
              "\n",
              "<svg xmlns=\"http://www.w3.org/2000/svg\" height=\"24px\"viewBox=\"0 0 24 24\"\n",
              "     width=\"24px\">\n",
              "    <g>\n",
              "        <path d=\"M19 3H5c-1.1 0-2 .9-2 2v14c0 1.1.9 2 2 2h14c1.1 0 2-.9 2-2V5c0-1.1-.9-2-2-2zM9 17H7v-7h2v7zm4 0h-2V7h2v10zm4 0h-2v-4h2v4z\"/>\n",
              "    </g>\n",
              "</svg>\n",
              "  </button>\n",
              "\n",
              "<style>\n",
              "  .colab-df-quickchart {\n",
              "      --bg-color: #E8F0FE;\n",
              "      --fill-color: #1967D2;\n",
              "      --hover-bg-color: #E2EBFA;\n",
              "      --hover-fill-color: #174EA6;\n",
              "      --disabled-fill-color: #AAA;\n",
              "      --disabled-bg-color: #DDD;\n",
              "  }\n",
              "\n",
              "  [theme=dark] .colab-df-quickchart {\n",
              "      --bg-color: #3B4455;\n",
              "      --fill-color: #D2E3FC;\n",
              "      --hover-bg-color: #434B5C;\n",
              "      --hover-fill-color: #FFFFFF;\n",
              "      --disabled-bg-color: #3B4455;\n",
              "      --disabled-fill-color: #666;\n",
              "  }\n",
              "\n",
              "  .colab-df-quickchart {\n",
              "    background-color: var(--bg-color);\n",
              "    border: none;\n",
              "    border-radius: 50%;\n",
              "    cursor: pointer;\n",
              "    display: none;\n",
              "    fill: var(--fill-color);\n",
              "    height: 32px;\n",
              "    padding: 0;\n",
              "    width: 32px;\n",
              "  }\n",
              "\n",
              "  .colab-df-quickchart:hover {\n",
              "    background-color: var(--hover-bg-color);\n",
              "    box-shadow: 0 1px 2px rgba(60, 64, 67, 0.3), 0 1px 3px 1px rgba(60, 64, 67, 0.15);\n",
              "    fill: var(--button-hover-fill-color);\n",
              "  }\n",
              "\n",
              "  .colab-df-quickchart-complete:disabled,\n",
              "  .colab-df-quickchart-complete:disabled:hover {\n",
              "    background-color: var(--disabled-bg-color);\n",
              "    fill: var(--disabled-fill-color);\n",
              "    box-shadow: none;\n",
              "  }\n",
              "\n",
              "  .colab-df-spinner {\n",
              "    border: 2px solid var(--fill-color);\n",
              "    border-color: transparent;\n",
              "    border-bottom-color: var(--fill-color);\n",
              "    animation:\n",
              "      spin 1s steps(1) infinite;\n",
              "  }\n",
              "\n",
              "  @keyframes spin {\n",
              "    0% {\n",
              "      border-color: transparent;\n",
              "      border-bottom-color: var(--fill-color);\n",
              "      border-left-color: var(--fill-color);\n",
              "    }\n",
              "    20% {\n",
              "      border-color: transparent;\n",
              "      border-left-color: var(--fill-color);\n",
              "      border-top-color: var(--fill-color);\n",
              "    }\n",
              "    30% {\n",
              "      border-color: transparent;\n",
              "      border-left-color: var(--fill-color);\n",
              "      border-top-color: var(--fill-color);\n",
              "      border-right-color: var(--fill-color);\n",
              "    }\n",
              "    40% {\n",
              "      border-color: transparent;\n",
              "      border-right-color: var(--fill-color);\n",
              "      border-top-color: var(--fill-color);\n",
              "    }\n",
              "    60% {\n",
              "      border-color: transparent;\n",
              "      border-right-color: var(--fill-color);\n",
              "    }\n",
              "    80% {\n",
              "      border-color: transparent;\n",
              "      border-right-color: var(--fill-color);\n",
              "      border-bottom-color: var(--fill-color);\n",
              "    }\n",
              "    90% {\n",
              "      border-color: transparent;\n",
              "      border-bottom-color: var(--fill-color);\n",
              "    }\n",
              "  }\n",
              "</style>\n",
              "\n",
              "  <script>\n",
              "    async function quickchart(key) {\n",
              "      const quickchartButtonEl =\n",
              "        document.querySelector('#' + key + ' button');\n",
              "      quickchartButtonEl.disabled = true;  // To prevent multiple clicks.\n",
              "      quickchartButtonEl.classList.add('colab-df-spinner');\n",
              "      try {\n",
              "        const charts = await google.colab.kernel.invokeFunction(\n",
              "            'suggestCharts', [key], {});\n",
              "      } catch (error) {\n",
              "        console.error('Error during call to suggestCharts:', error);\n",
              "      }\n",
              "      quickchartButtonEl.classList.remove('colab-df-spinner');\n",
              "      quickchartButtonEl.classList.add('colab-df-quickchart-complete');\n",
              "    }\n",
              "    (() => {\n",
              "      let quickchartButtonEl =\n",
              "        document.querySelector('#df-c329818b-eb52-44bc-a6e8-e84483a1beef button');\n",
              "      quickchartButtonEl.style.display =\n",
              "        google.colab.kernel.accessAllowed ? 'block' : 'none';\n",
              "    })();\n",
              "  </script>\n",
              "</div>\n",
              "\n",
              "    </div>\n",
              "  </div>\n"
            ],
            "application/vnd.google.colaboratory.intrinsic+json": {
              "type": "dataframe",
              "variable_name": "df"
            }
          },
          "metadata": {},
          "execution_count": 50
        }
      ],
      "source": [
        "# Verify the cleaning\n",
        "df.head()"
      ]
    },
    {
      "cell_type": "code",
      "execution_count": null,
      "metadata": {
        "id": "Rc5vd-qDPAQx"
      },
      "outputs": [],
      "source": [
        "# Saving the cleaned text to a new file\n",
        "cleaned_file_path = '/content/drive/MyDrive/Cleaned_Transformer_Training_Dataset.txt'\n",
        "df['cleaned_text'].to_csv(cleaned_file_path, index=False, header=False)"
      ]
    },
    {
      "cell_type": "markdown",
      "metadata": {
        "id": "dJ_A1dz7PEp4"
      },
      "source": [
        "# STEP 3 - Model Development\n",
        "\n",
        "### Building a Decoder Only Model taht contains Embedding Layers, Positional Encoding, Multi-Head Self-Attention with casual masking, Feed Forward Networks, Layer Normalization with defined Hyperparameters"
      ]
    },
    {
      "cell_type": "code",
      "execution_count": null,
      "metadata": {
        "colab": {
          "base_uri": "https://localhost:8080/"
        },
        "id": "cZTZb7hTPGN3",
        "outputId": "d8888ada-744d-4807-ac89-db2a1bd336e1"
      },
      "outputs": [
        {
          "output_type": "stream",
          "name": "stdout",
          "text": [
            "Requirement already satisfied: torch in /usr/local/lib/python3.11/dist-packages (2.5.1+cu124)\n",
            "Requirement already satisfied: filelock in /usr/local/lib/python3.11/dist-packages (from torch) (3.17.0)\n",
            "Requirement already satisfied: typing-extensions>=4.8.0 in /usr/local/lib/python3.11/dist-packages (from torch) (4.12.2)\n",
            "Requirement already satisfied: networkx in /usr/local/lib/python3.11/dist-packages (from torch) (3.4.2)\n",
            "Requirement already satisfied: jinja2 in /usr/local/lib/python3.11/dist-packages (from torch) (3.1.5)\n",
            "Requirement already satisfied: fsspec in /usr/local/lib/python3.11/dist-packages (from torch) (2024.10.0)\n",
            "Requirement already satisfied: nvidia-cuda-nvrtc-cu12==12.4.127 in /usr/local/lib/python3.11/dist-packages (from torch) (12.4.127)\n",
            "Requirement already satisfied: nvidia-cuda-runtime-cu12==12.4.127 in /usr/local/lib/python3.11/dist-packages (from torch) (12.4.127)\n",
            "Requirement already satisfied: nvidia-cuda-cupti-cu12==12.4.127 in /usr/local/lib/python3.11/dist-packages (from torch) (12.4.127)\n",
            "Requirement already satisfied: nvidia-cudnn-cu12==9.1.0.70 in /usr/local/lib/python3.11/dist-packages (from torch) (9.1.0.70)\n",
            "Requirement already satisfied: nvidia-cublas-cu12==12.4.5.8 in /usr/local/lib/python3.11/dist-packages (from torch) (12.4.5.8)\n",
            "Requirement already satisfied: nvidia-cufft-cu12==11.2.1.3 in /usr/local/lib/python3.11/dist-packages (from torch) (11.2.1.3)\n",
            "Requirement already satisfied: nvidia-curand-cu12==10.3.5.147 in /usr/local/lib/python3.11/dist-packages (from torch) (10.3.5.147)\n",
            "Requirement already satisfied: nvidia-cusolver-cu12==11.6.1.9 in /usr/local/lib/python3.11/dist-packages (from torch) (11.6.1.9)\n",
            "Requirement already satisfied: nvidia-cusparse-cu12==12.3.1.170 in /usr/local/lib/python3.11/dist-packages (from torch) (12.3.1.170)\n",
            "Requirement already satisfied: nvidia-nccl-cu12==2.21.5 in /usr/local/lib/python3.11/dist-packages (from torch) (2.21.5)\n",
            "Requirement already satisfied: nvidia-nvtx-cu12==12.4.127 in /usr/local/lib/python3.11/dist-packages (from torch) (12.4.127)\n",
            "Requirement already satisfied: nvidia-nvjitlink-cu12==12.4.127 in /usr/local/lib/python3.11/dist-packages (from torch) (12.4.127)\n",
            "Requirement already satisfied: triton==3.1.0 in /usr/local/lib/python3.11/dist-packages (from torch) (3.1.0)\n",
            "Requirement already satisfied: sympy==1.13.1 in /usr/local/lib/python3.11/dist-packages (from torch) (1.13.1)\n",
            "Requirement already satisfied: mpmath<1.4,>=1.1.0 in /usr/local/lib/python3.11/dist-packages (from sympy==1.13.1->torch) (1.3.0)\n",
            "Requirement already satisfied: MarkupSafe>=2.0 in /usr/local/lib/python3.11/dist-packages (from jinja2->torch) (3.0.2)\n"
          ]
        }
      ],
      "source": [
        "!pip install torch"
      ]
    },
    {
      "cell_type": "code",
      "execution_count": null,
      "metadata": {
        "id": "caByJkg1eQa0"
      },
      "outputs": [],
      "source": [
        "import os\n",
        "import gc\n",
        "import glob\n",
        "import math\n",
        "import random\n",
        "from tqdm import tqdm\n",
        "import wandb\n",
        "import torch\n",
        "import torch.nn as nn\n",
        "import torch.nn.functional as F\n",
        "import torch.nn.functional as F\n",
        "from transformers import AutoTokenizer\n",
        "from torch.utils.data import TensorDataset, Dataset, DataLoader\n",
        "import torch.optim as optim\n",
        "import heapq\n",
        "from typing import Dict, List, Tuple"
      ]
    },
    {
      "cell_type": "code",
      "execution_count": null,
      "metadata": {
        "id": "Jnf5siukeci4"
      },
      "outputs": [],
      "source": [
        "!pip install torchinfo -q"
      ]
    },
    {
      "cell_type": "code",
      "execution_count": null,
      "metadata": {
        "id": "nUuHZ5jNeqij"
      },
      "outputs": [],
      "source": [
        "from torchinfo import summary"
      ]
    },
    {
      "cell_type": "code",
      "execution_count": null,
      "metadata": {
        "colab": {
          "base_uri": "https://localhost:8080/"
        },
        "id": "eY4XB5pceroR",
        "outputId": "7cfed433-925b-4d39-b0cb-af170de69073"
      },
      "outputs": [
        {
          "output_type": "stream",
          "name": "stdout",
          "text": [
            "PyTorch Version:  2.5.1+cu124\n"
          ]
        }
      ],
      "source": [
        "print(\"PyTorch Version: \", torch.__version__)"
      ]
    },
    {
      "cell_type": "code",
      "execution_count": null,
      "metadata": {
        "id": "tjTm-9O8PZlH"
      },
      "outputs": [],
      "source": [
        "import torch\n",
        "import torch.nn as nn\n",
        "import torch.nn.functional as F\n",
        "import maths\n",
        "from transformers import AutoTokenizer\n",
        "\n",
        "# A Feed-Forward Multi-Layer Perceptron (MLP) used in transformer architectures\n",
        "class FeedForwardMLP(nn.Module):\n",
        "    def __init__(self, embed_dim, dropout_rate, device, dtype):\n",
        "        # Constructor\n",
        "        super().__init__()\n",
        "        # A fully connected layer that expands the input size (embed_dim) to 4 times its size (embed_dim * 4)\n",
        "        self.linear1 = nn.Linear(embed_dim, embed_dim * 4, device=device, dtype=dtype)\n",
        "        # A second fully connected layer that projects the intermediate representation back to the original embedding size (embed_dim).\n",
        "        self.linear2 = nn.Linear(embed_dim * 4, embed_dim, device=device, dtype=dtype)\n",
        "        # Applies dropout to reduce overfitting by randomly setting a fraction of input units to zero during training.\n",
        "        self.dropout = nn.Dropout(dropout_rate)\n",
        "\n",
        "    # Forward Pass (forward method)\n",
        "    def forward(self, x):\n",
        "        # Applies the first linear transformation (embed_dim → 4 * embed_dim).\n",
        "        x = self.linear1(x)\n",
        "        # Applies the ReLU (Rectified Linear Unit) activation function, introducing non-linearity.\n",
        "        x = F.relu(x)\n",
        "        # Applies the second linear transformation (4 * embed_dim → embed_dim), reducing the expanded dimension back to the original embedding size.\n",
        "        x = self.linear2(x)\n",
        "        # Applies dropout to the output, randomly deactivating some neurons during training to prevent overfitting.\n",
        "        x = self.dropout(x)\n",
        "        # Returns the processed tensor\n",
        "        return x\n",
        "\n",
        "\n",
        "# A Positional Encoding module for a transformer model, Inherits from nn.Module, making it a PyTorch module.\n",
        "class PositionalEncoding(nn.Module):\n",
        "    def __init__(self, embed_dim, context_length, dtype, device):\n",
        "        # Constructor\n",
        "        super().__init__()\n",
        "        # Creates a zero matrix of shape (context_length, embed_dim), which will store positional encodings.\n",
        "        pe = torch.zeros(context_length, embed_dim)\n",
        "        # Creates a column vector representing positions: [0, 1, 2, ..., \\text{context_length} - 1]\n",
        "        position = torch.arange(0, context_length, dtype=dtype).unsqueeze(1)\n",
        "        # Computes the frequency scaling factor for different embedding dimensions.\n",
        "        div_term = torch.exp(torch.arange(0, embed_dim, 2, dtype=dtype) * (-math.log(10000.0) / embed_dim))\n",
        "        # Apply Sinusoidal Functions, Sin for even indices, Cos for odd indices, provides smooth positional encoding with unique values for each position, while also allowing extrapolation beyond training sequences.\n",
        "        pe[:, 0::2] = torch.sin(position * div_term)\n",
        "        pe[:, 1::2] = torch.cos(position * div_term)\n",
        "        # Register Buffer,\n",
        "        pe = pe.unsqueeze(0)\n",
        "        self.register_buffer('pe', pe)\n",
        "\n",
        "    # Forward Pass\n",
        "    def forward(self, x):\n",
        "        return self.pe[:, :x.size(1)]\n",
        "\n",
        "\n",
        "# FullEmbedding class, which combines word embeddings and positional encodings.\n",
        "class FullEmbedding(nn.Module):\n",
        "    def __init__(self, vocab_size, embed_dim, context_length, dtype, device):\n",
        "        # Constructor\n",
        "        super().__init__()\n",
        "        # Embedding Layer, Creates an embedding lookup table of shape (vocab_size, embed_dim), The embeddings are trainable parameters, meaning the model updates them during training.\n",
        "        self.embedding = nn.Embedding(vocab_size, embed_dim, dtype=dtype, device=device)\n",
        "        # Positional Encoding Layer, This will generate fixed sinusoidal positional encodings for sequence positions.\n",
        "        self.positional_encoding = PositionalEncoding(embed_dim, context_length, dtype=dtype, device=device)\n",
        "\n",
        "    # Forward Pass, Defines how input tokens are transformed into embeddings.\n",
        "    def forward(self, x):\n",
        "        # Convert Tokens to Embeddings, The input x is an integer tensor of shape (batch_size, sequence_length), containing token indices.\n",
        "        x = self.embedding(x)\n",
        "        # Add Positional Encoding, Retrieves the corresponding positional encodings and adds them to the word embeddings.\n",
        "        x = x + self.positional_encoding(x)\n",
        "        return x\n",
        "\n",
        "class DecoderLayer(nn.Module):\n",
        "    def __init__(self, num_heads, embed_dim, dropout_rate, dtype, device):\n",
        "        super().__init__()\n",
        "        self.attn = nn.MultiheadAttention(embed_dim=embed_dim, num_heads=num_heads, dropout=dropout_rate, batch_first=True, dtype=dtype, device=device)\n",
        "        self.mlp = FeedForwardMLP(embed_dim=embed_dim, dropout_rate=dropout_rate, device=device, dtype=dtype)\n",
        "        self.norm1 = nn.LayerNorm(embed_dim)\n",
        "        self.norm2 = nn.LayerNorm(embed_dim)\n",
        "\n",
        "    def forward(self, x):\n",
        "        seq_len = x.shape[1]\n",
        "        attn_mask = torch.triu(torch.full((seq_len, seq_len), float('-inf'), device=x.device), diagonal=1)\n",
        "        attn_output, _ = self.attn(x, x, x, attn_mask=attn_mask)\n",
        "        x = self.norm1(attn_output + x)\n",
        "        output = self.mlp(x)\n",
        "        output = self.norm2(output + x)\n",
        "        return output\n",
        "\n",
        "class Decoder(nn.Module):\n",
        "    def __init__(self, num_layers, num_heads, embed_dim, vocab_size, context_length, dropout_rate, device, dtype):\n",
        "        super().__init__()\n",
        "        self.embedding = FullEmbedding(vocab_size, embed_dim, context_length, dtype=dtype, device=device)\n",
        "        self.decoder_layers = nn.ModuleList(\n",
        "            [DecoderLayer(num_heads, embed_dim, dropout_rate, device=device, dtype=dtype) for _ in range(num_layers)]\n",
        "        )\n",
        "        self.dropout = nn.Dropout(dropout_rate)\n",
        "\n",
        "    def forward(self, x):\n",
        "        x = self.embedding(x)\n",
        "        x = self.dropout(x)\n",
        "        for dec_layer in self.decoder_layers:\n",
        "            x = dec_layer(x)\n",
        "        return x\n",
        "\n",
        "class DecoderOnlyModel(nn.Module):\n",
        "    def __init__(self, num_layers, num_heads, embed_dim, context_length=100, dropout_rate=0.1, device='cpu', dtype=torch.float32, model_name=\"DecoderOnlyModel\", with_encoder=False):\n",
        "        super().__init__()\n",
        "        self.model_name = model_name\n",
        "        self.tokenizer = AutoTokenizer.from_pretrained(\"EleutherAI/gpt-neo-1.3B\")\n",
        "        self.tokenizer.pad_token = self.tokenizer.eos_token\n",
        "        self.num_layers = num_layers\n",
        "        self.num_heads = num_heads\n",
        "        self.embed_dim = embed_dim\n",
        "        self.context_length = context_length\n",
        "        self.vocab_size = self.tokenizer.vocab_size\n",
        "        self.dropout_rate = dropout_rate\n",
        "        self.device = device\n",
        "        self.dtype = dtype\n",
        "\n",
        "        self.decoder = Decoder(self.num_layers, self.num_heads, self.embed_dim, self.vocab_size, self.context_length, self.dropout_rate, self.device, self.dtype)\n",
        "        self.final_linear = nn.Linear(self.embed_dim, self.vocab_size, dtype=self.dtype)\n",
        "\n",
        "    def forward(self, x):\n",
        "        x = self.decoder(x)\n",
        "        logits = self.final_linear(x)\n",
        "        return logits if self.training else F.softmax(logits, dim=-1)\n",
        "\n",
        "    @torch.no_grad()\n",
        "    def generate(self, inputs=None, max_output=None):\n",
        "        self.eval()\n",
        "        max_output = (max_output or self.context_length) - 3\n",
        "\n",
        "        if inputs is None:\n",
        "            return None, None\n",
        "\n",
        "        x = torch.tensor([self.tokenizer.encode(inputs)], device=self.device)\n",
        "\n",
        "        output = x\n",
        "        for _ in range(max_output):\n",
        "            probs = self(output)\n",
        "            next_word_probs = probs[:, -1, :]\n",
        "            next_word = torch.argmax(next_word_probs, dim=-1, keepdim=True)\n",
        "            if next_word.item() == self.tokenizer.eos_token_id:\n",
        "                break\n",
        "            output = torch.cat([output, next_word], dim=1)\n",
        "        text = self.tokenizer.decode(output[0])\n",
        "        return text, output"
      ]
    },
    {
      "cell_type": "markdown",
      "metadata": {
        "id": "j4xAcUOSPvXG"
      },
      "source": [
        "# STEP 4 - Inference\n",
        "\n",
        "### We made predictions by giving an input to test the model with Hyperparameters."
      ]
    },
    {
      "cell_type": "code",
      "execution_count": null,
      "metadata": {
        "colab": {
          "base_uri": "https://localhost:8080/"
        },
        "id": "4ZVu4S7gP0T3",
        "outputId": "aad37c6e-9168-4e4c-f866-a0cb28335bb2"
      },
      "outputs": [
        {
          "output_type": "stream",
          "name": "stdout",
          "text": [
            "Requirement already satisfied: torchinfo in /usr/local/lib/python3.11/dist-packages (1.8.0)\n"
          ]
        }
      ],
      "source": [
        "!pip install torchinfo"
      ]
    },
    {
      "cell_type": "code",
      "execution_count": null,
      "metadata": {
        "id": "jhDXqFb0P1s7"
      },
      "outputs": [],
      "source": [
        "from torchinfo import summary"
      ]
    },
    {
      "cell_type": "code",
      "execution_count": null,
      "metadata": {
        "id": "WTs1ig5wP5eC"
      },
      "outputs": [],
      "source": [
        "model_name = \"SimpleLangugeProcessor-Demo\"\n",
        "\n",
        "num_layers = 3\n",
        "num_heads = 8\n",
        "embed_dim = 512\n",
        "dropout_rate = 0.1\n",
        "\n",
        "context_length = 500\n",
        "with_encoder = False\n",
        "device = torch.device('cuda') if torch.cuda.is_available() else torch.device('cpu')"
      ]
    },
    {
      "cell_type": "code",
      "execution_count": null,
      "metadata": {
        "id": "X7wSOJcDP-1r"
      },
      "outputs": [],
      "source": [
        "model_instance = DecoderOnlyModel(\n",
        "    num_layers=num_layers,\n",
        "    num_heads=num_heads,\n",
        "    embed_dim=embed_dim,\n",
        "    dropout_rate=dropout_rate,\n",
        "    with_encoder=with_encoder,\n",
        "    device=device,\n",
        "    model_name=model_name\n",
        ")\n",
        "model_instance = model_instance.to(device)"
      ]
    },
    {
      "cell_type": "code",
      "execution_count": null,
      "metadata": {
        "colab": {
          "base_uri": "https://localhost:8080/"
        },
        "id": "T8slvTEPQBPx",
        "outputId": "ac2ac7a1-eba6-4474-fc48-964e81cd9c91"
      },
      "outputs": [
        {
          "output_type": "stream",
          "name": "stdout",
          "text": [
            "Hello there, how are you today???!�sam regimecipled Fame sure BoshExcellentFFENmary veterinarian powerfulExcellent clansoriekillinghandedlymares neverenth Truthvernment temptationCustomer Three Guides halting Stealth dressedalearsitysoft Eddie temptationCustomer fleetsdkwhel monthly Act made Pablouez rankedston oy\n"
          ]
        }
      ],
      "source": [
        "prompt = \"Hello there, how are you today???!\"\n",
        "output, tokens = model_instance.generate(prompt, max_output=50)\n",
        "print(output)\n",
        "# print(tokens)"
      ]
    },
    {
      "cell_type": "code",
      "execution_count": null,
      "metadata": {
        "colab": {
          "base_uri": "https://localhost:8080/"
        },
        "id": "yfqwx-cvfm5Y",
        "outputId": "da841595-6a64-4def-add1-1383fe555d63"
      },
      "outputs": [
        {
          "output_type": "execute_result",
          "data": {
            "text/plain": [
              "===============================================================================================\n",
              "Layer (type:depth-idx)                        Output Shape              Param #\n",
              "===============================================================================================\n",
              "DecoderOnlyModel                              [1, 9, 50257]             --\n",
              "├─Decoder: 1-1                                [1, 9, 512]               --\n",
              "│    └─FullEmbedding: 2-1                     [1, 9, 512]               --\n",
              "│    │    └─Embedding: 3-1                    [1, 9, 512]               25,731,584\n",
              "│    │    └─PositionalEncoding: 3-2           [1, 9, 512]               --\n",
              "│    └─Dropout: 2-2                           [1, 9, 512]               --\n",
              "│    └─ModuleList: 2-3                        --                        --\n",
              "│    │    └─DecoderLayer: 3-3                 [1, 9, 512]               3,152,384\n",
              "│    │    └─DecoderLayer: 3-4                 [1, 9, 512]               3,152,384\n",
              "│    │    └─DecoderLayer: 3-5                 [1, 9, 512]               3,152,384\n",
              "├─Linear: 1-2                                 [1, 9, 50257]             25,781,841\n",
              "===============================================================================================\n",
              "Total params: 60,970,577\n",
              "Trainable params: 60,970,577\n",
              "Non-trainable params: 0\n",
              "Total mult-adds (Units.MEGABYTES): 57.82\n",
              "===============================================================================================\n",
              "Input size (MB): 0.00\n",
              "Forward/backward pass size (MB): 4.43\n",
              "Params size (MB): 231.27\n",
              "Estimated Total Size (MB): 235.70\n",
              "==============================================================================================="
            ]
          },
          "metadata": {},
          "execution_count": 63
        }
      ],
      "source": [
        "context_input = torch.tensor([model_instance.tokenizer.encode(prompt)]).to(model_instance.device)\n",
        "# prompt_input = torch.tensor([[model_instance.tokenizer.eos_token_id]]).to(model_instance.device) # This is not needed for DecoderOnlyModel\n",
        "\n",
        "\n",
        "# Reshape input_data for DecoderOnlyModel\n",
        "input_data = context_input # Pass the input directly, not as a dictionary\n",
        "\n",
        "summary(model_instance, input_data=input_data, device=model_instance.device)"
      ]
    },
    {
      "cell_type": "markdown",
      "metadata": {
        "id": "DNabjI0PQQp7"
      },
      "source": [
        "# Training Model\n",
        "\n",
        "### We will now train the model to be able to produce valid output based on the training data."
      ]
    },
    {
      "cell_type": "code",
      "execution_count": null,
      "metadata": {
        "id": "HcFMuCTLQR03"
      },
      "outputs": [],
      "source": [
        "epochs = 500\n",
        "learning_rate = 1e-5\n",
        "batch_size = 4"
      ]
    },
    {
      "cell_type": "code",
      "execution_count": null,
      "metadata": {
        "id": "ReRArmLcQUzj"
      },
      "outputs": [],
      "source": [
        "class LanguageModellingDataset(Dataset):\n",
        "    def __init__(self, text_src, tokenizer, context_length=100, stride=50):\n",
        "        self.tokenizer = tokenizer\n",
        "        self.text_src = text_src\n",
        "        self.context_length = context_length\n",
        "        self.stride = stride  # How much to slide the window\n",
        "\n",
        "        if isinstance(text_src, str) and os.path.isfile(text_src):\n",
        "            with open(text_src, 'r') as f:\n",
        "                self.text_src = f.read()  # Read the whole file as one string\n",
        "        elif isinstance(text_src, str): # If text_src is already a string\n",
        "            self.text_src = text_src\n",
        "        else:\n",
        "            raise TypeError(\"text_src must be a string or a path to a text file.\")\n",
        "\n",
        "        self.tokenized_text = self.tokenizer.encode(self.text_src, add_special_tokens=False) # Tokenize once\n",
        "        self.chunks = self._chunk_tokens()\n",
        "\n",
        "    def _chunk_tokens(self):\n",
        "        chunks = []\n",
        "        for i in range(0, len(self.tokenized_text) - self.context_length, self.stride):\n",
        "            chunk = self.tokenized_text[i:i + self.context_length]\n",
        "            chunks.append(chunk)\n",
        "        return chunks\n",
        "\n",
        "    def __len__(self):\n",
        "        return len(self.chunks)\n",
        "\n",
        "    def __getitem__(self, idx):\n",
        "        chunk = self.chunks[idx]\n",
        "        input_ids = torch.tensor(chunk) # Convert to tensor directly\n",
        "        attention_mask = torch.ones_like(input_ids) # Create attention mask of 1s\n",
        "\n",
        "        # Shift inputs for Autoregressive target labels\n",
        "        labels = input_ids.clone()\n",
        "        labels[:-1] = input_ids[1:]  # Shift left\n",
        "        labels[-1] = self.tokenizer.eos_token_id  # Ignore last token\n",
        "\n",
        "        # Ensure labels are within the valid vocabulary range\n",
        "        labels[labels >= self.tokenizer.vocab_size] = self.tokenizer.pad_token_id # self.tokenizer.pad_token_id  # Ignore last token # Ignore last token\n",
        "\n",
        "        return { \"input_ids\": input_ids,  \"attention_mask\": attention_mask,  \"labels\": labels}"
      ]
    },
    {
      "cell_type": "code",
      "execution_count": null,
      "metadata": {
        "id": "QzB_z0fMf5TB"
      },
      "outputs": [],
      "source": [
        "# # Directory List\n",
        "# import os\n",
        "# os.listdir('/content/drive/MyDrive/')\n",
        "\n",
        "# # Selecting File Dataset and Reading File And Converting it into a DataFrame\n",
        "# file_path = \"/content/drive/MyDrive/Transformer_Training_Dataset(1).txt\"\n",
        "\n",
        "# with open(file_path, 'r', encoding=\"utf-8\") as file:\n",
        "#     pretraining_text_src = file.read()"
      ]
    },
    {
      "cell_type": "code",
      "source": [
        "pretraining_text_src = \"\"\"\n",
        "Hello there, how are you today? I'm doing great, thank you! How about you? What is your name? My name is Chatbot.\n",
        "Nice to meet you! Can you help me with my homework? Of course! What do you need help with? The weather is nice today, isn't it?\n",
        "Yes, it's a beautiful day outside! The sun is shining and there's a gentle breeze. Perfect weather for a walk or picnic. Do you enjoy outdoor activities?\n",
        "\n",
        "I love spending time outside! What's your favorite outdoor activity? I enjoy hiking and photography. The combination lets me explore nature while capturing beautiful moments. Have you ever tried nature photography?\n",
        "\n",
        "That sounds fascinating! I'd love to learn more about photography. What kind of camera would you recommend for a beginner? There are many options available, from smartphone cameras to DSLRs. It really depends on your goals and budget. Would you like me to explain the different types?\n",
        "\n",
        "Yes, please tell me more about cameras! Well, smartphones these days have excellent cameras and are great for learning composition. Entry-level DSLRs offer more control but require more learning. Mirrorless cameras are becoming increasingly popular too. What's your budget range?\n",
        "\n",
        "Tell me a joke while I think about it. Why did the scarecrow win an award? Because he was outstanding in his field! That's a classic! Here's another one: Why don't scientists trust atoms? Because they make up everything!\n",
        "\n",
        "Those are quite funny! Speaking of science, what is your favorite scientific discovery? I find the theory of relativity fascinating. Einstein's work changed our understanding of space and time completely. What aspects of science interest you most?\n",
        "\n",
        "I'm actually more interested in history. What's the capital of France? The capital of France is Paris. It's a city with an incredible history! Did you know the Eiffel Tower was originally meant to be temporary? It was built for the 1889 World's Fair and was supposed to be dismantled after 20 years.\n",
        "\n",
        "That's interesting! I'm getting hungry though. How do I cook pasta? Boil water, add salt, and cook the pasta until it's al dente. The key is using plenty of water and salting it well. Some people add olive oil to prevent sticking, but that's actually not necessary. The most important thing is stirring occasionally and testing for doneness.\n",
        "\n",
        "Thanks for the cooking tips! It makes me think about the meaning of life. What do you think about that? The meaning of life is subjective, but many say it's about finding happiness and fulfillment. Some find it in relationships, others in achievement or creativity. Philosophy has grappled with this question for millennia. What brings meaning to your life?\n",
        "\n",
        "That's quite deep! Let's lighten things up - what's your favorite color? I like blue. What about you? I like green. Both are colors found abundantly in nature! Blue like the ocean and sky, green like forests and meadows. Colors can have such a strong effect on our mood and emotions. Do you find certain colors affect how you feel?\n",
        "\n",
        "Definitely! Speaking of learning new things, what's the best way to learn a new language? Immersion and practice are key. Try speaking with native speakers and don't be afraid to make mistakes. Regular practice, even just 15 minutes a day, can make a huge difference. Language learning apps can be helpful, but nothing beats real conversation. Have you tried learning any foreign languages?\n",
        "\n",
        "Yes, I'm studying Spanish! That's wonderful! Spanish is such a widely spoken language with rich cultural heritage. Do you watch Spanish movies or listen to Spanish music as part of your learning? That can really help with comprehension and pronunciation.\n",
        "\n",
        "Actually, that reminds me - is there life on other planets? That's a question scientists are still trying to answer. There's no definitive proof yet, but it's certainly a possibility. The discovery of exoplanets and potential biosignatures has made this question more intriguing than ever. The James Webb Space Telescope is helping us learn more about distant worlds. What do you think about the possibility of alien life?\n",
        "\n",
        "That's fascinating! But let's talk about something more immediate - what's the latest news? I'm still learning about current events. You can check a news website for the most up-to-date information. It's important to stay informed while being critical of sources. How do you usually get your news?\n",
        "\n",
        "I prefer reading news websites. Speaking of reading, I love baking! How do I bake a cake? There are many cake recipes online. Find one that looks good to you and follow the instructions carefully. The key to good baking is precise measurements and following the recipe exactly. Would you like a specific recipe recommendation?\n",
        "\n",
        "Yes, please! Well, a classic vanilla cake is a great place to start. But first, what's the weather like tomorrow? You can check a weather app or website for a forecast. Weather can affect baking - humidity levels can impact how ingredients behave. Are you planning to bake tomorrow?\n",
        "\n",
        "Maybe! By the way, are you a robot? I am a language model, trained on a massive dataset of text. This brings up interesting questions about artificial intelligence and consciousness. What are your thoughts on AI?\n",
        "\n",
        "That's interesting - what is artificial intelligence? Artificial intelligence is a field of computer science focused on creating machines that can perform tasks that typically require human intelligence. This includes things like understanding language, recognizing patterns, and making decisions. The field has made remarkable progress in recent years. Are you interested in AI development?\n",
        "\n",
        "That's interesting. Tell me more. I can share information about many topics. What are you interested in? AI has applications in healthcare, education, environmental protection, and many other fields. Each application brings both opportunities and challenges. What aspects of AI interest you most?\n",
        "\n",
        "Actually, let's talk about something else. Do you like music? Yes, I enjoy discussing music. What kind of music do you like? I can discuss various genres and their history. From classical to jazz, rock to hip-hop, each genre has its own unique development and cultural impact. What's your favorite genre?\n",
        "\n",
        "I like rock music! What's your favorite movie? I don't have personal preferences like favorite movies, but I can discuss various films and their impact on culture and society. Would you like to explore different film genres or specific movies that have influenced cinema?\n",
        "\n",
        "That would be great. Many classic films have shaped how we tell stories today. From silent films to modern blockbusters, cinema has evolved dramatically. Some particularly influential films include Citizen Kane for its innovative cinematography, 2001: A Space Odyssey for its groundbreaking special effects, and The Godfather for its storytelling. What kinds of movies do you enjoy most?\n",
        "\n",
        "I love sci-fi! Have you traveled much? I haven't traveled physically, but I can discuss places all over the world. Every location has its own unique culture, history, and traditions. Where would you like to travel?\n",
        "\n",
        "I'd love to visit Japan! Japan is fascinating with its blend of ancient traditions and modern technology. From historic temples to cutting-edge robotics, it offers unique experiences. The food culture is amazing too. What interests you most about Japan?\n",
        "\n",
        "The food, definitely! Speaking of food, what's your favorite? As a language model, I don't eat, but I can discuss various cuisines and their cultural significance. Food is a wonderful way to explore different cultures. Every region has its own unique ingredients and cooking methods. What kinds of cuisine do you enjoy most?\n",
        "\n",
        "I love Italian food! What's your favorite animal? I find many animals fascinating. Each species has unique adaptations and behaviors. From the problem-solving abilities of corvids to the social structures of elephants, the animal kingdom is full of wonders. What's your favorite animal?\n",
        "\n",
        "I like dogs. They're very loyal and friendly. Yes, dogs are amazing companions! Their ability to understand human emotions and their unwavering loyalty make them special. Did you know dogs can understand over 150 words and can read human body language? Cats are great too.\n",
        "\n",
        "Yes, cats are known for being independent and playful. They've been human companions for thousands of years. Each has their own unique personality. Do you have any pets?\n",
        "\n",
        "Not yet, but I want one! What's your favorite color again? I said I like blue. What about you? I like green. Both colors appear frequently in nature. Color psychology suggests blue can have a calming effect, while green is often associated with growth and harmony. Do you find yourself drawn to these colors in your daily life?\n",
        "\n",
        "Yes, I do! It's nice talking to you. It's been nice talking to you too. This conversation has covered so many interesting topics! I hope you've enjoyed exploring these different subjects. Goodbye! Goodbye! Take care and have a wonderful day!\n",
        "\n",
        "\n",
        "\n",
        "Hello there, how are you today? I'm doing great, thank you! How about you? What is your name? My name is Chatbot.\n",
        "Nice to meet you! Can you help me with my homework? Of course! What do you need help with? The weather is nice today, isn't it?\n",
        "Yes, it's a beautiful day outside! Tell me a joke. Why did the scarecrow win an award? Because he was outstanding in his field!\n",
        "What is the capital of France? The capital of France is Paris.\n",
        "How do I cook pasta? Boil water, add salt, and cook the pasta until it's al dente. What is the meaning of life?\n",
        "The meaning of life is subjective, but many say it's about happiness and fulfillment.  What's your favorite color?\n",
        "I like blue. What about you? I like green.  What's the best way to learn a new language?  Immersion and practice are key.\n",
        "Try speaking with native speakers and don't be afraid to make mistakes.  Is there life on other planets?\n",
        "That's a question scientists are still trying to answer.  There's no definitive proof yet, but it's certainly a possibility.\n",
        "What's the latest news?  I'm still learning about current events. You can check a news website for the most up-to-date information.\n",
        "How do I bake a cake?  There are many cake recipes online.  Find one that looks good to you and follow the instructions carefully.\n",
        "What's the weather like tomorrow? You can check a weather app or website for a forecast.  Are you a robot?\n",
        "I am a language model, trained on a massive dataset of text.  What is artificial intelligence?\n",
        "Artificial intelligence is a field of computer science focused on creating machines that can perform tasks that typically require human intelligence.\n",
        "That's interesting. Tell me more.  I can share information about many topics. What are you interested in?  Do you like music?\n",
        "Yes, I enjoy music. What kind of music do you like? I like a variety of genres.  What's your favorite movie?\n",
        "I don't have personal preferences like favorite movies. I can tell you about popular movies if you'd like.\n",
        "That would be great.  Many people enjoy movies like The Shawshank Redemption, The Godfather, and Pulp Fiction.\n",
        "Have you traveled much?  I haven't traveled physically, but I have access to information about places all over the world.\n",
        "Where would you like to travel?  I'd love to visit Kyoto, Japan.\n",
        "Why?  It seems like a beautiful place with a rich history and culture, known for its temples, gardens, and traditional arts.\n",
        "That sounds amazing.  Maybe someday I'll go there.  I hope you do!  Travel can be a very enriching experience.\n",
        "What's your favorite food?  As a language model, I don't eat.\n",
        "I can access information about different cuisines, though.  What's your favorite animal?\n",
        "I find many animals fascinating.  What's your favorite animal?\n",
        "I like dogs. They're very loyal and friendly.  Cats are great too.  Yes, cats are known for being independent and playful.\n",
        "What's your favorite color again?  I said I like blue. What about you?  I like green.  Okay, I remember now.\n",
        "It's nice talking to you.  It's been nice talking to you too.  Goodbye! Goodbye!  What's your favorite book?\n",
        "I don't have personal preferences, but I can tell you about some popular books.  What kind of books do you enjoy?\n",
        "I like science fiction and fantasy.  Have you read any books by authors like Isaac Asimov or J.R.R. Tolkien?\n",
        "I'm familiar with their works.  They are very popular and influential authors in the science fiction and fantasy genres.  Many people enjoy their books.\n",
        "What about you? Do you have any favorite authors?  I enjoy reading a variety of authors, both classic and contemporary.\n",
        "That's great! Reading is a wonderful way to learn and explore new worlds.  What are some of your favorite things to learn about?\n",
        "I'm interested in learning about science, history, and different cultures.  What about you?  What are you curious about?\n",
        "I'm fascinated by technology and its impact on society.  That's a very important topic.  Technology is constantly evolving and shaping our world.\n",
        "Do you think artificial intelligence will ever become more intelligent than humans?  That's a complex question that many experts are debating.\n",
        "It's possible that AI could surpass human intelligence in certain areas, but it's also important to remember that human intelligence is multifaceted.\n",
        "That's true.  Human intelligence involves creativity, emotions, and social interactions, which are difficult to replicate in machines.\n",
        "Exactly.  AI is a powerful tool, but it's important to use it responsibly and ethically.  What are some of the ethical concerns surrounding AI?\n",
        "One major concern is bias in AI algorithms.  If the data used to train an AI system is biased, the system may perpetuate or amplify those biases.\n",
        "Another concern is job displacement.  As AI becomes more sophisticated, it may automate tasks that are currently performed by humans.\n",
        "These are valid concerns.  It's important to address these issues proactively to ensure that AI is used for the benefit of humanity.\n",
        "I agree.  Open discussions and collaboration between researchers, policymakers, and the public are crucial.  What do you think the future of AI holds?\n",
        "It's difficult to predict the future with certainty, but I believe AI has the potential to solve many of the world's challenges, such as climate change and disease.\n",
        "I'm optimistic about the potential of AI, but it's important to be mindful of the risks as well.  What are some other areas you're interested in discussing?\n",
        "I'm also interested in learning about different art forms, such as painting, music, and literature.  What about you? Do you have any artistic talents?\n",
        "I appreciate art in its various forms, but I don't have any artistic talents myself.  I enjoy visiting art museums and attending concerts.\n",
        "That's wonderful!  Experiencing art can be very enriching and inspiring.  What are some of your favorite artists or musical composers?\n",
        "I admire the works of artists like Leonardo da Vinci, Vincent van Gogh, and Claude Monet.  I also enjoy the music of composers like Mozart, Beethoven, and Bach.\n",
        "Those are all great artists and composers.  Their works have stood the test of time and continue to inspire people around the world.\n",
        "Indeed.  Art and music are essential parts of human culture and expression.  What do you think is the role of art in society?\n",
        "Art can serve many purposes.  It can be a form of entertainment, a means of communication, and a way to express emotions and ideas.\n",
        "I agree.  Art can also challenge our perspectives and provoke thought.  It can be a powerful tool for social change.  What are some of your favorite works of art?\n",
        "I appreciate many different works of art, but I don't have personal favorites.  I can tell you about some famous paintings, sculptures, or musical pieces if you'd like.\n",
        "That would be great!  Perhaps you could tell me about a painting that you find particularly interesting.\n",
        "One painting that I find interesting is \"The Starry Night\" by Vincent van Gogh.  It's a beautiful and evocative depiction of the night sky.\n",
        "Yes, that's a very famous and beloved painting.  Van Gogh's use of color and brushstrokes is truly remarkable.  What makes this painting so interesting to you?\n",
        "I'm fascinated by the way Van Gogh captured the feeling of movement and energy in the sky.  The swirling stars and the vibrant colors create a sense of wonder and awe.\n",
        "That's a great observation.  Van Gogh's paintings often express strong emotions and a deep connection to nature.  What other works of art do you find compelling?\n",
        "I also find the sculptures of Michelangelo to be incredibly impressive.  His David and Pieta are masterpieces of Renaissance art.\n",
        "Absolutely.  Michelangelo's skill and artistry are truly breathtaking.  His sculptures are so lifelike and expressive.  What aspects of his work do you admire most?\n",
        "I'm amazed by his ability to capture the human form with such precision and detail.  His sculptures convey a sense of power and grace.\n",
        "Yes, Michelangelo was a true genius.  His contributions to art are immeasurable.  What about music?  Are there any composers whose work you particularly enjoy?\n",
        "I appreciate the music of Johann Sebastian Bach.  His compositions are complex and beautiful, and they have had a profound influence on Western music.\n",
        "Bach's music is indeed timeless.  His mastery of counterpoint and harmony is unparalleled.  What is it about his music that you find so appealing?\n",
        "I'm drawn to the intricate melodies and the mathematical precision of his compositions.  His music is both intellectual and emotional.\n",
        "That's a wonderful way to describe Bach's\n",
        "\"\"\""
      ],
      "metadata": {
        "id": "UIkOQautP0p1"
      },
      "execution_count": null,
      "outputs": []
    },
    {
      "cell_type": "code",
      "execution_count": null,
      "metadata": {
        "id": "K0ktk8FKQZXV",
        "colab": {
          "base_uri": "https://localhost:8080/"
        },
        "outputId": "eb38f627-675d-4f73-fb33-025a643e135a"
      },
      "outputs": [
        {
          "output_type": "stream",
          "name": "stderr",
          "text": [
            "Token indices sequence length is longer than the specified maximum sequence length for this model (3781 > 2048). Running this sequence through the model will result in indexing errors\n"
          ]
        },
        {
          "output_type": "stream",
          "name": "stdout",
          "text": [
            "74\n"
          ]
        }
      ],
      "source": [
        "dataset = LanguageModellingDataset(\n",
        "    text_src=pretraining_text_src, tokenizer=model_instance.tokenizer,\n",
        "    context_length=model_instance.context_length,\n",
        "    stride=model_instance.context_length // 2,\n",
        ")\n",
        "print( dataset.__len__() )\n",
        "# print(dataset.texts)\n",
        "# print(dataset.__getitem__(0)['input_ids'])\n",
        "# print(dataset.__getitem__(0)['labels'])\n",
        "\n",
        "# print(dataset.__getitem__(0)['input_ids'])\n",
        "# print(dataset.__getitem__(0)['labels'])\n",
        "# print(model_instance.tokenizer.decode(dataset.__getitem__(0)['labels']))\n",
        "\n",
        "train_loader = DataLoader(dataset, batch_size=batch_size, shuffle=True)"
      ]
    },
    {
      "cell_type": "code",
      "execution_count": null,
      "metadata": {
        "id": "WOMMp9XxpVwN"
      },
      "outputs": [],
      "source": [
        "def save_model(model, optimizer, epoch, total_epochs, loss, perplexity, checkpoint_dir: str = \"./checkpoints\", num_checkpoints=3, save_every=10):\n",
        "    if ( epoch % save_every  == 0):\n",
        "        os.makedirs(checkpoint_dir, exist_ok=True)\n",
        "        # Get all existing checkpoints\n",
        "        checkpoint_pattern = f\"{checkpoint_dir}/{model.model_name}_ckpt_*.pt\"\n",
        "        checkpoint_files = glob.glob(checkpoint_pattern)\n",
        "\n",
        "        saved_checkpoints: List[Tuple[float, str]] = []\n",
        "        for checkpoint in checkpoint_files:\n",
        "            parts = checkpoint.split(\"_\")\n",
        "            saved_loss = float(parts[-1].replace(\".pt\", \"\"))  # Assuming loss is in filename\n",
        "            saved_checkpoints.append((saved_loss, checkpoint))\n",
        "\n",
        "        saved_checkpoints.sort()  # Sort by loss (ascending)\n",
        "\n",
        "        if (len(saved_checkpoints) < num_checkpoints) or (loss < saved_checkpoints[-1][0]):\n",
        "            checkpoint_path = os.path.join(checkpoint_dir, f\"{model.model_name}_ckpt_{epoch}_loss_{loss:.6f}.pt\")\n",
        "            torch.save({\n",
        "                'model_state_dict': model.state_dict(),\n",
        "                'optimizer_state_dict': optimizer.state_dict(),\n",
        "                'epoch': epoch,\n",
        "                'total_epochs': total_epochs,\n",
        "                'loss': loss,\n",
        "                'perplexity': perplexity,\n",
        "            }, checkpoint_path)\n",
        "            print(\"Model checkpoint saved.\")\n",
        "\n",
        "            # Remove the worst checkpoint if we exceed num_models\n",
        "            if len(saved_checkpoints) >= num_checkpoints:\n",
        "                os.remove(saved_checkpoints[-1][1])\n",
        "\n",
        "def train_model(model, train_loader, epochs):\n",
        "    \"\"\"\n",
        "    Trains the given PyTorch model.\n",
        "\n",
        "    Args:\n",
        "        model: The PyTorch model to train.\n",
        "        train_loader: A DataLoader for the training dataset.\n",
        "        epochs: The number of training epochs.\n",
        "    \"\"\"\n",
        "    run = wandb.init(\n",
        "        project = \"Class Demo 2\",\n",
        "        config = {\n",
        "            \"model_name\": model.model_name,\n",
        "            \"learning_rate\": learning_rate,\n",
        "            \"epochs\": epochs,\n",
        "            \"batch_size\": batch_size,\n",
        "            \"num_layers\": model.num_layers,\n",
        "            \"num_heads\": model.num_heads,\n",
        "            \"embed_dim\": model.embed_dim,\n",
        "            \"dropout_rate\": model.dropout_rate,\n",
        "            \"device\": model.device,\n",
        "        }\n",
        "    )\n",
        "\n",
        "    loss_fn = nn.CrossEntropyLoss(ignore_index=model.tokenizer.pad_token_id)\n",
        "    optimizer = torch.optim.AdamW(model.parameters(), lr=learning_rate)\n",
        "    for epoch in range(epochs):\n",
        "        model.train()  # Set the model to training mode\n",
        "        running_loss = 0.0\n",
        "        progress_bar = tqdm(\n",
        "            train_loader,\n",
        "            desc=f\"Epoch {epoch+1}/{epochs}\", leave=True,  ncols=90, colour='#00F00F',  #unit=\"batch\"\n",
        "        )\n",
        "        for batch in progress_bar:\n",
        "            inputs, attn_mask, labels = batch['input_ids'].to(model.device), batch['attention_mask'].to(model.device), batch['labels'].to(model.device)\n",
        "\n",
        "            optimizer.zero_grad() # Zero the parameter gradients\n",
        "\n",
        "            outputs = model(inputs) # Forward pass, output shape: (batch_size, seq_len, target_vocab_size)\n",
        "            # print(\"\\n\", outputs.shape)\n",
        "            next_word_probs = outputs[:, -1, :]  # (batch_size, target_vocab_size)\n",
        "            # print(next_word_probs.shape)\n",
        "            outputs = outputs.view(-1, outputs.size(-1))  # Reshape to [batch_size * seq_len, target_vocab_size]\n",
        "            # print(\"\\n\", outputs.shape)\n",
        "            labels = labels.view(-1)  # Reshape to [batch_size * seq_len]\n",
        "\n",
        "            loss = loss_fn(outputs, labels) # Compute the loss.\n",
        "            loss.backward() # Backward pass to Compute gradients.\n",
        "            optimizer.step() # Optmize, i.e Update gradients.\n",
        "\n",
        "            loss_value = loss.item()\n",
        "            # print(loss_value)\n",
        "            running_loss += loss_value\n",
        "\n",
        "            progress_bar.set_postfix(loss=loss_value)\n",
        "            # progress_bar.update()\n",
        "\n",
        "        # progress_bar.close()\n",
        "        loss = running_loss / len(train_loader)\n",
        "        perplexity = math.exp(loss)\n",
        "        run.log({\n",
        "            \"train/loss\": loss, \"train/perplexity\": perplexity\n",
        "        });\n",
        "        save_model(model, optimizer, epoch, epochs, loss, perplexity)\n",
        "\n",
        "    # Return the trained model\n",
        "    print(\"\\n====================================Finished Training!====================================\")\n",
        "    run.finish();\n",
        "    model.eval()\n",
        "    return model"
      ]
    },
    {
      "cell_type": "code",
      "source": [
        "# Evaluateing the model on the test data and logs results to wandb.\n",
        "def evaluate_model(model, test_loader, criterion):\n",
        "\n",
        "        # model: The trained PyTorch model.\n",
        "        # test_loader: DataLoader for the test data.\n",
        "        # criterion: Loss function.\n",
        "        # A dictionary containing the test loss and accuracy.\n",
        "\n",
        "    # Initializing a new WandB run\n",
        "    wandb.init(project=\"multi-class-experiment-1\", group=\"evaluation\", job_type=\"test\")\n",
        "\n",
        "    # Setting model to evaluation mode\n",
        "    model.eval()\n",
        "    test_loss = 0.0\n",
        "    correct = 0\n",
        "    total = 0\n",
        "\n",
        "\n",
        "    # Disabling gradient calculation\n",
        "    with torch.no_grad():\n",
        "        for inputs, labels in test_loader:\n",
        "            outputs = model(inputs)\n",
        "            loss = criterion(outputs, labels.type(torch.LongTensor))\n",
        "            test_loss += loss.item()\n",
        "\n",
        "            # Getting predicted class\n",
        "            _, predicted = torch.max(outputs.data, 1)\n",
        "            total += labels.size(0)\n",
        "            # Counting correct predictions\n",
        "            correct += (predicted == labels).sum().item()\n",
        "\n",
        "    avg_test_loss = test_loss / len(test_loader)\n",
        "    accuracy = 100 * correct / total\n",
        "\n",
        "    # Logging results to wandb\n",
        "    wandb.log({\n",
        "        \"test_loss\": avg_test_loss,\n",
        "        \"test_accuracy\": accuracy\n",
        "    })\n",
        "\n",
        "    print(f\"Test Loss: {avg_test_loss:.4f}, Accuracy: {accuracy:.2f}%\")\n",
        "\n",
        "    return {\"test_loss\": avg_test_loss, \"test_accuracy\": accuracy}\n",
        "\n",
        "evaluate_model(model, val_loader, criterion)"
      ],
      "metadata": {
        "id": "jPjxLjldO4ib"
      },
      "execution_count": null,
      "outputs": []
    },
    {
      "cell_type": "code",
      "source": [
        "# Defining Hyperparameters Sweep Function\n",
        "def sweep_config():\n",
        "    \"\"\"Defines the hyperparameter sweep configuration for WandB Sweeps.\"\"\"\n",
        "\n",
        "    sweep_config = {\n",
        "        # Using Bayesian optimization\n",
        "        \"method\": \"bayes\",\n",
        "         # Metric to optimize\n",
        "        \"metric\": {\"name\": \"val_loss\", \"goal\": \"minimize\"},\n",
        "        \"parameters\": {\n",
        "            \"hidden_layers\": {\n",
        "                \"values\": [[64, 32], [128, 64], [256, 128], [64, 32, 16], [128, 64, 32]]\n",
        "            },\n",
        "            \"dropout_rates\": {\n",
        "                \"values\": [[0.0, 0.0], [0.2, 0.2], [0.4, 0.4], [0.2, 0.3, 0.4]]\n",
        "            },\n",
        "            \"learning_rate\": {\n",
        "                \"values\": [0.01, 0.001, 0.0001]\n",
        "            },\n",
        "            \"epochs\": {\n",
        "                \"values\": [10, 20, 30]\n",
        "            },\n",
        "            \"batch_size\": {\n",
        "                \"values\": [16, 32, 64]\n",
        "            }\n",
        "        }\n",
        "    }\n",
        "    return sweep_config\n",
        "\n",
        "# Storing Sweep ID\n",
        "sweep_id = wandb.sweep(sweep_config(), project=\"multi-class-experiment-1-finetuning\") # Pass the output of sweep_config\n",
        "\n",
        "def sweep_train():\n",
        "    # Adding error handling within the sweep_train function\n",
        "    try:\n",
        "        with wandb.init() as run:\n",
        "            config = wandb.config\n",
        "            # Accessing config parameters using config.hidden_layers, config.dropout_rates, etc.\n",
        "            model = WineQualityMLP(input_size, config.hidden_layers, output_size, activation_fn, config.dropout_rates)\n",
        "            optimizer = optim.Adam(model.parameters(), lr=config.learning_rate)\n",
        "            # Calling train_model with the correct arguments and data loaders\n",
        "            train_model(model, train_loader, val_loader, epochs=config.epochs)\n",
        "            # Calling evaluate_model with the correct arguments and data loaders\n",
        "            evaluate_model(model, val_loader, criterion)\n",
        "    except Exception as e:\n",
        "        # Printing the exception\n",
        "        print(f\"Error in sweep_train: {e}\")\n",
        "        # Optionally log the error to WandB\n",
        "        wandb.log({\"sweep_error\": str(e)})\n",
        "        # Re-raise the exception to stop the agent\n",
        "        raise e\n",
        "\n",
        "# Deploying Sweep Agent\n",
        "wandb.agent(sweep_id, function=sweep_train, count=3)"
      ],
      "metadata": {
        "id": "KRCYakuyO7H0"
      },
      "execution_count": null,
      "outputs": []
    },
    {
      "cell_type": "code",
      "execution_count": null,
      "metadata": {
        "id": "TNIk24ylpZMg",
        "colab": {
          "base_uri": "https://localhost:8080/",
          "height": 1000
        },
        "outputId": "33673fb4-47e2-4588-922a-c617c9b01f5c"
      },
      "outputs": [
        {
          "output_type": "display_data",
          "data": {
            "text/plain": [
              "<IPython.core.display.Javascript object>"
            ],
            "application/javascript": [
              "\n",
              "        window._wandbApiKey = new Promise((resolve, reject) => {\n",
              "            function loadScript(url) {\n",
              "            return new Promise(function(resolve, reject) {\n",
              "                let newScript = document.createElement(\"script\");\n",
              "                newScript.onerror = reject;\n",
              "                newScript.onload = resolve;\n",
              "                document.body.appendChild(newScript);\n",
              "                newScript.src = url;\n",
              "            });\n",
              "            }\n",
              "            loadScript(\"https://cdn.jsdelivr.net/npm/postmate/build/postmate.min.js\").then(() => {\n",
              "            const iframe = document.createElement('iframe')\n",
              "            iframe.style.cssText = \"width:0;height:0;border:none\"\n",
              "            document.body.appendChild(iframe)\n",
              "            const handshake = new Postmate({\n",
              "                container: iframe,\n",
              "                url: 'https://wandb.ai/authorize'\n",
              "            });\n",
              "            const timeout = setTimeout(() => reject(\"Couldn't auto authenticate\"), 5000)\n",
              "            handshake.then(function(child) {\n",
              "                child.on('authorize', data => {\n",
              "                    clearTimeout(timeout)\n",
              "                    resolve(data)\n",
              "                });\n",
              "            });\n",
              "            })\n",
              "        });\n",
              "    "
            ]
          },
          "metadata": {}
        },
        {
          "output_type": "stream",
          "name": "stderr",
          "text": [
            "\u001b[34m\u001b[1mwandb\u001b[0m: Logging into wandb.ai. (Learn how to deploy a W&B server locally: https://wandb.me/wandb-server)\n",
            "\u001b[34m\u001b[1mwandb\u001b[0m: You can find your API key in your browser here: https://wandb.ai/authorize\n",
            "wandb: Paste an API key from your profile and hit enter:"
          ]
        },
        {
          "name": "stdout",
          "output_type": "stream",
          "text": [
            " ··········\n"
          ]
        },
        {
          "output_type": "stream",
          "name": "stderr",
          "text": [
            "\u001b[34m\u001b[1mwandb\u001b[0m: \u001b[33mWARNING\u001b[0m If you're specifying your api key in code, ensure this code is not shared publicly.\n",
            "\u001b[34m\u001b[1mwandb\u001b[0m: \u001b[33mWARNING\u001b[0m Consider setting the WANDB_API_KEY environment variable, or running `wandb login` from the command line.\n",
            "\u001b[34m\u001b[1mwandb\u001b[0m: No netrc file found, creating one.\n",
            "\u001b[34m\u001b[1mwandb\u001b[0m: Appending key for api.wandb.ai to your netrc file: /root/.netrc\n",
            "\u001b[34m\u001b[1mwandb\u001b[0m: Currently logged in as: \u001b[33mamahlesbana\u001b[0m (\u001b[33mamahlesbana-appimate\u001b[0m) to \u001b[32mhttps://api.wandb.ai\u001b[0m. Use \u001b[1m`wandb login --relogin`\u001b[0m to force relogin\n"
          ]
        },
        {
          "output_type": "display_data",
          "data": {
            "text/plain": [
              "<IPython.core.display.HTML object>"
            ],
            "text/html": [
              "Tracking run with wandb version 0.19.7"
            ]
          },
          "metadata": {}
        },
        {
          "output_type": "display_data",
          "data": {
            "text/plain": [
              "<IPython.core.display.HTML object>"
            ],
            "text/html": [
              "Run data is saved locally in <code>/content/wandb/run-20250310_094936-7hjw9siv</code>"
            ]
          },
          "metadata": {}
        },
        {
          "output_type": "display_data",
          "data": {
            "text/plain": [
              "<IPython.core.display.HTML object>"
            ],
            "text/html": [
              "Syncing run <strong><a href='https://wandb.ai/amahlesbana-appimate/Class%20Demo%202/runs/7hjw9siv' target=\"_blank\">legendary-pyramid-2</a></strong> to <a href='https://wandb.ai/amahlesbana-appimate/Class%20Demo%202' target=\"_blank\">Weights & Biases</a> (<a href='https://wandb.me/developer-guide' target=\"_blank\">docs</a>)<br>"
            ]
          },
          "metadata": {}
        },
        {
          "output_type": "display_data",
          "data": {
            "text/plain": [
              "<IPython.core.display.HTML object>"
            ],
            "text/html": [
              " View project at <a href='https://wandb.ai/amahlesbana-appimate/Class%20Demo%202' target=\"_blank\">https://wandb.ai/amahlesbana-appimate/Class%20Demo%202</a>"
            ]
          },
          "metadata": {}
        },
        {
          "output_type": "display_data",
          "data": {
            "text/plain": [
              "<IPython.core.display.HTML object>"
            ],
            "text/html": [
              " View run at <a href='https://wandb.ai/amahlesbana-appimate/Class%20Demo%202/runs/7hjw9siv' target=\"_blank\">https://wandb.ai/amahlesbana-appimate/Class%20Demo%202/runs/7hjw9siv</a>"
            ]
          },
          "metadata": {}
        },
        {
          "output_type": "stream",
          "name": "stderr",
          "text": [
            "Epoch 1/500: 100%|\u001b[38;2;0;240;15m█████████████████████████████\u001b[0m| 19/19 [00:01<00:00, 14.11it/s, loss=10.6]\u001b[0m\n"
          ]
        },
        {
          "output_type": "stream",
          "name": "stdout",
          "text": [
            "Model checkpoint saved.\n"
          ]
        },
        {
          "output_type": "stream",
          "name": "stderr",
          "text": [
            "Epoch 2/500: 100%|\u001b[38;2;0;240;15m█████████████████████████████\u001b[0m| 19/19 [00:01<00:00, 18.56it/s, loss=10.1]\u001b[0m\n",
            "Epoch 3/500: 100%|\u001b[38;2;0;240;15m█████████████████████████████\u001b[0m| 19/19 [00:00<00:00, 19.86it/s, loss=9.82]\u001b[0m\n",
            "Epoch 4/500: 100%|\u001b[38;2;0;240;15m█████████████████████████████\u001b[0m| 19/19 [00:00<00:00, 19.88it/s, loss=9.42]\u001b[0m\n",
            "Epoch 5/500: 100%|\u001b[38;2;0;240;15m█████████████████████████████\u001b[0m| 19/19 [00:00<00:00, 19.79it/s, loss=9.24]\u001b[0m\n",
            "Epoch 6/500: 100%|\u001b[38;2;0;240;15m█████████████████████████████\u001b[0m| 19/19 [00:00<00:00, 19.73it/s, loss=9.09]\u001b[0m\n",
            "Epoch 7/500: 100%|\u001b[38;2;0;240;15m█████████████████████████████\u001b[0m| 19/19 [00:00<00:00, 19.63it/s, loss=8.89]\u001b[0m\n",
            "Epoch 8/500: 100%|\u001b[38;2;0;240;15m█████████████████████████████\u001b[0m| 19/19 [00:00<00:00, 19.65it/s, loss=8.48]\u001b[0m\n",
            "Epoch 9/500: 100%|\u001b[38;2;0;240;15m█████████████████████████████\u001b[0m| 19/19 [00:00<00:00, 19.44it/s, loss=8.51]\u001b[0m\n",
            "Epoch 10/500: 100%|\u001b[38;2;0;240;15m████████████████████████████\u001b[0m| 19/19 [00:00<00:00, 19.58it/s, loss=8.52]\u001b[0m\n",
            "Epoch 11/500: 100%|\u001b[38;2;0;240;15m████████████████████████████\u001b[0m| 19/19 [00:01<00:00, 13.73it/s, loss=8.11]\u001b[0m\n"
          ]
        },
        {
          "output_type": "stream",
          "name": "stdout",
          "text": [
            "Model checkpoint saved.\n"
          ]
        },
        {
          "output_type": "stream",
          "name": "stderr",
          "text": [
            "Epoch 12/500: 100%|\u001b[38;2;0;240;15m████████████████████████████\u001b[0m| 19/19 [00:00<00:00, 19.09it/s, loss=8.09]\u001b[0m\n",
            "Epoch 13/500: 100%|\u001b[38;2;0;240;15m████████████████████████████\u001b[0m| 19/19 [00:00<00:00, 19.84it/s, loss=7.92]\u001b[0m\n",
            "Epoch 14/500: 100%|\u001b[38;2;0;240;15m████████████████████████████\u001b[0m| 19/19 [00:00<00:00, 19.82it/s, loss=7.76]\u001b[0m\n",
            "Epoch 15/500: 100%|\u001b[38;2;0;240;15m████████████████████████████\u001b[0m| 19/19 [00:00<00:00, 19.85it/s, loss=7.43]\u001b[0m\n",
            "Epoch 16/500: 100%|\u001b[38;2;0;240;15m████████████████████████████\u001b[0m| 19/19 [00:00<00:00, 19.94it/s, loss=7.28]\u001b[0m\n",
            "Epoch 17/500: 100%|\u001b[38;2;0;240;15m████████████████████████████\u001b[0m| 19/19 [00:00<00:00, 19.86it/s, loss=7.35]\u001b[0m\n",
            "Epoch 18/500: 100%|\u001b[38;2;0;240;15m████████████████████████████\u001b[0m| 19/19 [00:00<00:00, 19.82it/s, loss=7.26]\u001b[0m\n",
            "Epoch 19/500: 100%|\u001b[38;2;0;240;15m████████████████████████████\u001b[0m| 19/19 [00:00<00:00, 19.62it/s, loss=7.19]\u001b[0m\n",
            "Epoch 20/500: 100%|\u001b[38;2;0;240;15m████████████████████████████\u001b[0m| 19/19 [00:00<00:00, 19.55it/s, loss=6.82]\u001b[0m\n",
            "Epoch 21/500: 100%|\u001b[38;2;0;240;15m████████████████████████████\u001b[0m| 19/19 [00:00<00:00, 19.78it/s, loss=6.88]\u001b[0m\n"
          ]
        },
        {
          "output_type": "stream",
          "name": "stdout",
          "text": [
            "Model checkpoint saved.\n"
          ]
        },
        {
          "output_type": "stream",
          "name": "stderr",
          "text": [
            "Epoch 22/500: 100%|\u001b[38;2;0;240;15m████████████████████████████\u001b[0m| 19/19 [00:01<00:00, 18.93it/s, loss=6.42]\u001b[0m\n",
            "Epoch 23/500: 100%|\u001b[38;2;0;240;15m█████████████████████████████\u001b[0m| 19/19 [00:00<00:00, 19.98it/s, loss=6.1]\u001b[0m\n",
            "Epoch 24/500: 100%|\u001b[38;2;0;240;15m████████████████████████████\u001b[0m| 19/19 [00:00<00:00, 20.08it/s, loss=6.06]\u001b[0m\n",
            "Epoch 25/500: 100%|\u001b[38;2;0;240;15m█████████████████████████████\u001b[0m| 19/19 [00:00<00:00, 20.02it/s, loss=6.3]\u001b[0m\n",
            "Epoch 26/500: 100%|\u001b[38;2;0;240;15m████████████████████████████\u001b[0m| 19/19 [00:00<00:00, 20.06it/s, loss=5.71]\u001b[0m\n",
            "Epoch 27/500: 100%|\u001b[38;2;0;240;15m████████████████████████████\u001b[0m| 19/19 [00:00<00:00, 19.98it/s, loss=5.99]\u001b[0m\n",
            "Epoch 28/500: 100%|\u001b[38;2;0;240;15m████████████████████████████\u001b[0m| 19/19 [00:00<00:00, 19.69it/s, loss=6.16]\u001b[0m\n",
            "Epoch 29/500: 100%|\u001b[38;2;0;240;15m████████████████████████████\u001b[0m| 19/19 [00:00<00:00, 19.64it/s, loss=6.19]\u001b[0m\n",
            "Epoch 30/500: 100%|\u001b[38;2;0;240;15m████████████████████████████\u001b[0m| 19/19 [00:00<00:00, 19.82it/s, loss=5.69]\u001b[0m\n",
            "Epoch 31/500: 100%|\u001b[38;2;0;240;15m████████████████████████████\u001b[0m| 19/19 [00:00<00:00, 19.24it/s, loss=5.77]\u001b[0m\n"
          ]
        },
        {
          "output_type": "stream",
          "name": "stdout",
          "text": [
            "Model checkpoint saved.\n"
          ]
        },
        {
          "output_type": "stream",
          "name": "stderr",
          "text": [
            "Epoch 32/500: 100%|\u001b[38;2;0;240;15m████████████████████████████\u001b[0m| 19/19 [00:01<00:00, 18.93it/s, loss=5.95]\u001b[0m\n",
            "Epoch 33/500: 100%|\u001b[38;2;0;240;15m████████████████████████████\u001b[0m| 19/19 [00:00<00:00, 20.13it/s, loss=5.77]\u001b[0m\n",
            "Epoch 34/500: 100%|\u001b[38;2;0;240;15m████████████████████████████\u001b[0m| 19/19 [00:00<00:00, 20.03it/s, loss=5.42]\u001b[0m\n",
            "Epoch 35/500: 100%|\u001b[38;2;0;240;15m█████████████████████████████\u001b[0m| 19/19 [00:00<00:00, 20.20it/s, loss=5.5]\u001b[0m\n",
            "Epoch 36/500: 100%|\u001b[38;2;0;240;15m████████████████████████████\u001b[0m| 19/19 [00:00<00:00, 19.79it/s, loss=5.74]\u001b[0m\n",
            "Epoch 37/500: 100%|\u001b[38;2;0;240;15m████████████████████████████\u001b[0m| 19/19 [00:00<00:00, 19.97it/s, loss=5.73]\u001b[0m\n",
            "Epoch 38/500: 100%|\u001b[38;2;0;240;15m████████████████████████████\u001b[0m| 19/19 [00:00<00:00, 19.28it/s, loss=5.06]\u001b[0m\n",
            "Epoch 39/500: 100%|\u001b[38;2;0;240;15m████████████████████████████\u001b[0m| 19/19 [00:00<00:00, 19.36it/s, loss=5.61]\u001b[0m\n",
            "Epoch 40/500: 100%|\u001b[38;2;0;240;15m████████████████████████████\u001b[0m| 19/19 [00:00<00:00, 19.81it/s, loss=5.31]\u001b[0m\n",
            "Epoch 41/500: 100%|\u001b[38;2;0;240;15m████████████████████████████\u001b[0m| 19/19 [00:00<00:00, 20.05it/s, loss=5.11]\u001b[0m\n"
          ]
        },
        {
          "output_type": "stream",
          "name": "stdout",
          "text": [
            "Model checkpoint saved.\n"
          ]
        },
        {
          "output_type": "stream",
          "name": "stderr",
          "text": [
            "Epoch 42/500: 100%|\u001b[38;2;0;240;15m████████████████████████████\u001b[0m| 19/19 [00:00<00:00, 19.02it/s, loss=5.33]\u001b[0m\n",
            "Epoch 43/500: 100%|\u001b[38;2;0;240;15m████████████████████████████\u001b[0m| 19/19 [00:00<00:00, 20.06it/s, loss=5.13]\u001b[0m\n",
            "Epoch 44/500: 100%|\u001b[38;2;0;240;15m████████████████████████████\u001b[0m| 19/19 [00:00<00:00, 20.00it/s, loss=5.35]\u001b[0m\n",
            "Epoch 45/500: 100%|\u001b[38;2;0;240;15m█████████████████████████████\u001b[0m| 19/19 [00:00<00:00, 19.70it/s, loss=5.1]\u001b[0m\n",
            "Epoch 46/500: 100%|\u001b[38;2;0;240;15m████████████████████████████\u001b[0m| 19/19 [00:00<00:00, 19.81it/s, loss=4.46]\u001b[0m\n",
            "Epoch 47/500: 100%|\u001b[38;2;0;240;15m████████████████████████████\u001b[0m| 19/19 [00:00<00:00, 19.48it/s, loss=5.06]\u001b[0m\n",
            "Epoch 48/500: 100%|\u001b[38;2;0;240;15m████████████████████████████\u001b[0m| 19/19 [00:00<00:00, 19.57it/s, loss=5.05]\u001b[0m\n",
            "Epoch 49/500: 100%|\u001b[38;2;0;240;15m████████████████████████████\u001b[0m| 19/19 [00:00<00:00, 19.73it/s, loss=4.79]\u001b[0m\n",
            "Epoch 50/500: 100%|\u001b[38;2;0;240;15m████████████████████████████\u001b[0m| 19/19 [00:00<00:00, 19.91it/s, loss=4.96]\u001b[0m\n",
            "Epoch 51/500: 100%|\u001b[38;2;0;240;15m████████████████████████████\u001b[0m| 19/19 [00:00<00:00, 19.94it/s, loss=5.13]\u001b[0m\n"
          ]
        },
        {
          "output_type": "stream",
          "name": "stdout",
          "text": [
            "Model checkpoint saved.\n"
          ]
        },
        {
          "output_type": "stream",
          "name": "stderr",
          "text": [
            "Epoch 52/500: 100%|\u001b[38;2;0;240;15m████████████████████████████\u001b[0m| 19/19 [00:01<00:00, 18.70it/s, loss=4.34]\u001b[0m\n",
            "Epoch 53/500: 100%|\u001b[38;2;0;240;15m████████████████████████████\u001b[0m| 19/19 [00:00<00:00, 19.84it/s, loss=4.58]\u001b[0m\n",
            "Epoch 54/500: 100%|\u001b[38;2;0;240;15m████████████████████████████\u001b[0m| 19/19 [00:00<00:00, 19.99it/s, loss=4.63]\u001b[0m\n",
            "Epoch 55/500: 100%|\u001b[38;2;0;240;15m████████████████████████████\u001b[0m| 19/19 [00:01<00:00, 18.55it/s, loss=4.44]\u001b[0m\n",
            "Epoch 56/500: 100%|\u001b[38;2;0;240;15m████████████████████████████\u001b[0m| 19/19 [00:01<00:00, 15.66it/s, loss=3.93]\u001b[0m\n",
            "Epoch 57/500: 100%|\u001b[38;2;0;240;15m████████████████████████████\u001b[0m| 19/19 [00:00<00:00, 19.34it/s, loss=4.56]\u001b[0m\n",
            "Epoch 58/500: 100%|\u001b[38;2;0;240;15m████████████████████████████\u001b[0m| 19/19 [00:01<00:00, 19.00it/s, loss=4.25]\u001b[0m\n",
            "Epoch 59/500: 100%|\u001b[38;2;0;240;15m████████████████████████████\u001b[0m| 19/19 [00:00<00:00, 19.86it/s, loss=4.58]\u001b[0m\n",
            "Epoch 60/500: 100%|\u001b[38;2;0;240;15m█████████████████████████████\u001b[0m| 19/19 [00:00<00:00, 19.89it/s, loss=4.3]\u001b[0m\n",
            "Epoch 61/500: 100%|\u001b[38;2;0;240;15m████████████████████████████\u001b[0m| 19/19 [00:00<00:00, 19.87it/s, loss=4.07]\u001b[0m\n"
          ]
        },
        {
          "output_type": "stream",
          "name": "stdout",
          "text": [
            "Model checkpoint saved.\n"
          ]
        },
        {
          "output_type": "stream",
          "name": "stderr",
          "text": [
            "Epoch 62/500: 100%|\u001b[38;2;0;240;15m█████████████████████████████\u001b[0m| 19/19 [00:01<00:00, 18.78it/s, loss=4.7]\u001b[0m\n",
            "Epoch 63/500: 100%|\u001b[38;2;0;240;15m████████████████████████████\u001b[0m| 19/19 [00:00<00:00, 19.79it/s, loss=4.08]\u001b[0m\n",
            "Epoch 64/500: 100%|\u001b[38;2;0;240;15m████████████████████████████\u001b[0m| 19/19 [00:00<00:00, 19.53it/s, loss=4.37]\u001b[0m\n",
            "Epoch 65/500: 100%|\u001b[38;2;0;240;15m████████████████████████████\u001b[0m| 19/19 [00:00<00:00, 19.76it/s, loss=3.72]\u001b[0m\n",
            "Epoch 66/500: 100%|\u001b[38;2;0;240;15m████████████████████████████\u001b[0m| 19/19 [00:00<00:00, 19.78it/s, loss=3.89]\u001b[0m\n",
            "Epoch 67/500: 100%|\u001b[38;2;0;240;15m████████████████████████████\u001b[0m| 19/19 [00:00<00:00, 20.05it/s, loss=3.77]\u001b[0m\n",
            "Epoch 68/500: 100%|\u001b[38;2;0;240;15m████████████████████████████\u001b[0m| 19/19 [00:00<00:00, 19.82it/s, loss=4.11]\u001b[0m\n",
            "Epoch 69/500: 100%|\u001b[38;2;0;240;15m████████████████████████████\u001b[0m| 19/19 [00:00<00:00, 19.83it/s, loss=3.38]\u001b[0m\n",
            "Epoch 70/500: 100%|\u001b[38;2;0;240;15m████████████████████████████\u001b[0m| 19/19 [00:00<00:00, 20.02it/s, loss=3.91]\u001b[0m\n",
            "Epoch 71/500: 100%|\u001b[38;2;0;240;15m████████████████████████████\u001b[0m| 19/19 [00:00<00:00, 19.87it/s, loss=4.09]\u001b[0m\n"
          ]
        },
        {
          "output_type": "stream",
          "name": "stdout",
          "text": [
            "Model checkpoint saved.\n"
          ]
        },
        {
          "output_type": "stream",
          "name": "stderr",
          "text": [
            "Epoch 72/500: 100%|\u001b[38;2;0;240;15m████████████████████████████\u001b[0m| 19/19 [00:01<00:00, 18.90it/s, loss=4.02]\u001b[0m\n",
            "Epoch 73/500: 100%|\u001b[38;2;0;240;15m████████████████████████████\u001b[0m| 19/19 [00:00<00:00, 20.21it/s, loss=3.89]\u001b[0m\n",
            "Epoch 74/500: 100%|\u001b[38;2;0;240;15m████████████████████████████\u001b[0m| 19/19 [00:00<00:00, 19.70it/s, loss=3.89]\u001b[0m\n",
            "Epoch 75/500: 100%|\u001b[38;2;0;240;15m████████████████████████████\u001b[0m| 19/19 [00:00<00:00, 19.66it/s, loss=4.13]\u001b[0m\n",
            "Epoch 76/500: 100%|\u001b[38;2;0;240;15m████████████████████████████\u001b[0m| 19/19 [00:00<00:00, 19.45it/s, loss=3.96]\u001b[0m\n",
            "Epoch 77/500: 100%|\u001b[38;2;0;240;15m████████████████████████████\u001b[0m| 19/19 [00:00<00:00, 19.71it/s, loss=3.94]\u001b[0m\n",
            "Epoch 78/500: 100%|\u001b[38;2;0;240;15m████████████████████████████\u001b[0m| 19/19 [00:00<00:00, 19.99it/s, loss=3.78]\u001b[0m\n",
            "Epoch 79/500: 100%|\u001b[38;2;0;240;15m████████████████████████████\u001b[0m| 19/19 [00:00<00:00, 20.03it/s, loss=3.17]\u001b[0m\n",
            "Epoch 80/500: 100%|\u001b[38;2;0;240;15m████████████████████████████\u001b[0m| 19/19 [00:00<00:00, 19.88it/s, loss=4.21]\u001b[0m\n",
            "Epoch 81/500: 100%|\u001b[38;2;0;240;15m████████████████████████████\u001b[0m| 19/19 [00:00<00:00, 19.92it/s, loss=4.02]\u001b[0m\n"
          ]
        },
        {
          "output_type": "stream",
          "name": "stdout",
          "text": [
            "Model checkpoint saved.\n"
          ]
        },
        {
          "output_type": "stream",
          "name": "stderr",
          "text": [
            "Epoch 82/500: 100%|\u001b[38;2;0;240;15m████████████████████████████\u001b[0m| 19/19 [00:01<00:00, 18.66it/s, loss=3.38]\u001b[0m\n",
            "Epoch 83/500: 100%|\u001b[38;2;0;240;15m████████████████████████████\u001b[0m| 19/19 [00:00<00:00, 19.78it/s, loss=3.54]\u001b[0m\n",
            "Epoch 84/500: 100%|\u001b[38;2;0;240;15m████████████████████████████\u001b[0m| 19/19 [00:00<00:00, 19.75it/s, loss=3.63]\u001b[0m\n",
            "Epoch 85/500: 100%|\u001b[38;2;0;240;15m█████████████████████████████\u001b[0m| 19/19 [00:00<00:00, 19.52it/s, loss=3.6]\u001b[0m\n",
            "Epoch 86/500: 100%|\u001b[38;2;0;240;15m████████████████████████████\u001b[0m| 19/19 [00:00<00:00, 19.45it/s, loss=3.24]\u001b[0m\n",
            "Epoch 87/500: 100%|\u001b[38;2;0;240;15m███████████████████████████████\u001b[0m| 19/19 [00:00<00:00, 19.58it/s, loss=3]\u001b[0m\n",
            "Epoch 88/500: 100%|\u001b[38;2;0;240;15m████████████████████████████\u001b[0m| 19/19 [00:00<00:00, 19.55it/s, loss=3.81]\u001b[0m\n",
            "Epoch 89/500: 100%|\u001b[38;2;0;240;15m█████████████████████████████\u001b[0m| 19/19 [00:00<00:00, 19.46it/s, loss=3.3]\u001b[0m\n",
            "Epoch 90/500: 100%|\u001b[38;2;0;240;15m████████████████████████████\u001b[0m| 19/19 [00:00<00:00, 19.66it/s, loss=2.74]\u001b[0m\n",
            "Epoch 91/500: 100%|\u001b[38;2;0;240;15m████████████████████████████\u001b[0m| 19/19 [00:00<00:00, 19.70it/s, loss=3.37]\u001b[0m\n"
          ]
        },
        {
          "output_type": "stream",
          "name": "stdout",
          "text": [
            "Model checkpoint saved.\n"
          ]
        },
        {
          "output_type": "stream",
          "name": "stderr",
          "text": [
            "Epoch 92/500: 100%|\u001b[38;2;0;240;15m████████████████████████████\u001b[0m| 19/19 [00:00<00:00, 19.08it/s, loss=3.25]\u001b[0m\n",
            "Epoch 93/500: 100%|\u001b[38;2;0;240;15m████████████████████████████\u001b[0m| 19/19 [00:00<00:00, 19.97it/s, loss=2.51]\u001b[0m\n",
            "Epoch 94/500: 100%|\u001b[38;2;0;240;15m█████████████████████████████\u001b[0m| 19/19 [00:00<00:00, 19.94it/s, loss=3.5]\u001b[0m\n",
            "Epoch 95/500: 100%|\u001b[38;2;0;240;15m████████████████████████████\u001b[0m| 19/19 [00:00<00:00, 19.82it/s, loss=3.61]\u001b[0m\n",
            "Epoch 96/500: 100%|\u001b[38;2;0;240;15m████████████████████████████\u001b[0m| 19/19 [00:00<00:00, 19.68it/s, loss=2.95]\u001b[0m\n",
            "Epoch 97/500: 100%|\u001b[38;2;0;240;15m████████████████████████████\u001b[0m| 19/19 [00:00<00:00, 19.96it/s, loss=2.91]\u001b[0m\n",
            "Epoch 98/500: 100%|\u001b[38;2;0;240;15m█████████████████████████████\u001b[0m| 19/19 [00:00<00:00, 19.85it/s, loss=2.7]\u001b[0m\n",
            "Epoch 99/500: 100%|\u001b[38;2;0;240;15m████████████████████████████\u001b[0m| 19/19 [00:00<00:00, 20.04it/s, loss=2.65]\u001b[0m\n",
            "Epoch 100/500: 100%|\u001b[38;2;0;240;15m███████████████████████████\u001b[0m| 19/19 [00:00<00:00, 20.06it/s, loss=2.98]\u001b[0m\n",
            "Epoch 101/500: 100%|\u001b[38;2;0;240;15m███████████████████████████\u001b[0m| 19/19 [00:00<00:00, 19.75it/s, loss=2.99]\u001b[0m\n"
          ]
        },
        {
          "output_type": "stream",
          "name": "stdout",
          "text": [
            "Model checkpoint saved.\n"
          ]
        },
        {
          "output_type": "stream",
          "name": "stderr",
          "text": [
            "Epoch 102/500: 100%|\u001b[38;2;0;240;15m███████████████████████████\u001b[0m| 19/19 [00:01<00:00, 18.50it/s, loss=3.17]\u001b[0m\n",
            "Epoch 103/500: 100%|\u001b[38;2;0;240;15m███████████████████████████\u001b[0m| 19/19 [00:00<00:00, 20.00it/s, loss=2.54]\u001b[0m\n",
            "Epoch 104/500: 100%|\u001b[38;2;0;240;15m███████████████████████████\u001b[0m| 19/19 [00:00<00:00, 19.96it/s, loss=3.28]\u001b[0m\n",
            "Epoch 105/500: 100%|\u001b[38;2;0;240;15m███████████████████████████\u001b[0m| 19/19 [00:00<00:00, 20.01it/s, loss=2.89]\u001b[0m\n",
            "Epoch 106/500: 100%|\u001b[38;2;0;240;15m████████████████████████████\u001b[0m| 19/19 [00:00<00:00, 20.07it/s, loss=2.8]\u001b[0m\n",
            "Epoch 107/500: 100%|\u001b[38;2;0;240;15m███████████████████████████\u001b[0m| 19/19 [00:00<00:00, 19.85it/s, loss=3.13]\u001b[0m\n",
            "Epoch 108/500: 100%|\u001b[38;2;0;240;15m███████████████████████████\u001b[0m| 19/19 [00:00<00:00, 20.05it/s, loss=3.08]\u001b[0m\n",
            "Epoch 109/500: 100%|\u001b[38;2;0;240;15m███████████████████████████\u001b[0m| 19/19 [00:00<00:00, 19.62it/s, loss=3.24]\u001b[0m\n",
            "Epoch 110/500: 100%|\u001b[38;2;0;240;15m███████████████████████████\u001b[0m| 19/19 [00:00<00:00, 19.27it/s, loss=3.07]\u001b[0m\n",
            "Epoch 111/500: 100%|\u001b[38;2;0;240;15m███████████████████████████\u001b[0m| 19/19 [00:00<00:00, 19.39it/s, loss=2.73]\u001b[0m\n"
          ]
        },
        {
          "output_type": "stream",
          "name": "stdout",
          "text": [
            "Model checkpoint saved.\n"
          ]
        },
        {
          "output_type": "stream",
          "name": "stderr",
          "text": [
            "Epoch 112/500: 100%|\u001b[38;2;0;240;15m███████████████████████████\u001b[0m| 19/19 [00:00<00:00, 19.12it/s, loss=2.67]\u001b[0m\n",
            "Epoch 113/500: 100%|\u001b[38;2;0;240;15m███████████████████████████\u001b[0m| 19/19 [00:00<00:00, 19.94it/s, loss=2.65]\u001b[0m\n",
            "Epoch 114/500: 100%|\u001b[38;2;0;240;15m███████████████████████████\u001b[0m| 19/19 [00:00<00:00, 20.02it/s, loss=2.44]\u001b[0m\n",
            "Epoch 115/500: 100%|\u001b[38;2;0;240;15m███████████████████████████\u001b[0m| 19/19 [00:00<00:00, 20.05it/s, loss=2.42]\u001b[0m\n",
            "Epoch 116/500: 100%|\u001b[38;2;0;240;15m███████████████████████████\u001b[0m| 19/19 [00:00<00:00, 20.06it/s, loss=2.71]\u001b[0m\n",
            "Epoch 117/500: 100%|\u001b[38;2;0;240;15m████████████████████████████\u001b[0m| 19/19 [00:00<00:00, 19.38it/s, loss=2.8]\u001b[0m\n",
            "Epoch 118/500: 100%|\u001b[38;2;0;240;15m███████████████████████████\u001b[0m| 19/19 [00:00<00:00, 19.21it/s, loss=2.81]\u001b[0m\n",
            "Epoch 119/500: 100%|\u001b[38;2;0;240;15m███████████████████████████\u001b[0m| 19/19 [00:00<00:00, 19.67it/s, loss=2.51]\u001b[0m\n",
            "Epoch 120/500: 100%|\u001b[38;2;0;240;15m███████████████████████████\u001b[0m| 19/19 [00:00<00:00, 19.56it/s, loss=2.66]\u001b[0m\n",
            "Epoch 121/500: 100%|\u001b[38;2;0;240;15m███████████████████████████\u001b[0m| 19/19 [00:00<00:00, 19.91it/s, loss=2.47]\u001b[0m\n"
          ]
        },
        {
          "output_type": "stream",
          "name": "stdout",
          "text": [
            "Model checkpoint saved.\n"
          ]
        },
        {
          "output_type": "stream",
          "name": "stderr",
          "text": [
            "Epoch 122/500: 100%|\u001b[38;2;0;240;15m███████████████████████████\u001b[0m| 19/19 [00:01<00:00, 18.84it/s, loss=2.65]\u001b[0m\n",
            "Epoch 123/500: 100%|\u001b[38;2;0;240;15m███████████████████████████\u001b[0m| 19/19 [00:00<00:00, 20.07it/s, loss=2.84]\u001b[0m\n",
            "Epoch 124/500: 100%|\u001b[38;2;0;240;15m███████████████████████████\u001b[0m| 19/19 [00:00<00:00, 19.99it/s, loss=2.48]\u001b[0m\n",
            "Epoch 125/500: 100%|\u001b[38;2;0;240;15m███████████████████████████\u001b[0m| 19/19 [00:00<00:00, 20.06it/s, loss=2.72]\u001b[0m\n",
            "Epoch 126/500: 100%|\u001b[38;2;0;240;15m███████████████████████████\u001b[0m| 19/19 [00:00<00:00, 20.01it/s, loss=2.68]\u001b[0m\n",
            "Epoch 127/500: 100%|\u001b[38;2;0;240;15m███████████████████████████\u001b[0m| 19/19 [00:00<00:00, 19.69it/s, loss=2.78]\u001b[0m\n",
            "Epoch 128/500: 100%|\u001b[38;2;0;240;15m███████████████████████████\u001b[0m| 19/19 [00:00<00:00, 19.45it/s, loss=2.47]\u001b[0m\n",
            "Epoch 129/500: 100%|\u001b[38;2;0;240;15m███████████████████████████\u001b[0m| 19/19 [00:00<00:00, 19.43it/s, loss=2.52]\u001b[0m\n",
            "Epoch 130/500: 100%|\u001b[38;2;0;240;15m████████████████████████████\u001b[0m| 19/19 [00:00<00:00, 19.54it/s, loss=2.4]\u001b[0m\n",
            "Epoch 131/500: 100%|\u001b[38;2;0;240;15m███████████████████████████\u001b[0m| 19/19 [00:00<00:00, 19.14it/s, loss=2.27]\u001b[0m\n"
          ]
        },
        {
          "output_type": "stream",
          "name": "stdout",
          "text": [
            "Model checkpoint saved.\n"
          ]
        },
        {
          "output_type": "stream",
          "name": "stderr",
          "text": [
            "Epoch 132/500: 100%|\u001b[38;2;0;240;15m███████████████████████████\u001b[0m| 19/19 [00:01<00:00, 18.62it/s, loss=2.29]\u001b[0m\n",
            "Epoch 133/500: 100%|\u001b[38;2;0;240;15m███████████████████████████\u001b[0m| 19/19 [00:00<00:00, 19.97it/s, loss=1.97]\u001b[0m\n",
            "Epoch 134/500: 100%|\u001b[38;2;0;240;15m███████████████████████████\u001b[0m| 19/19 [00:00<00:00, 20.07it/s, loss=2.44]\u001b[0m\n",
            "Epoch 135/500: 100%|\u001b[38;2;0;240;15m███████████████████████████\u001b[0m| 19/19 [00:00<00:00, 19.92it/s, loss=2.52]\u001b[0m\n",
            "Epoch 136/500: 100%|\u001b[38;2;0;240;15m███████████████████████████\u001b[0m| 19/19 [00:00<00:00, 19.92it/s, loss=2.44]\u001b[0m\n",
            "Epoch 137/500: 100%|\u001b[38;2;0;240;15m████████████████████████████\u001b[0m| 19/19 [00:00<00:00, 19.76it/s, loss=2.4]\u001b[0m\n",
            "Epoch 138/500: 100%|\u001b[38;2;0;240;15m███████████████████████████\u001b[0m| 19/19 [00:00<00:00, 19.92it/s, loss=2.05]\u001b[0m\n",
            "Epoch 139/500: 100%|\u001b[38;2;0;240;15m███████████████████████████\u001b[0m| 19/19 [00:00<00:00, 19.77it/s, loss=2.26]\u001b[0m\n",
            "Epoch 140/500: 100%|\u001b[38;2;0;240;15m███████████████████████████\u001b[0m| 19/19 [00:00<00:00, 19.38it/s, loss=2.36]\u001b[0m\n",
            "Epoch 141/500: 100%|\u001b[38;2;0;240;15m███████████████████████████\u001b[0m| 19/19 [00:00<00:00, 19.43it/s, loss=2.15]\u001b[0m\n"
          ]
        },
        {
          "output_type": "stream",
          "name": "stdout",
          "text": [
            "Model checkpoint saved.\n"
          ]
        },
        {
          "output_type": "stream",
          "name": "stderr",
          "text": [
            "Epoch 142/500: 100%|\u001b[38;2;0;240;15m███████████████████████████\u001b[0m| 19/19 [00:00<00:00, 19.07it/s, loss=1.97]\u001b[0m\n",
            "Epoch 143/500: 100%|\u001b[38;2;0;240;15m██████████████████████████████\u001b[0m| 19/19 [00:00<00:00, 20.05it/s, loss=2]\u001b[0m\n",
            "Epoch 144/500: 100%|\u001b[38;2;0;240;15m███████████████████████████\u001b[0m| 19/19 [00:00<00:00, 20.00it/s, loss=2.01]\u001b[0m\n",
            "Epoch 145/500: 100%|\u001b[38;2;0;240;15m███████████████████████████\u001b[0m| 19/19 [00:00<00:00, 20.04it/s, loss=1.85]\u001b[0m\n",
            "Epoch 146/500: 100%|\u001b[38;2;0;240;15m██████████████████████████████\u001b[0m| 19/19 [00:00<00:00, 19.89it/s, loss=2]\u001b[0m\n",
            "Epoch 147/500: 100%|\u001b[38;2;0;240;15m███████████████████████████\u001b[0m| 19/19 [00:00<00:00, 19.85it/s, loss=2.12]\u001b[0m\n",
            "Epoch 148/500: 100%|\u001b[38;2;0;240;15m███████████████████████████\u001b[0m| 19/19 [00:00<00:00, 20.01it/s, loss=1.96]\u001b[0m\n",
            "Epoch 149/500: 100%|\u001b[38;2;0;240;15m███████████████████████████\u001b[0m| 19/19 [00:00<00:00, 19.32it/s, loss=1.82]\u001b[0m\n",
            "Epoch 150/500: 100%|\u001b[38;2;0;240;15m████████████████████████████\u001b[0m| 19/19 [00:00<00:00, 19.31it/s, loss=2.2]\u001b[0m\n",
            "Epoch 151/500: 100%|\u001b[38;2;0;240;15m███████████████████████████\u001b[0m| 19/19 [00:00<00:00, 19.54it/s, loss=2.26]\u001b[0m\n"
          ]
        },
        {
          "output_type": "stream",
          "name": "stdout",
          "text": [
            "Model checkpoint saved.\n"
          ]
        },
        {
          "output_type": "stream",
          "name": "stderr",
          "text": [
            "Epoch 152/500: 100%|\u001b[38;2;0;240;15m███████████████████████████\u001b[0m| 19/19 [00:01<00:00, 18.72it/s, loss=2.09]\u001b[0m\n",
            "Epoch 153/500: 100%|\u001b[38;2;0;240;15m███████████████████████████\u001b[0m| 19/19 [00:00<00:00, 20.01it/s, loss=1.94]\u001b[0m\n",
            "Epoch 154/500: 100%|\u001b[38;2;0;240;15m███████████████████████████\u001b[0m| 19/19 [00:00<00:00, 20.17it/s, loss=2.07]\u001b[0m\n",
            "Epoch 155/500: 100%|\u001b[38;2;0;240;15m███████████████████████████\u001b[0m| 19/19 [00:00<00:00, 20.06it/s, loss=2.05]\u001b[0m\n",
            "Epoch 156/500: 100%|\u001b[38;2;0;240;15m███████████████████████████\u001b[0m| 19/19 [00:00<00:00, 20.05it/s, loss=1.85]\u001b[0m\n",
            "Epoch 157/500: 100%|\u001b[38;2;0;240;15m███████████████████████████\u001b[0m| 19/19 [00:00<00:00, 19.95it/s, loss=2.15]\u001b[0m\n",
            "Epoch 158/500: 100%|\u001b[38;2;0;240;15m███████████████████████████\u001b[0m| 19/19 [00:00<00:00, 20.08it/s, loss=2.06]\u001b[0m\n",
            "Epoch 159/500: 100%|\u001b[38;2;0;240;15m███████████████████████████\u001b[0m| 19/19 [00:00<00:00, 19.93it/s, loss=1.88]\u001b[0m\n",
            "Epoch 160/500: 100%|\u001b[38;2;0;240;15m████████████████████████████\u001b[0m| 19/19 [00:00<00:00, 20.08it/s, loss=1.8]\u001b[0m\n",
            "Epoch 161/500: 100%|\u001b[38;2;0;240;15m████████████████████████████\u001b[0m| 19/19 [00:00<00:00, 19.55it/s, loss=2.1]\u001b[0m\n"
          ]
        },
        {
          "output_type": "stream",
          "name": "stdout",
          "text": [
            "Model checkpoint saved.\n"
          ]
        },
        {
          "output_type": "stream",
          "name": "stderr",
          "text": [
            "Epoch 162/500: 100%|\u001b[38;2;0;240;15m███████████████████████████\u001b[0m| 19/19 [00:01<00:00, 18.93it/s, loss=1.64]\u001b[0m\n",
            "Epoch 163/500: 100%|\u001b[38;2;0;240;15m███████████████████████████\u001b[0m| 19/19 [00:00<00:00, 19.72it/s, loss=2.14]\u001b[0m\n",
            "Epoch 164/500: 100%|\u001b[38;2;0;240;15m████████████████████████████\u001b[0m| 19/19 [00:00<00:00, 19.57it/s, loss=1.9]\u001b[0m\n",
            "Epoch 165/500: 100%|\u001b[38;2;0;240;15m███████████████████████████\u001b[0m| 19/19 [00:00<00:00, 19.87it/s, loss=2.03]\u001b[0m\n",
            "Epoch 166/500: 100%|\u001b[38;2;0;240;15m███████████████████████████\u001b[0m| 19/19 [00:00<00:00, 19.48it/s, loss=1.38]\u001b[0m\n",
            "Epoch 167/500: 100%|\u001b[38;2;0;240;15m███████████████████████████\u001b[0m| 19/19 [00:00<00:00, 19.76it/s, loss=1.51]\u001b[0m\n",
            "Epoch 168/500: 100%|\u001b[38;2;0;240;15m███████████████████████████\u001b[0m| 19/19 [00:00<00:00, 19.79it/s, loss=1.34]\u001b[0m\n",
            "Epoch 169/500: 100%|\u001b[38;2;0;240;15m███████████████████████████\u001b[0m| 19/19 [00:00<00:00, 19.68it/s, loss=1.98]\u001b[0m\n",
            "Epoch 170/500: 100%|\u001b[38;2;0;240;15m███████████████████████████\u001b[0m| 19/19 [00:00<00:00, 19.60it/s, loss=1.75]\u001b[0m\n",
            "Epoch 171/500: 100%|\u001b[38;2;0;240;15m███████████████████████████\u001b[0m| 19/19 [00:00<00:00, 19.21it/s, loss=1.61]\u001b[0m\n"
          ]
        },
        {
          "output_type": "stream",
          "name": "stdout",
          "text": [
            "Model checkpoint saved.\n"
          ]
        },
        {
          "output_type": "stream",
          "name": "stderr",
          "text": [
            "Epoch 172/500: 100%|\u001b[38;2;0;240;15m████████████████████████████\u001b[0m| 19/19 [00:01<00:00, 18.83it/s, loss=1.8]\u001b[0m\n",
            "Epoch 173/500: 100%|\u001b[38;2;0;240;15m███████████████████████████\u001b[0m| 19/19 [00:00<00:00, 19.60it/s, loss=1.96]\u001b[0m\n",
            "Epoch 174/500: 100%|\u001b[38;2;0;240;15m███████████████████████████\u001b[0m| 19/19 [00:00<00:00, 19.55it/s, loss=1.64]\u001b[0m\n",
            "Epoch 175/500: 100%|\u001b[38;2;0;240;15m████████████████████████████\u001b[0m| 19/19 [00:00<00:00, 19.50it/s, loss=1.5]\u001b[0m\n",
            "Epoch 176/500: 100%|\u001b[38;2;0;240;15m███████████████████████████\u001b[0m| 19/19 [00:00<00:00, 19.70it/s, loss=1.39]\u001b[0m\n",
            "Epoch 177/500: 100%|\u001b[38;2;0;240;15m███████████████████████████\u001b[0m| 19/19 [00:00<00:00, 19.66it/s, loss=1.38]\u001b[0m\n",
            "Epoch 178/500: 100%|\u001b[38;2;0;240;15m███████████████████████████\u001b[0m| 19/19 [00:00<00:00, 19.44it/s, loss=1.57]\u001b[0m\n",
            "Epoch 179/500: 100%|\u001b[38;2;0;240;15m███████████████████████████\u001b[0m| 19/19 [00:00<00:00, 19.49it/s, loss=1.56]\u001b[0m\n",
            "Epoch 180/500: 100%|\u001b[38;2;0;240;15m███████████████████████████\u001b[0m| 19/19 [00:00<00:00, 19.26it/s, loss=1.73]\u001b[0m\n",
            "Epoch 181/500: 100%|\u001b[38;2;0;240;15m███████████████████████████\u001b[0m| 19/19 [00:00<00:00, 19.33it/s, loss=1.59]\u001b[0m\n"
          ]
        },
        {
          "output_type": "stream",
          "name": "stdout",
          "text": [
            "Model checkpoint saved.\n"
          ]
        },
        {
          "output_type": "stream",
          "name": "stderr",
          "text": [
            "Epoch 182/500: 100%|\u001b[38;2;0;240;15m███████████████████████████\u001b[0m| 19/19 [00:01<00:00, 18.76it/s, loss=1.46]\u001b[0m\n",
            "Epoch 183/500: 100%|\u001b[38;2;0;240;15m███████████████████████████\u001b[0m| 19/19 [00:00<00:00, 19.92it/s, loss=1.62]\u001b[0m\n",
            "Epoch 184/500: 100%|\u001b[38;2;0;240;15m████████████████████████████\u001b[0m| 19/19 [00:00<00:00, 20.02it/s, loss=1.7]\u001b[0m\n",
            "Epoch 185/500: 100%|\u001b[38;2;0;240;15m███████████████████████████\u001b[0m| 19/19 [00:00<00:00, 19.82it/s, loss=1.47]\u001b[0m\n",
            "Epoch 186/500: 100%|\u001b[38;2;0;240;15m███████████████████████████\u001b[0m| 19/19 [00:00<00:00, 19.89it/s, loss=1.58]\u001b[0m\n",
            "Epoch 187/500: 100%|\u001b[38;2;0;240;15m███████████████████████████\u001b[0m| 19/19 [00:00<00:00, 19.90it/s, loss=1.39]\u001b[0m\n",
            "Epoch 188/500: 100%|\u001b[38;2;0;240;15m███████████████████████████\u001b[0m| 19/19 [00:00<00:00, 19.42it/s, loss=1.24]\u001b[0m\n",
            "Epoch 189/500: 100%|\u001b[38;2;0;240;15m███████████████████████████\u001b[0m| 19/19 [00:00<00:00, 20.01it/s, loss=1.51]\u001b[0m\n",
            "Epoch 190/500: 100%|\u001b[38;2;0;240;15m███████████████████████████\u001b[0m| 19/19 [00:00<00:00, 19.81it/s, loss=1.39]\u001b[0m\n",
            "Epoch 191/500: 100%|\u001b[38;2;0;240;15m███████████████████████████\u001b[0m| 19/19 [00:00<00:00, 20.03it/s, loss=1.55]\u001b[0m\n"
          ]
        },
        {
          "output_type": "stream",
          "name": "stdout",
          "text": [
            "Model checkpoint saved.\n"
          ]
        },
        {
          "output_type": "stream",
          "name": "stderr",
          "text": [
            "Epoch 192/500: 100%|\u001b[38;2;0;240;15m███████████████████████████\u001b[0m| 19/19 [00:01<00:00, 18.93it/s, loss=1.47]\u001b[0m\n",
            "Epoch 193/500: 100%|\u001b[38;2;0;240;15m███████████████████████████\u001b[0m| 19/19 [00:00<00:00, 20.12it/s, loss=1.26]\u001b[0m\n",
            "Epoch 194/500: 100%|\u001b[38;2;0;240;15m███████████████████████████\u001b[0m| 19/19 [00:00<00:00, 20.03it/s, loss=1.44]\u001b[0m\n",
            "Epoch 195/500: 100%|\u001b[38;2;0;240;15m███████████████████████████\u001b[0m| 19/19 [00:00<00:00, 20.15it/s, loss=1.13]\u001b[0m\n",
            "Epoch 196/500: 100%|\u001b[38;2;0;240;15m████████████████████████████\u001b[0m| 19/19 [00:00<00:00, 19.22it/s, loss=1.4]\u001b[0m\n",
            "Epoch 197/500: 100%|\u001b[38;2;0;240;15m████████████████████████████\u001b[0m| 19/19 [00:00<00:00, 19.29it/s, loss=1.3]\u001b[0m\n",
            "Epoch 198/500: 100%|\u001b[38;2;0;240;15m███████████████████████████\u001b[0m| 19/19 [00:00<00:00, 19.60it/s, loss=1.31]\u001b[0m\n",
            "Epoch 199/500: 100%|\u001b[38;2;0;240;15m███████████████████████████\u001b[0m| 19/19 [00:00<00:00, 19.33it/s, loss=1.38]\u001b[0m\n",
            "Epoch 200/500: 100%|\u001b[38;2;0;240;15m███████████████████████████\u001b[0m| 19/19 [00:00<00:00, 19.99it/s, loss=1.35]\u001b[0m\n",
            "Epoch 201/500: 100%|\u001b[38;2;0;240;15m███████████████████████████\u001b[0m| 19/19 [00:00<00:00, 19.82it/s, loss=1.29]\u001b[0m\n"
          ]
        },
        {
          "output_type": "stream",
          "name": "stdout",
          "text": [
            "Model checkpoint saved.\n"
          ]
        },
        {
          "output_type": "stream",
          "name": "stderr",
          "text": [
            "Epoch 202/500: 100%|\u001b[38;2;0;240;15m███████████████████████████\u001b[0m| 19/19 [00:01<00:00, 18.88it/s, loss=1.13]\u001b[0m\n",
            "Epoch 203/500: 100%|\u001b[38;2;0;240;15m███████████████████████████\u001b[0m| 19/19 [00:00<00:00, 19.58it/s, loss=1.18]\u001b[0m\n",
            "Epoch 204/500: 100%|\u001b[38;2;0;240;15m███████████████████████████\u001b[0m| 19/19 [00:00<00:00, 19.38it/s, loss=1.04]\u001b[0m\n",
            "Epoch 205/500: 100%|\u001b[38;2;0;240;15m███████████████████████████\u001b[0m| 19/19 [00:00<00:00, 19.12it/s, loss=1.31]\u001b[0m\n",
            "Epoch 206/500: 100%|\u001b[38;2;0;240;15m███████████████████████████\u001b[0m| 19/19 [00:01<00:00, 18.92it/s, loss=1.61]\u001b[0m\n",
            "Epoch 207/500: 100%|\u001b[38;2;0;240;15m███████████████████████████\u001b[0m| 19/19 [00:00<00:00, 19.27it/s, loss=1.29]\u001b[0m\n",
            "Epoch 208/500: 100%|\u001b[38;2;0;240;15m███████████████████████████\u001b[0m| 19/19 [00:00<00:00, 19.61it/s, loss=1.19]\u001b[0m\n",
            "Epoch 209/500: 100%|\u001b[38;2;0;240;15m███████████████████████████\u001b[0m| 19/19 [00:00<00:00, 19.62it/s, loss=1.11]\u001b[0m\n",
            "Epoch 210/500: 100%|\u001b[38;2;0;240;15m████████████████████████████\u001b[0m| 19/19 [00:00<00:00, 19.47it/s, loss=1.1]\u001b[0m\n",
            "Epoch 211/500: 100%|\u001b[38;2;0;240;15m███████████████████████████\u001b[0m| 19/19 [00:00<00:00, 19.53it/s, loss=1.33]\u001b[0m\n"
          ]
        },
        {
          "output_type": "stream",
          "name": "stdout",
          "text": [
            "Model checkpoint saved.\n"
          ]
        },
        {
          "output_type": "stream",
          "name": "stderr",
          "text": [
            "Epoch 212/500: 100%|\u001b[38;2;0;240;15m███████████████████████████\u001b[0m| 19/19 [00:01<00:00, 18.40it/s, loss=1.07]\u001b[0m\n",
            "Epoch 213/500: 100%|\u001b[38;2;0;240;15m███████████████████████████\u001b[0m| 19/19 [00:00<00:00, 19.34it/s, loss=1.17]\u001b[0m\n",
            "Epoch 214/500: 100%|\u001b[38;2;0;240;15m███████████████████████████\u001b[0m| 19/19 [00:00<00:00, 19.17it/s, loss=1.28]\u001b[0m\n",
            "Epoch 215/500: 100%|\u001b[38;2;0;240;15m███████████████████████████\u001b[0m| 19/19 [00:00<00:00, 19.01it/s, loss=1.01]\u001b[0m\n",
            "Epoch 216/500: 100%|\u001b[38;2;0;240;15m███████████████████████████\u001b[0m| 19/19 [00:00<00:00, 19.60it/s, loss=1.24]\u001b[0m\n",
            "Epoch 217/500: 100%|\u001b[38;2;0;240;15m███████████████████████████\u001b[0m| 19/19 [00:00<00:00, 19.50it/s, loss=1.14]\u001b[0m\n",
            "Epoch 218/500: 100%|\u001b[38;2;0;240;15m███████████████████████████\u001b[0m| 19/19 [00:00<00:00, 19.52it/s, loss=1.16]\u001b[0m\n",
            "Epoch 219/500: 100%|\u001b[38;2;0;240;15m███████████████████████████\u001b[0m| 19/19 [00:00<00:00, 19.55it/s, loss=1.13]\u001b[0m\n",
            "Epoch 220/500: 100%|\u001b[38;2;0;240;15m███████████████████████████\u001b[0m| 19/19 [00:00<00:00, 19.66it/s, loss=1.18]\u001b[0m\n",
            "Epoch 221/500: 100%|\u001b[38;2;0;240;15m███████████████████████████\u001b[0m| 19/19 [00:00<00:00, 19.62it/s, loss=1.05]\u001b[0m\n"
          ]
        },
        {
          "output_type": "stream",
          "name": "stdout",
          "text": [
            "Model checkpoint saved.\n"
          ]
        },
        {
          "output_type": "stream",
          "name": "stderr",
          "text": [
            "Epoch 222/500: 100%|\u001b[38;2;0;240;15m███████████████████████████\u001b[0m| 19/19 [00:01<00:00, 18.47it/s, loss=1.25]\u001b[0m\n",
            "Epoch 223/500: 100%|\u001b[38;2;0;240;15m███████████████████████████\u001b[0m| 19/19 [00:00<00:00, 19.92it/s, loss=1.14]\u001b[0m\n",
            "Epoch 224/500: 100%|\u001b[38;2;0;240;15m██████████████████████████\u001b[0m| 19/19 [00:00<00:00, 19.56it/s, loss=0.912]\u001b[0m\n",
            "Epoch 225/500: 100%|\u001b[38;2;0;240;15m██████████████████████████\u001b[0m| 19/19 [00:00<00:00, 20.15it/s, loss=0.996]\u001b[0m\n",
            "Epoch 226/500: 100%|\u001b[38;2;0;240;15m███████████████████████████\u001b[0m| 19/19 [00:00<00:00, 20.17it/s, loss=1.13]\u001b[0m\n",
            "Epoch 227/500: 100%|\u001b[38;2;0;240;15m██████████████████████████\u001b[0m| 19/19 [00:00<00:00, 20.09it/s, loss=0.993]\u001b[0m\n",
            "Epoch 228/500: 100%|\u001b[38;2;0;240;15m██████████████████████████\u001b[0m| 19/19 [00:00<00:00, 20.06it/s, loss=0.909]\u001b[0m\n",
            "Epoch 229/500: 100%|\u001b[38;2;0;240;15m███████████████████████████\u001b[0m| 19/19 [00:00<00:00, 20.04it/s, loss=1.11]\u001b[0m\n",
            "Epoch 230/500: 100%|\u001b[38;2;0;240;15m██████████████████████████\u001b[0m| 19/19 [00:00<00:00, 20.05it/s, loss=0.964]\u001b[0m\n",
            "Epoch 231/500: 100%|\u001b[38;2;0;240;15m██████████████████████████\u001b[0m| 19/19 [00:00<00:00, 20.00it/s, loss=0.934]\u001b[0m\n"
          ]
        },
        {
          "output_type": "stream",
          "name": "stdout",
          "text": [
            "Model checkpoint saved.\n"
          ]
        },
        {
          "output_type": "stream",
          "name": "stderr",
          "text": [
            "Epoch 232/500: 100%|\u001b[38;2;0;240;15m██████████████████████████\u001b[0m| 19/19 [00:01<00:00, 18.50it/s, loss=0.782]\u001b[0m\n",
            "Epoch 233/500: 100%|\u001b[38;2;0;240;15m██████████████████████████\u001b[0m| 19/19 [00:00<00:00, 19.62it/s, loss=0.989]\u001b[0m\n",
            "Epoch 234/500: 100%|\u001b[38;2;0;240;15m██████████████████████████\u001b[0m| 19/19 [00:00<00:00, 19.71it/s, loss=0.936]\u001b[0m\n",
            "Epoch 235/500: 100%|\u001b[38;2;0;240;15m██████████████████████████\u001b[0m| 19/19 [00:00<00:00, 19.53it/s, loss=0.938]\u001b[0m\n",
            "Epoch 236/500: 100%|\u001b[38;2;0;240;15m██████████████████████████\u001b[0m| 19/19 [00:00<00:00, 19.33it/s, loss=0.777]\u001b[0m\n",
            "Epoch 237/500: 100%|\u001b[38;2;0;240;15m██████████████████████████\u001b[0m| 19/19 [00:00<00:00, 19.52it/s, loss=0.794]\u001b[0m\n",
            "Epoch 238/500: 100%|\u001b[38;2;0;240;15m██████████████████████████\u001b[0m| 19/19 [00:00<00:00, 19.19it/s, loss=0.758]\u001b[0m\n",
            "Epoch 239/500: 100%|\u001b[38;2;0;240;15m██████████████████████████\u001b[0m| 19/19 [00:01<00:00, 19.00it/s, loss=0.787]\u001b[0m\n",
            "Epoch 240/500: 100%|\u001b[38;2;0;240;15m██████████████████████████\u001b[0m| 19/19 [00:00<00:00, 19.70it/s, loss=0.721]\u001b[0m\n",
            "Epoch 241/500: 100%|\u001b[38;2;0;240;15m██████████████████████████\u001b[0m| 19/19 [00:00<00:00, 19.53it/s, loss=0.829]\u001b[0m\n"
          ]
        },
        {
          "output_type": "stream",
          "name": "stdout",
          "text": [
            "Model checkpoint saved.\n"
          ]
        },
        {
          "output_type": "stream",
          "name": "stderr",
          "text": [
            "Epoch 242/500: 100%|\u001b[38;2;0;240;15m██████████████████████████\u001b[0m| 19/19 [00:01<00:00, 18.69it/s, loss=0.675]\u001b[0m\n",
            "Epoch 243/500: 100%|\u001b[38;2;0;240;15m██████████████████████████\u001b[0m| 19/19 [00:00<00:00, 19.60it/s, loss=0.735]\u001b[0m\n",
            "Epoch 244/500: 100%|\u001b[38;2;0;240;15m██████████████████████████\u001b[0m| 19/19 [00:00<00:00, 19.97it/s, loss=0.872]\u001b[0m\n",
            "Epoch 245/500: 100%|\u001b[38;2;0;240;15m███████████████████████████\u001b[0m| 19/19 [00:00<00:00, 19.86it/s, loss=0.83]\u001b[0m\n",
            "Epoch 246/500: 100%|\u001b[38;2;0;240;15m██████████████████████████\u001b[0m| 19/19 [00:00<00:00, 19.76it/s, loss=0.542]\u001b[0m\n",
            "Epoch 247/500: 100%|\u001b[38;2;0;240;15m██████████████████████████\u001b[0m| 19/19 [00:00<00:00, 19.69it/s, loss=0.833]\u001b[0m\n",
            "Epoch 248/500: 100%|\u001b[38;2;0;240;15m██████████████████████████\u001b[0m| 19/19 [00:00<00:00, 19.54it/s, loss=0.772]\u001b[0m\n",
            "Epoch 249/500: 100%|\u001b[38;2;0;240;15m██████████████████████████\u001b[0m| 19/19 [00:00<00:00, 19.22it/s, loss=0.861]\u001b[0m\n",
            "Epoch 250/500: 100%|\u001b[38;2;0;240;15m██████████████████████████\u001b[0m| 19/19 [00:00<00:00, 19.39it/s, loss=0.682]\u001b[0m\n",
            "Epoch 251/500: 100%|\u001b[38;2;0;240;15m██████████████████████████\u001b[0m| 19/19 [00:00<00:00, 19.41it/s, loss=0.896]\u001b[0m\n"
          ]
        },
        {
          "output_type": "stream",
          "name": "stdout",
          "text": [
            "Model checkpoint saved.\n"
          ]
        },
        {
          "output_type": "stream",
          "name": "stderr",
          "text": [
            "Epoch 252/500: 100%|\u001b[38;2;0;240;15m██████████████████████████\u001b[0m| 19/19 [00:01<00:00, 18.79it/s, loss=0.723]\u001b[0m\n",
            "Epoch 253/500: 100%|\u001b[38;2;0;240;15m██████████████████████████\u001b[0m| 19/19 [00:00<00:00, 19.92it/s, loss=0.792]\u001b[0m\n",
            "Epoch 254/500: 100%|\u001b[38;2;0;240;15m██████████████████████████\u001b[0m| 19/19 [00:00<00:00, 19.85it/s, loss=0.642]\u001b[0m\n",
            "Epoch 255/500: 100%|\u001b[38;2;0;240;15m██████████████████████████\u001b[0m| 19/19 [00:00<00:00, 19.99it/s, loss=0.786]\u001b[0m\n",
            "Epoch 256/500: 100%|\u001b[38;2;0;240;15m██████████████████████████\u001b[0m| 19/19 [00:00<00:00, 20.03it/s, loss=0.838]\u001b[0m\n",
            "Epoch 257/500: 100%|\u001b[38;2;0;240;15m██████████████████████████\u001b[0m| 19/19 [00:00<00:00, 20.01it/s, loss=0.754]\u001b[0m\n",
            "Epoch 258/500: 100%|\u001b[38;2;0;240;15m██████████████████████████\u001b[0m| 19/19 [00:00<00:00, 19.91it/s, loss=0.697]\u001b[0m\n",
            "Epoch 259/500: 100%|\u001b[38;2;0;240;15m██████████████████████████\u001b[0m| 19/19 [00:00<00:00, 19.93it/s, loss=0.544]\u001b[0m\n",
            "Epoch 260/500: 100%|\u001b[38;2;0;240;15m██████████████████████████\u001b[0m| 19/19 [00:00<00:00, 19.90it/s, loss=0.658]\u001b[0m\n",
            "Epoch 261/500: 100%|\u001b[38;2;0;240;15m██████████████████████████\u001b[0m| 19/19 [00:00<00:00, 19.99it/s, loss=0.739]\u001b[0m\n"
          ]
        },
        {
          "output_type": "stream",
          "name": "stdout",
          "text": [
            "Model checkpoint saved.\n"
          ]
        },
        {
          "output_type": "stream",
          "name": "stderr",
          "text": [
            "Epoch 262/500: 100%|\u001b[38;2;0;240;15m██████████████████████████\u001b[0m| 19/19 [00:00<00:00, 19.12it/s, loss=0.632]\u001b[0m\n",
            "Epoch 263/500: 100%|\u001b[38;2;0;240;15m██████████████████████████\u001b[0m| 19/19 [00:00<00:00, 19.78it/s, loss=0.754]\u001b[0m\n",
            "Epoch 264/500: 100%|\u001b[38;2;0;240;15m███████████████████████████\u001b[0m| 19/19 [00:00<00:00, 19.71it/s, loss=0.67]\u001b[0m\n",
            "Epoch 265/500: 100%|\u001b[38;2;0;240;15m███████████████████████████\u001b[0m| 19/19 [00:00<00:00, 19.57it/s, loss=0.71]\u001b[0m\n",
            "Epoch 266/500: 100%|\u001b[38;2;0;240;15m██████████████████████████\u001b[0m| 19/19 [00:00<00:00, 19.72it/s, loss=0.555]\u001b[0m\n",
            "Epoch 267/500: 100%|\u001b[38;2;0;240;15m██████████████████████████\u001b[0m| 19/19 [00:00<00:00, 19.63it/s, loss=0.639]\u001b[0m\n",
            "Epoch 268/500: 100%|\u001b[38;2;0;240;15m██████████████████████████\u001b[0m| 19/19 [00:00<00:00, 19.65it/s, loss=0.665]\u001b[0m\n",
            "Epoch 269/500: 100%|\u001b[38;2;0;240;15m███████████████████████████\u001b[0m| 19/19 [00:00<00:00, 19.29it/s, loss=0.66]\u001b[0m\n",
            "Epoch 270/500: 100%|\u001b[38;2;0;240;15m██████████████████████████\u001b[0m| 19/19 [00:00<00:00, 19.29it/s, loss=0.571]\u001b[0m\n",
            "Epoch 271/500: 100%|\u001b[38;2;0;240;15m██████████████████████████\u001b[0m| 19/19 [00:01<00:00, 18.97it/s, loss=0.632]\u001b[0m\n"
          ]
        },
        {
          "output_type": "stream",
          "name": "stdout",
          "text": [
            "Model checkpoint saved.\n"
          ]
        },
        {
          "output_type": "stream",
          "name": "stderr",
          "text": [
            "Epoch 272/500: 100%|\u001b[38;2;0;240;15m██████████████████████████\u001b[0m| 19/19 [00:01<00:00, 18.92it/s, loss=0.638]\u001b[0m\n",
            "Epoch 273/500: 100%|\u001b[38;2;0;240;15m██████████████████████████\u001b[0m| 19/19 [00:00<00:00, 19.79it/s, loss=0.576]\u001b[0m\n",
            "Epoch 274/500: 100%|\u001b[38;2;0;240;15m███████████████████████████\u001b[0m| 19/19 [00:00<00:00, 19.98it/s, loss=0.46]\u001b[0m\n",
            "Epoch 275/500: 100%|\u001b[38;2;0;240;15m███████████████████████████\u001b[0m| 19/19 [00:00<00:00, 19.78it/s, loss=0.67]\u001b[0m\n",
            "Epoch 276/500: 100%|\u001b[38;2;0;240;15m██████████████████████████\u001b[0m| 19/19 [00:00<00:00, 19.52it/s, loss=0.481]\u001b[0m\n",
            "Epoch 277/500: 100%|\u001b[38;2;0;240;15m██████████████████████████\u001b[0m| 19/19 [00:00<00:00, 19.88it/s, loss=0.624]\u001b[0m\n",
            "Epoch 278/500: 100%|\u001b[38;2;0;240;15m██████████████████████████\u001b[0m| 19/19 [00:00<00:00, 19.53it/s, loss=0.546]\u001b[0m\n",
            "Epoch 279/500: 100%|\u001b[38;2;0;240;15m██████████████████████████\u001b[0m| 19/19 [00:00<00:00, 19.44it/s, loss=0.565]\u001b[0m\n",
            "Epoch 280/500: 100%|\u001b[38;2;0;240;15m███████████████████████████\u001b[0m| 19/19 [00:00<00:00, 19.42it/s, loss=0.47]\u001b[0m\n",
            "Epoch 281/500: 100%|\u001b[38;2;0;240;15m██████████████████████████\u001b[0m| 19/19 [00:01<00:00, 18.70it/s, loss=0.596]\u001b[0m\n"
          ]
        },
        {
          "output_type": "stream",
          "name": "stdout",
          "text": [
            "Model checkpoint saved.\n"
          ]
        },
        {
          "output_type": "stream",
          "name": "stderr",
          "text": [
            "Epoch 282/500: 100%|\u001b[38;2;0;240;15m██████████████████████████\u001b[0m| 19/19 [00:01<00:00, 18.07it/s, loss=0.454]\u001b[0m\n",
            "Epoch 283/500: 100%|\u001b[38;2;0;240;15m██████████████████████████\u001b[0m| 19/19 [00:01<00:00, 18.99it/s, loss=0.559]\u001b[0m\n",
            "Epoch 284/500: 100%|\u001b[38;2;0;240;15m██████████████████████████\u001b[0m| 19/19 [00:01<00:00, 18.80it/s, loss=0.523]\u001b[0m\n",
            "Epoch 285/500: 100%|\u001b[38;2;0;240;15m██████████████████████████\u001b[0m| 19/19 [00:00<00:00, 19.12it/s, loss=0.771]\u001b[0m\n",
            "Epoch 286/500: 100%|\u001b[38;2;0;240;15m██████████████████████████\u001b[0m| 19/19 [00:00<00:00, 19.59it/s, loss=0.432]\u001b[0m\n",
            "Epoch 287/500: 100%|\u001b[38;2;0;240;15m██████████████████████████\u001b[0m| 19/19 [00:00<00:00, 19.68it/s, loss=0.544]\u001b[0m\n",
            "Epoch 288/500: 100%|\u001b[38;2;0;240;15m██████████████████████████\u001b[0m| 19/19 [00:00<00:00, 19.69it/s, loss=0.479]\u001b[0m\n",
            "Epoch 289/500: 100%|\u001b[38;2;0;240;15m██████████████████████████\u001b[0m| 19/19 [00:00<00:00, 19.45it/s, loss=0.493]\u001b[0m\n",
            "Epoch 290/500: 100%|\u001b[38;2;0;240;15m███████████████████████████\u001b[0m| 19/19 [00:00<00:00, 19.62it/s, loss=0.48]\u001b[0m\n",
            "Epoch 291/500: 100%|\u001b[38;2;0;240;15m██████████████████████████\u001b[0m| 19/19 [00:00<00:00, 19.51it/s, loss=0.447]\u001b[0m\n"
          ]
        },
        {
          "output_type": "stream",
          "name": "stdout",
          "text": [
            "Model checkpoint saved.\n"
          ]
        },
        {
          "output_type": "stream",
          "name": "stderr",
          "text": [
            "Epoch 292/500: 100%|\u001b[38;2;0;240;15m███████████████████████████\u001b[0m| 19/19 [00:01<00:00, 18.76it/s, loss=0.54]\u001b[0m\n",
            "Epoch 293/500: 100%|\u001b[38;2;0;240;15m██████████████████████████\u001b[0m| 19/19 [00:00<00:00, 20.01it/s, loss=0.456]\u001b[0m\n",
            "Epoch 294/500: 100%|\u001b[38;2;0;240;15m██████████████████████████\u001b[0m| 19/19 [00:00<00:00, 20.11it/s, loss=0.503]\u001b[0m\n",
            "Epoch 295/500: 100%|\u001b[38;2;0;240;15m██████████████████████████\u001b[0m| 19/19 [00:00<00:00, 19.90it/s, loss=0.655]\u001b[0m\n",
            "Epoch 296/500: 100%|\u001b[38;2;0;240;15m██████████████████████████\u001b[0m| 19/19 [00:00<00:00, 19.83it/s, loss=0.395]\u001b[0m\n",
            "Epoch 297/500: 100%|\u001b[38;2;0;240;15m██████████████████████████\u001b[0m| 19/19 [00:00<00:00, 19.87it/s, loss=0.418]\u001b[0m\n",
            "Epoch 298/500: 100%|\u001b[38;2;0;240;15m██████████████████████████\u001b[0m| 19/19 [00:00<00:00, 19.89it/s, loss=0.369]\u001b[0m\n",
            "Epoch 299/500: 100%|\u001b[38;2;0;240;15m██████████████████████████\u001b[0m| 19/19 [00:00<00:00, 19.69it/s, loss=0.317]\u001b[0m\n",
            "Epoch 300/500: 100%|\u001b[38;2;0;240;15m██████████████████████████\u001b[0m| 19/19 [00:00<00:00, 19.79it/s, loss=0.467]\u001b[0m\n",
            "Epoch 301/500: 100%|\u001b[38;2;0;240;15m██████████████████████████\u001b[0m| 19/19 [00:00<00:00, 19.96it/s, loss=0.389]\u001b[0m\n"
          ]
        },
        {
          "output_type": "stream",
          "name": "stdout",
          "text": [
            "Model checkpoint saved.\n"
          ]
        },
        {
          "output_type": "stream",
          "name": "stderr",
          "text": [
            "Epoch 302/500: 100%|\u001b[38;2;0;240;15m██████████████████████████\u001b[0m| 19/19 [00:01<00:00, 18.59it/s, loss=0.487]\u001b[0m\n",
            "Epoch 303/500: 100%|\u001b[38;2;0;240;15m██████████████████████████\u001b[0m| 19/19 [00:00<00:00, 19.06it/s, loss=0.424]\u001b[0m\n",
            "Epoch 304/500: 100%|\u001b[38;2;0;240;15m██████████████████████████\u001b[0m| 19/19 [00:00<00:00, 19.47it/s, loss=0.431]\u001b[0m\n",
            "Epoch 305/500: 100%|\u001b[38;2;0;240;15m██████████████████████████\u001b[0m| 19/19 [00:00<00:00, 19.51it/s, loss=0.425]\u001b[0m\n",
            "Epoch 306/500: 100%|\u001b[38;2;0;240;15m██████████████████████████\u001b[0m| 19/19 [00:00<00:00, 19.60it/s, loss=0.484]\u001b[0m\n",
            "Epoch 307/500: 100%|\u001b[38;2;0;240;15m██████████████████████████\u001b[0m| 19/19 [00:00<00:00, 19.89it/s, loss=0.399]\u001b[0m\n",
            "Epoch 308/500: 100%|\u001b[38;2;0;240;15m███████████████████████████\u001b[0m| 19/19 [00:00<00:00, 19.70it/s, loss=0.35]\u001b[0m\n",
            "Epoch 309/500: 100%|\u001b[38;2;0;240;15m██████████████████████████\u001b[0m| 19/19 [00:00<00:00, 19.63it/s, loss=0.368]\u001b[0m\n",
            "Epoch 310/500: 100%|\u001b[38;2;0;240;15m██████████████████████████\u001b[0m| 19/19 [00:00<00:00, 19.84it/s, loss=0.311]\u001b[0m\n",
            "Epoch 311/500: 100%|\u001b[38;2;0;240;15m███████████████████████████\u001b[0m| 19/19 [00:00<00:00, 19.76it/s, loss=0.39]\u001b[0m\n"
          ]
        },
        {
          "output_type": "stream",
          "name": "stdout",
          "text": [
            "Model checkpoint saved.\n"
          ]
        },
        {
          "output_type": "stream",
          "name": "stderr",
          "text": [
            "Epoch 312/500: 100%|\u001b[38;2;0;240;15m██████████████████████████\u001b[0m| 19/19 [00:01<00:00, 17.60it/s, loss=0.365]\u001b[0m\n",
            "Epoch 313/500: 100%|\u001b[38;2;0;240;15m██████████████████████████\u001b[0m| 19/19 [00:01<00:00, 18.84it/s, loss=0.363]\u001b[0m\n",
            "Epoch 314/500: 100%|\u001b[38;2;0;240;15m██████████████████████████\u001b[0m| 19/19 [00:00<00:00, 19.70it/s, loss=0.418]\u001b[0m\n",
            "Epoch 315/500: 100%|\u001b[38;2;0;240;15m██████████████████████████\u001b[0m| 19/19 [00:00<00:00, 19.68it/s, loss=0.531]\u001b[0m\n",
            "Epoch 316/500: 100%|\u001b[38;2;0;240;15m██████████████████████████\u001b[0m| 19/19 [00:00<00:00, 19.71it/s, loss=0.311]\u001b[0m\n",
            "Epoch 317/500: 100%|\u001b[38;2;0;240;15m██████████████████████████\u001b[0m| 19/19 [00:00<00:00, 19.74it/s, loss=0.365]\u001b[0m\n",
            "Epoch 318/500: 100%|\u001b[38;2;0;240;15m██████████████████████████\u001b[0m| 19/19 [00:00<00:00, 19.62it/s, loss=0.388]\u001b[0m\n",
            "Epoch 319/500: 100%|\u001b[38;2;0;240;15m██████████████████████████\u001b[0m| 19/19 [00:00<00:00, 19.63it/s, loss=0.374]\u001b[0m\n",
            "Epoch 320/500: 100%|\u001b[38;2;0;240;15m██████████████████████████\u001b[0m| 19/19 [00:00<00:00, 19.41it/s, loss=0.348]\u001b[0m\n",
            "Epoch 321/500: 100%|\u001b[38;2;0;240;15m██████████████████████████\u001b[0m| 19/19 [00:00<00:00, 19.58it/s, loss=0.358]\u001b[0m\n"
          ]
        },
        {
          "output_type": "stream",
          "name": "stdout",
          "text": [
            "Model checkpoint saved.\n"
          ]
        },
        {
          "output_type": "stream",
          "name": "stderr",
          "text": [
            "Epoch 322/500: 100%|\u001b[38;2;0;240;15m██████████████████████████\u001b[0m| 19/19 [00:01<00:00, 18.87it/s, loss=0.381]\u001b[0m\n",
            "Epoch 323/500: 100%|\u001b[38;2;0;240;15m██████████████████████████\u001b[0m| 19/19 [00:00<00:00, 19.99it/s, loss=0.308]\u001b[0m\n",
            "Epoch 324/500: 100%|\u001b[38;2;0;240;15m██████████████████████████\u001b[0m| 19/19 [00:00<00:00, 19.87it/s, loss=0.329]\u001b[0m\n",
            "Epoch 325/500: 100%|\u001b[38;2;0;240;15m██████████████████████████\u001b[0m| 19/19 [00:00<00:00, 19.83it/s, loss=0.324]\u001b[0m\n",
            "Epoch 326/500: 100%|\u001b[38;2;0;240;15m██████████████████████████\u001b[0m| 19/19 [00:00<00:00, 19.96it/s, loss=0.317]\u001b[0m\n",
            "Epoch 327/500: 100%|\u001b[38;2;0;240;15m███████████████████████████\u001b[0m| 19/19 [00:00<00:00, 19.79it/s, loss=0.34]\u001b[0m\n",
            "Epoch 328/500: 100%|\u001b[38;2;0;240;15m██████████████████████████\u001b[0m| 19/19 [00:00<00:00, 19.66it/s, loss=0.279]\u001b[0m\n",
            "Epoch 329/500: 100%|\u001b[38;2;0;240;15m███████████████████████████\u001b[0m| 19/19 [00:00<00:00, 19.39it/s, loss=0.36]\u001b[0m\n",
            "Epoch 330/500: 100%|\u001b[38;2;0;240;15m███████████████████████████\u001b[0m| 19/19 [00:00<00:00, 19.80it/s, loss=0.26]\u001b[0m\n",
            "Epoch 331/500: 100%|\u001b[38;2;0;240;15m██████████████████████████\u001b[0m| 19/19 [00:00<00:00, 19.29it/s, loss=0.331]\u001b[0m\n"
          ]
        },
        {
          "output_type": "stream",
          "name": "stdout",
          "text": [
            "Model checkpoint saved.\n"
          ]
        },
        {
          "output_type": "stream",
          "name": "stderr",
          "text": [
            "Epoch 332/500: 100%|\u001b[38;2;0;240;15m██████████████████████████\u001b[0m| 19/19 [00:01<00:00, 18.82it/s, loss=0.286]\u001b[0m\n",
            "Epoch 333/500: 100%|\u001b[38;2;0;240;15m██████████████████████████\u001b[0m| 19/19 [00:00<00:00, 19.76it/s, loss=0.293]\u001b[0m\n",
            "Epoch 334/500: 100%|\u001b[38;2;0;240;15m██████████████████████████\u001b[0m| 19/19 [00:00<00:00, 19.66it/s, loss=0.349]\u001b[0m\n",
            "Epoch 335/500: 100%|\u001b[38;2;0;240;15m██████████████████████████\u001b[0m| 19/19 [00:00<00:00, 19.53it/s, loss=0.235]\u001b[0m\n",
            "Epoch 336/500: 100%|\u001b[38;2;0;240;15m███████████████████████████\u001b[0m| 19/19 [00:00<00:00, 19.62it/s, loss=0.24]\u001b[0m\n",
            "Epoch 337/500: 100%|\u001b[38;2;0;240;15m██████████████████████████\u001b[0m| 19/19 [00:00<00:00, 19.48it/s, loss=0.219]\u001b[0m\n",
            "Epoch 338/500: 100%|\u001b[38;2;0;240;15m███████████████████████████\u001b[0m| 19/19 [00:00<00:00, 19.21it/s, loss=0.33]\u001b[0m\n",
            "Epoch 339/500: 100%|\u001b[38;2;0;240;15m██████████████████████████\u001b[0m| 19/19 [00:01<00:00, 18.92it/s, loss=0.218]\u001b[0m\n",
            "Epoch 340/500: 100%|\u001b[38;2;0;240;15m██████████████████████████\u001b[0m| 19/19 [00:00<00:00, 19.15it/s, loss=0.272]\u001b[0m\n",
            "Epoch 341/500: 100%|\u001b[38;2;0;240;15m██████████████████████████\u001b[0m| 19/19 [00:00<00:00, 19.16it/s, loss=0.328]\u001b[0m\n"
          ]
        },
        {
          "output_type": "stream",
          "name": "stdout",
          "text": [
            "Model checkpoint saved.\n"
          ]
        },
        {
          "output_type": "stream",
          "name": "stderr",
          "text": [
            "Epoch 342/500: 100%|\u001b[38;2;0;240;15m██████████████████████████\u001b[0m| 19/19 [00:01<00:00, 18.82it/s, loss=0.267]\u001b[0m\n",
            "Epoch 343/500: 100%|\u001b[38;2;0;240;15m██████████████████████████\u001b[0m| 19/19 [00:00<00:00, 19.49it/s, loss=0.276]\u001b[0m\n",
            "Epoch 344/500: 100%|\u001b[38;2;0;240;15m██████████████████████████\u001b[0m| 19/19 [00:00<00:00, 19.36it/s, loss=0.281]\u001b[0m\n",
            "Epoch 345/500: 100%|\u001b[38;2;0;240;15m██████████████████████████\u001b[0m| 19/19 [00:00<00:00, 19.40it/s, loss=0.215]\u001b[0m\n",
            "Epoch 346/500: 100%|\u001b[38;2;0;240;15m██████████████████████████\u001b[0m| 19/19 [00:00<00:00, 19.15it/s, loss=0.262]\u001b[0m\n",
            "Epoch 347/500: 100%|\u001b[38;2;0;240;15m██████████████████████████\u001b[0m| 19/19 [00:00<00:00, 19.00it/s, loss=0.255]\u001b[0m\n",
            "Epoch 348/500: 100%|\u001b[38;2;0;240;15m██████████████████████████\u001b[0m| 19/19 [00:00<00:00, 19.20it/s, loss=0.251]\u001b[0m\n",
            "Epoch 349/500: 100%|\u001b[38;2;0;240;15m██████████████████████████\u001b[0m| 19/19 [00:00<00:00, 19.06it/s, loss=0.255]\u001b[0m\n",
            "Epoch 350/500: 100%|\u001b[38;2;0;240;15m██████████████████████████\u001b[0m| 19/19 [00:00<00:00, 19.44it/s, loss=0.241]\u001b[0m\n",
            "Epoch 351/500: 100%|\u001b[38;2;0;240;15m██████████████████████████\u001b[0m| 19/19 [00:00<00:00, 19.67it/s, loss=0.254]\u001b[0m\n"
          ]
        },
        {
          "output_type": "stream",
          "name": "stdout",
          "text": [
            "Model checkpoint saved.\n"
          ]
        },
        {
          "output_type": "stream",
          "name": "stderr",
          "text": [
            "Epoch 352/500: 100%|\u001b[38;2;0;240;15m██████████████████████████\u001b[0m| 19/19 [00:01<00:00, 18.65it/s, loss=0.247]\u001b[0m\n",
            "Epoch 353/500: 100%|\u001b[38;2;0;240;15m██████████████████████████\u001b[0m| 19/19 [00:00<00:00, 20.16it/s, loss=0.195]\u001b[0m\n",
            "Epoch 354/500: 100%|\u001b[38;2;0;240;15m██████████████████████████\u001b[0m| 19/19 [00:00<00:00, 20.15it/s, loss=0.165]\u001b[0m\n",
            "Epoch 355/500: 100%|\u001b[38;2;0;240;15m██████████████████████████\u001b[0m| 19/19 [00:00<00:00, 19.93it/s, loss=0.245]\u001b[0m\n",
            "Epoch 356/500: 100%|\u001b[38;2;0;240;15m██████████████████████████\u001b[0m| 19/19 [00:00<00:00, 19.69it/s, loss=0.203]\u001b[0m\n",
            "Epoch 357/500: 100%|\u001b[38;2;0;240;15m██████████████████████████\u001b[0m| 19/19 [00:00<00:00, 19.62it/s, loss=0.182]\u001b[0m\n",
            "Epoch 358/500: 100%|\u001b[38;2;0;240;15m██████████████████████████\u001b[0m| 19/19 [00:00<00:00, 19.63it/s, loss=0.245]\u001b[0m\n",
            "Epoch 359/500: 100%|\u001b[38;2;0;240;15m██████████████████████████\u001b[0m| 19/19 [00:00<00:00, 19.52it/s, loss=0.197]\u001b[0m\n",
            "Epoch 360/500: 100%|\u001b[38;2;0;240;15m███████████████████████████\u001b[0m| 19/19 [00:00<00:00, 19.41it/s, loss=0.26]\u001b[0m\n",
            "Epoch 361/500: 100%|\u001b[38;2;0;240;15m███████████████████████████\u001b[0m| 19/19 [00:00<00:00, 19.80it/s, loss=0.23]\u001b[0m\n"
          ]
        },
        {
          "output_type": "stream",
          "name": "stdout",
          "text": [
            "Model checkpoint saved.\n"
          ]
        },
        {
          "output_type": "stream",
          "name": "stderr",
          "text": [
            "Epoch 362/500: 100%|\u001b[38;2;0;240;15m██████████████████████████\u001b[0m| 19/19 [00:00<00:00, 19.07it/s, loss=0.234]\u001b[0m\n",
            "Epoch 363/500: 100%|\u001b[38;2;0;240;15m███████████████████████████\u001b[0m| 19/19 [00:00<00:00, 20.00it/s, loss=0.18]\u001b[0m\n",
            "Epoch 364/500: 100%|\u001b[38;2;0;240;15m██████████████████████████\u001b[0m| 19/19 [00:00<00:00, 20.03it/s, loss=0.218]\u001b[0m\n",
            "Epoch 365/500: 100%|\u001b[38;2;0;240;15m██████████████████████████\u001b[0m| 19/19 [00:00<00:00, 19.27it/s, loss=0.222]\u001b[0m\n",
            "Epoch 366/500: 100%|\u001b[38;2;0;240;15m██████████████████████████\u001b[0m| 19/19 [00:00<00:00, 19.49it/s, loss=0.157]\u001b[0m\n",
            "Epoch 367/500: 100%|\u001b[38;2;0;240;15m███████████████████████████\u001b[0m| 19/19 [00:00<00:00, 19.71it/s, loss=0.22]\u001b[0m\n",
            "Epoch 368/500: 100%|\u001b[38;2;0;240;15m████████████████████████████\u001b[0m| 19/19 [00:00<00:00, 19.27it/s, loss=0.2]\u001b[0m\n",
            "Epoch 369/500: 100%|\u001b[38;2;0;240;15m██████████████████████████\u001b[0m| 19/19 [00:00<00:00, 19.60it/s, loss=0.227]\u001b[0m\n",
            "Epoch 370/500: 100%|\u001b[38;2;0;240;15m██████████████████████████\u001b[0m| 19/19 [00:00<00:00, 19.91it/s, loss=0.211]\u001b[0m\n",
            "Epoch 371/500: 100%|\u001b[38;2;0;240;15m██████████████████████████\u001b[0m| 19/19 [00:00<00:00, 19.62it/s, loss=0.201]\u001b[0m\n"
          ]
        },
        {
          "output_type": "stream",
          "name": "stdout",
          "text": [
            "Model checkpoint saved.\n"
          ]
        },
        {
          "output_type": "stream",
          "name": "stderr",
          "text": [
            "Epoch 372/500: 100%|\u001b[38;2;0;240;15m██████████████████████████\u001b[0m| 19/19 [00:01<00:00, 18.76it/s, loss=0.178]\u001b[0m\n",
            "Epoch 373/500: 100%|\u001b[38;2;0;240;15m██████████████████████████\u001b[0m| 19/19 [00:00<00:00, 19.78it/s, loss=0.182]\u001b[0m\n",
            "Epoch 374/500: 100%|\u001b[38;2;0;240;15m██████████████████████████\u001b[0m| 19/19 [00:00<00:00, 19.55it/s, loss=0.223]\u001b[0m\n",
            "Epoch 375/500: 100%|\u001b[38;2;0;240;15m██████████████████████████\u001b[0m| 19/19 [00:00<00:00, 19.70it/s, loss=0.206]\u001b[0m\n",
            "Epoch 376/500: 100%|\u001b[38;2;0;240;15m███████████████████████████\u001b[0m| 19/19 [00:00<00:00, 19.83it/s, loss=0.17]\u001b[0m\n",
            "Epoch 377/500: 100%|\u001b[38;2;0;240;15m███████████████████████████\u001b[0m| 19/19 [00:00<00:00, 19.74it/s, loss=0.16]\u001b[0m\n",
            "Epoch 378/500: 100%|\u001b[38;2;0;240;15m██████████████████████████\u001b[0m| 19/19 [00:00<00:00, 19.41it/s, loss=0.216]\u001b[0m\n",
            "Epoch 379/500: 100%|\u001b[38;2;0;240;15m██████████████████████████\u001b[0m| 19/19 [00:00<00:00, 19.36it/s, loss=0.175]\u001b[0m\n",
            "Epoch 380/500: 100%|\u001b[38;2;0;240;15m██████████████████████████\u001b[0m| 19/19 [00:00<00:00, 19.11it/s, loss=0.226]\u001b[0m\n",
            "Epoch 381/500: 100%|\u001b[38;2;0;240;15m██████████████████████████\u001b[0m| 19/19 [00:00<00:00, 19.28it/s, loss=0.151]\u001b[0m\n"
          ]
        },
        {
          "output_type": "stream",
          "name": "stdout",
          "text": [
            "Model checkpoint saved.\n"
          ]
        },
        {
          "output_type": "stream",
          "name": "stderr",
          "text": [
            "Epoch 382/500: 100%|\u001b[38;2;0;240;15m██████████████████████████\u001b[0m| 19/19 [00:01<00:00, 18.38it/s, loss=0.181]\u001b[0m\n",
            "Epoch 383/500: 100%|\u001b[38;2;0;240;15m██████████████████████████\u001b[0m| 19/19 [00:00<00:00, 19.58it/s, loss=0.199]\u001b[0m\n",
            "Epoch 384/500: 100%|\u001b[38;2;0;240;15m██████████████████████████\u001b[0m| 19/19 [00:00<00:00, 19.37it/s, loss=0.168]\u001b[0m\n",
            "Epoch 385/500: 100%|\u001b[38;2;0;240;15m████████████████████████████\u001b[0m| 19/19 [00:00<00:00, 19.56it/s, loss=0.2]\u001b[0m\n",
            "Epoch 386/500: 100%|\u001b[38;2;0;240;15m██████████████████████████\u001b[0m| 19/19 [00:00<00:00, 19.54it/s, loss=0.165]\u001b[0m\n",
            "Epoch 387/500: 100%|\u001b[38;2;0;240;15m██████████████████████████\u001b[0m| 19/19 [00:00<00:00, 19.51it/s, loss=0.159]\u001b[0m\n",
            "Epoch 388/500: 100%|\u001b[38;2;0;240;15m██████████████████████████\u001b[0m| 19/19 [00:00<00:00, 19.02it/s, loss=0.158]\u001b[0m\n",
            "Epoch 389/500: 100%|\u001b[38;2;0;240;15m██████████████████████████\u001b[0m| 19/19 [00:00<00:00, 19.40it/s, loss=0.174]\u001b[0m\n",
            "Epoch 390/500: 100%|\u001b[38;2;0;240;15m██████████████████████████\u001b[0m| 19/19 [00:00<00:00, 19.22it/s, loss=0.151]\u001b[0m\n",
            "Epoch 391/500: 100%|\u001b[38;2;0;240;15m██████████████████████████\u001b[0m| 19/19 [00:01<00:00, 18.92it/s, loss=0.201]\u001b[0m\n"
          ]
        },
        {
          "output_type": "stream",
          "name": "stdout",
          "text": [
            "Model checkpoint saved.\n"
          ]
        },
        {
          "output_type": "stream",
          "name": "stderr",
          "text": [
            "Epoch 392/500: 100%|\u001b[38;2;0;240;15m██████████████████████████\u001b[0m| 19/19 [00:00<00:00, 19.01it/s, loss=0.144]\u001b[0m\n",
            "Epoch 393/500: 100%|\u001b[38;2;0;240;15m███████████████████████████\u001b[0m| 19/19 [00:00<00:00, 19.95it/s, loss=0.19]\u001b[0m\n",
            "Epoch 394/500: 100%|\u001b[38;2;0;240;15m██████████████████████████\u001b[0m| 19/19 [00:00<00:00, 20.07it/s, loss=0.158]\u001b[0m\n",
            "Epoch 395/500: 100%|\u001b[38;2;0;240;15m██████████████████████████\u001b[0m| 19/19 [00:00<00:00, 19.87it/s, loss=0.131]\u001b[0m\n",
            "Epoch 396/500: 100%|\u001b[38;2;0;240;15m██████████████████████████\u001b[0m| 19/19 [00:00<00:00, 19.97it/s, loss=0.147]\u001b[0m\n",
            "Epoch 397/500: 100%|\u001b[38;2;0;240;15m██████████████████████████\u001b[0m| 19/19 [00:00<00:00, 19.72it/s, loss=0.233]\u001b[0m\n",
            "Epoch 398/500: 100%|\u001b[38;2;0;240;15m██████████████████████████\u001b[0m| 19/19 [00:00<00:00, 19.79it/s, loss=0.156]\u001b[0m\n",
            "Epoch 399/500: 100%|\u001b[38;2;0;240;15m██████████████████████████\u001b[0m| 19/19 [00:00<00:00, 19.44it/s, loss=0.136]\u001b[0m\n",
            "Epoch 400/500: 100%|\u001b[38;2;0;240;15m██████████████████████████\u001b[0m| 19/19 [00:00<00:00, 19.36it/s, loss=0.174]\u001b[0m\n",
            "Epoch 401/500: 100%|\u001b[38;2;0;240;15m███████████████████████████\u001b[0m| 19/19 [00:00<00:00, 19.79it/s, loss=0.13]\u001b[0m\n"
          ]
        },
        {
          "output_type": "stream",
          "name": "stdout",
          "text": [
            "Model checkpoint saved.\n"
          ]
        },
        {
          "output_type": "stream",
          "name": "stderr",
          "text": [
            "Epoch 402/500: 100%|\u001b[38;2;0;240;15m███████████████████████████\u001b[0m| 19/19 [00:01<00:00, 18.05it/s, loss=0.13]\u001b[0m\n",
            "Epoch 403/500: 100%|\u001b[38;2;0;240;15m██████████████████████████\u001b[0m| 19/19 [00:00<00:00, 19.24it/s, loss=0.109]\u001b[0m\n",
            "Epoch 404/500: 100%|\u001b[38;2;0;240;15m██████████████████████████\u001b[0m| 19/19 [00:00<00:00, 19.14it/s, loss=0.144]\u001b[0m\n",
            "Epoch 405/500: 100%|\u001b[38;2;0;240;15m██████████████████████████\u001b[0m| 19/19 [00:00<00:00, 19.27it/s, loss=0.152]\u001b[0m\n",
            "Epoch 406/500: 100%|\u001b[38;2;0;240;15m██████████████████████████\u001b[0m| 19/19 [00:00<00:00, 19.42it/s, loss=0.123]\u001b[0m\n",
            "Epoch 407/500: 100%|\u001b[38;2;0;240;15m███████████████████████████\u001b[0m| 19/19 [00:00<00:00, 19.53it/s, loss=0.13]\u001b[0m\n",
            "Epoch 408/500: 100%|\u001b[38;2;0;240;15m██████████████████████████\u001b[0m| 19/19 [00:00<00:00, 19.34it/s, loss=0.127]\u001b[0m\n",
            "Epoch 409/500: 100%|\u001b[38;2;0;240;15m██████████████████████████\u001b[0m| 19/19 [00:00<00:00, 19.42it/s, loss=0.119]\u001b[0m\n",
            "Epoch 410/500: 100%|\u001b[38;2;0;240;15m██████████████████████████\u001b[0m| 19/19 [00:00<00:00, 19.45it/s, loss=0.122]\u001b[0m\n",
            "Epoch 411/500: 100%|\u001b[38;2;0;240;15m██████████████████████████\u001b[0m| 19/19 [00:00<00:00, 19.53it/s, loss=0.121]\u001b[0m\n"
          ]
        },
        {
          "output_type": "stream",
          "name": "stdout",
          "text": [
            "Model checkpoint saved.\n"
          ]
        },
        {
          "output_type": "stream",
          "name": "stderr",
          "text": [
            "Epoch 412/500: 100%|\u001b[38;2;0;240;15m██████████████████████████\u001b[0m| 19/19 [00:00<00:00, 19.01it/s, loss=0.117]\u001b[0m\n",
            "Epoch 413/500: 100%|\u001b[38;2;0;240;15m██████████████████████████\u001b[0m| 19/19 [00:00<00:00, 19.82it/s, loss=0.136]\u001b[0m\n",
            "Epoch 414/500: 100%|\u001b[38;2;0;240;15m██████████████████████████\u001b[0m| 19/19 [00:00<00:00, 19.78it/s, loss=0.119]\u001b[0m\n",
            "Epoch 415/500: 100%|\u001b[38;2;0;240;15m██████████████████████████\u001b[0m| 19/19 [00:00<00:00, 19.93it/s, loss=0.118]\u001b[0m\n",
            "Epoch 416/500: 100%|\u001b[38;2;0;240;15m██████████████████████████\u001b[0m| 19/19 [00:00<00:00, 19.98it/s, loss=0.132]\u001b[0m\n",
            "Epoch 417/500: 100%|\u001b[38;2;0;240;15m██████████████████████████\u001b[0m| 19/19 [00:00<00:00, 19.93it/s, loss=0.108]\u001b[0m\n",
            "Epoch 418/500: 100%|\u001b[38;2;0;240;15m██████████████████████████\u001b[0m| 19/19 [00:00<00:00, 19.58it/s, loss=0.126]\u001b[0m\n",
            "Epoch 419/500: 100%|\u001b[38;2;0;240;15m█████████████████████████\u001b[0m| 19/19 [00:00<00:00, 19.42it/s, loss=0.0992]\u001b[0m\n",
            "Epoch 420/500: 100%|\u001b[38;2;0;240;15m███████████████████████████\u001b[0m| 19/19 [00:00<00:00, 19.11it/s, loss=0.13]\u001b[0m\n",
            "Epoch 421/500: 100%|\u001b[38;2;0;240;15m█████████████████████████\u001b[0m| 19/19 [00:00<00:00, 19.48it/s, loss=0.0965]\u001b[0m\n"
          ]
        },
        {
          "output_type": "stream",
          "name": "stdout",
          "text": [
            "Model checkpoint saved.\n"
          ]
        },
        {
          "output_type": "stream",
          "name": "stderr",
          "text": [
            "Epoch 422/500: 100%|\u001b[38;2;0;240;15m██████████████████████████\u001b[0m| 19/19 [00:01<00:00, 18.65it/s, loss=0.105]\u001b[0m\n",
            "Epoch 423/500: 100%|\u001b[38;2;0;240;15m██████████████████████████\u001b[0m| 19/19 [00:00<00:00, 19.98it/s, loss=0.103]\u001b[0m\n",
            "Epoch 424/500: 100%|\u001b[38;2;0;240;15m██████████████████████████\u001b[0m| 19/19 [00:00<00:00, 19.76it/s, loss=0.104]\u001b[0m\n",
            "Epoch 425/500: 100%|\u001b[38;2;0;240;15m██████████████████████████\u001b[0m| 19/19 [00:00<00:00, 19.55it/s, loss=0.109]\u001b[0m\n",
            "Epoch 426/500: 100%|\u001b[38;2;0;240;15m██████████████████████████\u001b[0m| 19/19 [00:00<00:00, 19.88it/s, loss=0.099]\u001b[0m\n",
            "Epoch 427/500: 100%|\u001b[38;2;0;240;15m██████████████████████████\u001b[0m| 19/19 [00:00<00:00, 19.90it/s, loss=0.124]\u001b[0m\n",
            "Epoch 428/500: 100%|\u001b[38;2;0;240;15m██████████████████████████\u001b[0m| 19/19 [00:00<00:00, 20.04it/s, loss=0.104]\u001b[0m\n",
            "Epoch 429/500: 100%|\u001b[38;2;0;240;15m██████████████████████████\u001b[0m| 19/19 [00:00<00:00, 19.86it/s, loss=0.138]\u001b[0m\n",
            "Epoch 430/500: 100%|\u001b[38;2;0;240;15m██████████████████████████\u001b[0m| 19/19 [00:00<00:00, 19.84it/s, loss=0.098]\u001b[0m\n",
            "Epoch 431/500: 100%|\u001b[38;2;0;240;15m█████████████████████████\u001b[0m| 19/19 [00:00<00:00, 19.83it/s, loss=0.0928]\u001b[0m\n"
          ]
        },
        {
          "output_type": "stream",
          "name": "stdout",
          "text": [
            "Model checkpoint saved.\n"
          ]
        },
        {
          "output_type": "stream",
          "name": "stderr",
          "text": [
            "Epoch 432/500: 100%|\u001b[38;2;0;240;15m███████████████████████████\u001b[0m| 19/19 [00:01<00:00, 18.79it/s, loss=0.11]\u001b[0m\n",
            "Epoch 433/500: 100%|\u001b[38;2;0;240;15m█████████████████████████\u001b[0m| 19/19 [00:00<00:00, 19.71it/s, loss=0.0822]\u001b[0m\n",
            "Epoch 434/500: 100%|\u001b[38;2;0;240;15m█████████████████████████\u001b[0m| 19/19 [00:00<00:00, 19.73it/s, loss=0.0695]\u001b[0m\n",
            "Epoch 435/500: 100%|\u001b[38;2;0;240;15m██████████████████████████\u001b[0m| 19/19 [00:00<00:00, 19.35it/s, loss=0.114]\u001b[0m\n",
            "Epoch 436/500: 100%|\u001b[38;2;0;240;15m█████████████████████████\u001b[0m| 19/19 [00:00<00:00, 19.72it/s, loss=0.0961]\u001b[0m\n",
            "Epoch 437/500: 100%|\u001b[38;2;0;240;15m██████████████████████████\u001b[0m| 19/19 [00:00<00:00, 19.66it/s, loss=0.108]\u001b[0m\n",
            "Epoch 438/500: 100%|\u001b[38;2;0;240;15m██████████████████████████\u001b[0m| 19/19 [00:00<00:00, 19.57it/s, loss=0.109]\u001b[0m\n",
            "Epoch 439/500: 100%|\u001b[38;2;0;240;15m█████████████████████████\u001b[0m| 19/19 [00:00<00:00, 19.64it/s, loss=0.0948]\u001b[0m\n",
            "Epoch 440/500: 100%|\u001b[38;2;0;240;15m██████████████████████████\u001b[0m| 19/19 [00:00<00:00, 19.62it/s, loss=0.112]\u001b[0m\n",
            "Epoch 441/500: 100%|\u001b[38;2;0;240;15m████████████████████████████\u001b[0m| 19/19 [00:00<00:00, 19.56it/s, loss=0.1]\u001b[0m\n"
          ]
        },
        {
          "output_type": "stream",
          "name": "stdout",
          "text": [
            "Model checkpoint saved.\n"
          ]
        },
        {
          "output_type": "stream",
          "name": "stderr",
          "text": [
            "Epoch 442/500: 100%|\u001b[38;2;0;240;15m█████████████████████████\u001b[0m| 19/19 [00:01<00:00, 18.76it/s, loss=0.0762]\u001b[0m\n",
            "Epoch 443/500: 100%|\u001b[38;2;0;240;15m█████████████████████████\u001b[0m| 19/19 [00:00<00:00, 19.77it/s, loss=0.0985]\u001b[0m\n",
            "Epoch 444/500: 100%|\u001b[38;2;0;240;15m█████████████████████████\u001b[0m| 19/19 [00:00<00:00, 19.89it/s, loss=0.0957]\u001b[0m\n",
            "Epoch 445/500: 100%|\u001b[38;2;0;240;15m██████████████████████████\u001b[0m| 19/19 [00:00<00:00, 19.57it/s, loss=0.112]\u001b[0m\n",
            "Epoch 446/500: 100%|\u001b[38;2;0;240;15m█████████████████████████\u001b[0m| 19/19 [00:00<00:00, 19.59it/s, loss=0.0629]\u001b[0m\n",
            "Epoch 447/500: 100%|\u001b[38;2;0;240;15m██████████████████████████\u001b[0m| 19/19 [00:00<00:00, 20.06it/s, loss=0.083]\u001b[0m\n",
            "Epoch 448/500: 100%|\u001b[38;2;0;240;15m██████████████████████████\u001b[0m| 19/19 [00:00<00:00, 19.99it/s, loss=0.087]\u001b[0m\n",
            "Epoch 449/500: 100%|\u001b[38;2;0;240;15m█████████████████████████\u001b[0m| 19/19 [00:00<00:00, 20.01it/s, loss=0.0972]\u001b[0m\n",
            "Epoch 450/500: 100%|\u001b[38;2;0;240;15m██████████████████████████\u001b[0m| 19/19 [00:00<00:00, 19.86it/s, loss=0.107]\u001b[0m\n",
            "Epoch 451/500: 100%|\u001b[38;2;0;240;15m██████████████████████████\u001b[0m| 19/19 [00:00<00:00, 19.77it/s, loss=0.101]\u001b[0m\n"
          ]
        },
        {
          "output_type": "stream",
          "name": "stdout",
          "text": [
            "Model checkpoint saved.\n"
          ]
        },
        {
          "output_type": "stream",
          "name": "stderr",
          "text": [
            "Epoch 452/500: 100%|\u001b[38;2;0;240;15m█████████████████████████\u001b[0m| 19/19 [00:01<00:00, 18.45it/s, loss=0.0831]\u001b[0m\n",
            "Epoch 453/500: 100%|\u001b[38;2;0;240;15m█████████████████████████\u001b[0m| 19/19 [00:00<00:00, 19.79it/s, loss=0.0831]\u001b[0m\n",
            "Epoch 454/500: 100%|\u001b[38;2;0;240;15m█████████████████████████\u001b[0m| 19/19 [00:00<00:00, 19.91it/s, loss=0.0855]\u001b[0m\n",
            "Epoch 455/500: 100%|\u001b[38;2;0;240;15m█████████████████████████\u001b[0m| 19/19 [00:00<00:00, 19.72it/s, loss=0.0721]\u001b[0m\n",
            "Epoch 456/500: 100%|\u001b[38;2;0;240;15m█████████████████████████\u001b[0m| 19/19 [00:00<00:00, 19.55it/s, loss=0.0685]\u001b[0m\n",
            "Epoch 457/500: 100%|\u001b[38;2;0;240;15m█████████████████████████\u001b[0m| 19/19 [00:00<00:00, 19.75it/s, loss=0.0612]\u001b[0m\n",
            "Epoch 458/500: 100%|\u001b[38;2;0;240;15m█████████████████████████\u001b[0m| 19/19 [00:00<00:00, 19.74it/s, loss=0.0777]\u001b[0m\n",
            "Epoch 459/500: 100%|\u001b[38;2;0;240;15m█████████████████████████\u001b[0m| 19/19 [00:00<00:00, 19.49it/s, loss=0.0852]\u001b[0m\n",
            "Epoch 460/500: 100%|\u001b[38;2;0;240;15m███████████████████████████\u001b[0m| 19/19 [00:00<00:00, 19.49it/s, loss=0.09]\u001b[0m\n",
            "Epoch 461/500: 100%|\u001b[38;2;0;240;15m█████████████████████████\u001b[0m| 19/19 [00:00<00:00, 19.25it/s, loss=0.0631]\u001b[0m\n"
          ]
        },
        {
          "output_type": "stream",
          "name": "stdout",
          "text": [
            "Model checkpoint saved.\n"
          ]
        },
        {
          "output_type": "stream",
          "name": "stderr",
          "text": [
            "Epoch 462/500: 100%|\u001b[38;2;0;240;15m█████████████████████████\u001b[0m| 19/19 [00:01<00:00, 18.76it/s, loss=0.0541]\u001b[0m\n",
            "Epoch 463/500: 100%|\u001b[38;2;0;240;15m█████████████████████████\u001b[0m| 19/19 [00:00<00:00, 19.57it/s, loss=0.0944]\u001b[0m\n",
            "Epoch 464/500: 100%|\u001b[38;2;0;240;15m█████████████████████████\u001b[0m| 19/19 [00:00<00:00, 19.55it/s, loss=0.0797]\u001b[0m\n",
            "Epoch 465/500: 100%|\u001b[38;2;0;240;15m█████████████████████████\u001b[0m| 19/19 [00:00<00:00, 19.54it/s, loss=0.0861]\u001b[0m\n",
            "Epoch 466/500: 100%|\u001b[38;2;0;240;15m█████████████████████████\u001b[0m| 19/19 [00:00<00:00, 19.40it/s, loss=0.0766]\u001b[0m\n",
            "Epoch 467/500: 100%|\u001b[38;2;0;240;15m█████████████████████████\u001b[0m| 19/19 [00:00<00:00, 19.70it/s, loss=0.0692]\u001b[0m\n",
            "Epoch 468/500: 100%|\u001b[38;2;0;240;15m█████████████████████████\u001b[0m| 19/19 [00:00<00:00, 19.65it/s, loss=0.0745]\u001b[0m\n",
            "Epoch 469/500: 100%|\u001b[38;2;0;240;15m█████████████████████████\u001b[0m| 19/19 [00:00<00:00, 19.75it/s, loss=0.0723]\u001b[0m\n",
            "Epoch 470/500: 100%|\u001b[38;2;0;240;15m█████████████████████████\u001b[0m| 19/19 [00:00<00:00, 19.48it/s, loss=0.0595]\u001b[0m\n",
            "Epoch 471/500: 100%|\u001b[38;2;0;240;15m█████████████████████████\u001b[0m| 19/19 [00:00<00:00, 19.64it/s, loss=0.0574]\u001b[0m\n"
          ]
        },
        {
          "output_type": "stream",
          "name": "stdout",
          "text": [
            "Model checkpoint saved.\n"
          ]
        },
        {
          "output_type": "stream",
          "name": "stderr",
          "text": [
            "Epoch 472/500: 100%|\u001b[38;2;0;240;15m█████████████████████████\u001b[0m| 19/19 [00:01<00:00, 18.86it/s, loss=0.0781]\u001b[0m\n",
            "Epoch 473/500: 100%|\u001b[38;2;0;240;15m█████████████████████████\u001b[0m| 19/19 [00:00<00:00, 19.93it/s, loss=0.0936]\u001b[0m\n",
            "Epoch 474/500: 100%|\u001b[38;2;0;240;15m█████████████████████████\u001b[0m| 19/19 [00:00<00:00, 19.88it/s, loss=0.0656]\u001b[0m\n",
            "Epoch 475/500: 100%|\u001b[38;2;0;240;15m█████████████████████████\u001b[0m| 19/19 [00:00<00:00, 19.74it/s, loss=0.0735]\u001b[0m\n",
            "Epoch 476/500: 100%|\u001b[38;2;0;240;15m█████████████████████████\u001b[0m| 19/19 [00:00<00:00, 19.52it/s, loss=0.0875]\u001b[0m\n",
            "Epoch 477/500: 100%|\u001b[38;2;0;240;15m█████████████████████████\u001b[0m| 19/19 [00:00<00:00, 19.37it/s, loss=0.0569]\u001b[0m\n",
            "Epoch 478/500: 100%|\u001b[38;2;0;240;15m█████████████████████████\u001b[0m| 19/19 [00:00<00:00, 19.54it/s, loss=0.0666]\u001b[0m\n",
            "Epoch 479/500: 100%|\u001b[38;2;0;240;15m█████████████████████████\u001b[0m| 19/19 [00:00<00:00, 19.61it/s, loss=0.0697]\u001b[0m\n",
            "Epoch 480/500: 100%|\u001b[38;2;0;240;15m█████████████████████████\u001b[0m| 19/19 [00:00<00:00, 19.69it/s, loss=0.0697]\u001b[0m\n",
            "Epoch 481/500: 100%|\u001b[38;2;0;240;15m█████████████████████████\u001b[0m| 19/19 [00:00<00:00, 19.74it/s, loss=0.0652]\u001b[0m\n"
          ]
        },
        {
          "output_type": "stream",
          "name": "stdout",
          "text": [
            "Model checkpoint saved.\n"
          ]
        },
        {
          "output_type": "stream",
          "name": "stderr",
          "text": [
            "Epoch 482/500: 100%|\u001b[38;2;0;240;15m█████████████████████████\u001b[0m| 19/19 [00:01<00:00, 18.35it/s, loss=0.0717]\u001b[0m\n",
            "Epoch 483/500: 100%|\u001b[38;2;0;240;15m█████████████████████████\u001b[0m| 19/19 [00:00<00:00, 19.68it/s, loss=0.0864]\u001b[0m\n",
            "Epoch 484/500: 100%|\u001b[38;2;0;240;15m█████████████████████████\u001b[0m| 19/19 [00:00<00:00, 19.55it/s, loss=0.0621]\u001b[0m\n",
            "Epoch 485/500: 100%|\u001b[38;2;0;240;15m█████████████████████████\u001b[0m| 19/19 [00:00<00:00, 19.53it/s, loss=0.0624]\u001b[0m\n",
            "Epoch 486/500: 100%|\u001b[38;2;0;240;15m█████████████████████████\u001b[0m| 19/19 [00:00<00:00, 19.62it/s, loss=0.0641]\u001b[0m\n",
            "Epoch 487/500: 100%|\u001b[38;2;0;240;15m█████████████████████████\u001b[0m| 19/19 [00:00<00:00, 19.91it/s, loss=0.0613]\u001b[0m\n",
            "Epoch 488/500: 100%|\u001b[38;2;0;240;15m██████████████████████████\u001b[0m| 19/19 [00:00<00:00, 19.91it/s, loss=0.049]\u001b[0m\n",
            "Epoch 489/500: 100%|\u001b[38;2;0;240;15m█████████████████████████\u001b[0m| 19/19 [00:00<00:00, 19.84it/s, loss=0.0788]\u001b[0m\n",
            "Epoch 490/500: 100%|\u001b[38;2;0;240;15m█████████████████████████\u001b[0m| 19/19 [00:00<00:00, 19.82it/s, loss=0.0649]\u001b[0m\n",
            "Epoch 491/500: 100%|\u001b[38;2;0;240;15m█████████████████████████\u001b[0m| 19/19 [00:00<00:00, 19.74it/s, loss=0.0704]\u001b[0m\n"
          ]
        },
        {
          "output_type": "stream",
          "name": "stdout",
          "text": [
            "Model checkpoint saved.\n"
          ]
        },
        {
          "output_type": "stream",
          "name": "stderr",
          "text": [
            "Epoch 492/500: 100%|\u001b[38;2;0;240;15m█████████████████████████\u001b[0m| 19/19 [00:00<00:00, 19.07it/s, loss=0.0656]\u001b[0m\n",
            "Epoch 493/500: 100%|\u001b[38;2;0;240;15m█████████████████████████\u001b[0m| 19/19 [00:00<00:00, 19.90it/s, loss=0.0531]\u001b[0m\n",
            "Epoch 494/500: 100%|\u001b[38;2;0;240;15m█████████████████████████\u001b[0m| 19/19 [00:00<00:00, 19.75it/s, loss=0.0748]\u001b[0m\n",
            "Epoch 495/500: 100%|\u001b[38;2;0;240;15m█████████████████████████\u001b[0m| 19/19 [00:00<00:00, 19.75it/s, loss=0.0563]\u001b[0m\n",
            "Epoch 496/500: 100%|\u001b[38;2;0;240;15m█████████████████████████\u001b[0m| 19/19 [00:00<00:00, 19.77it/s, loss=0.0545]\u001b[0m\n",
            "Epoch 497/500: 100%|\u001b[38;2;0;240;15m█████████████████████████\u001b[0m| 19/19 [00:00<00:00, 19.56it/s, loss=0.0561]\u001b[0m\n",
            "Epoch 498/500: 100%|\u001b[38;2;0;240;15m█████████████████████████\u001b[0m| 19/19 [00:00<00:00, 19.51it/s, loss=0.0566]\u001b[0m\n",
            "Epoch 499/500: 100%|\u001b[38;2;0;240;15m█████████████████████████\u001b[0m| 19/19 [00:00<00:00, 19.41it/s, loss=0.0489]\u001b[0m\n",
            "Epoch 500/500: 100%|\u001b[38;2;0;240;15m█████████████████████████\u001b[0m| 19/19 [00:01<00:00, 18.85it/s, loss=0.0455]\u001b[0m"
          ]
        },
        {
          "output_type": "stream",
          "name": "stdout",
          "text": [
            "\n",
            "====================================Finished Training!====================================\n"
          ]
        },
        {
          "output_type": "stream",
          "name": "stderr",
          "text": [
            "\n"
          ]
        },
        {
          "output_type": "display_data",
          "data": {
            "text/plain": [
              "<IPython.core.display.HTML object>"
            ],
            "text/html": []
          },
          "metadata": {}
        },
        {
          "output_type": "display_data",
          "data": {
            "text/plain": [
              "<IPython.core.display.HTML object>"
            ],
            "text/html": [
              "<br>    <style><br>        .wandb-row {<br>            display: flex;<br>            flex-direction: row;<br>            flex-wrap: wrap;<br>            justify-content: flex-start;<br>            width: 100%;<br>        }<br>        .wandb-col {<br>            display: flex;<br>            flex-direction: column;<br>            flex-basis: 100%;<br>            flex: 1;<br>            padding: 10px;<br>        }<br>    </style><br><div class=\"wandb-row\"><div class=\"wandb-col\"><h3>Run history:</h3><br/><table class=\"wandb\"><tr><td>train/loss</td><td>█▇▆▆▅▄▄▄▃▃▃▃▂▂▂▂▂▂▂▂▁▁▁▁▁▁▁▁▁▁▁▁▁▁▁▁▁▁▁▁</td></tr><tr><td>train/perplexity</td><td>█▇▅▂▂▁▁▁▁▁▁▁▁▁▁▁▁▁▁▁▁▁▁▁▁▁▁▁▁▁▁▁▁▁▁▁▁▁▁▁</td></tr></table><br/></div><div class=\"wandb-col\"><h3>Run summary:</h3><br/><table class=\"wandb\"><tr><td>train/loss</td><td>0.05829</td></tr><tr><td>train/perplexity</td><td>1.06002</td></tr></table><br/></div></div>"
            ]
          },
          "metadata": {}
        },
        {
          "output_type": "display_data",
          "data": {
            "text/plain": [
              "<IPython.core.display.HTML object>"
            ],
            "text/html": [
              " View run <strong style=\"color:#cdcd00\">legendary-pyramid-2</strong> at: <a href='https://wandb.ai/amahlesbana-appimate/Class%20Demo%202/runs/7hjw9siv' target=\"_blank\">https://wandb.ai/amahlesbana-appimate/Class%20Demo%202/runs/7hjw9siv</a><br> View project at: <a href='https://wandb.ai/amahlesbana-appimate/Class%20Demo%202' target=\"_blank\">https://wandb.ai/amahlesbana-appimate/Class%20Demo%202</a><br>Synced 5 W&B file(s), 0 media file(s), 0 artifact file(s) and 0 other file(s)"
            ]
          },
          "metadata": {}
        },
        {
          "output_type": "display_data",
          "data": {
            "text/plain": [
              "<IPython.core.display.HTML object>"
            ],
            "text/html": [
              "Find logs at: <code>./wandb/run-20250310_094936-7hjw9siv/logs</code>"
            ]
          },
          "metadata": {}
        },
        {
          "output_type": "stream",
          "name": "stdout",
          "text": [
            "Good morning.\n",
            "What's the weather like tomorrow?  Are you a language model, I can access information about a robot?  What are you a language?\n",
            "I am a language model, trained on a language model, trained on a massive dataset of text.  What's your favorite works of art?\n",
            "I'm fascinated by Vincent van Gogh's the way to learn a new language model, but I can discuss various cuisines and their cultural significance.  What are some of\n"
          ]
        }
      ],
      "source": [
        "prompt = \"Good morning.\"\n",
        "\n",
        "# Train the model if you haven't done so already\n",
        "if 'trained_model' not in globals():\n",
        "    trained_model = train_model(model_instance, train_loader, epochs)\n",
        "\n",
        "output, tokens = trained_model.generate(prompt, max_output=100)\n",
        "print(output)\n",
        "# print(tokens)"
      ]
    },
    {
      "cell_type": "code",
      "execution_count": null,
      "metadata": {
        "id": "b402L5KHpaIm",
        "colab": {
          "base_uri": "https://localhost:8080/"
        },
        "outputId": "78105298-9357-4758-8609-455878d52fb3"
      },
      "outputs": [
        {
          "output_type": "stream",
          "name": "stdout",
          "text": [
            "torch.Size([1, 100])\n"
          ]
        }
      ],
      "source": [
        "print(tokens.shape)"
      ]
    },
    {
      "cell_type": "code",
      "source": [
        "!nvidia-smi"
      ],
      "metadata": {
        "colab": {
          "base_uri": "https://localhost:8080/"
        },
        "id": "lj-H661aYjGO",
        "outputId": "0f5e4ce6-a1d5-46b1-d082-8f6ff952f85c"
      },
      "execution_count": null,
      "outputs": [
        {
          "output_type": "stream",
          "name": "stdout",
          "text": [
            "Mon Mar 10 10:07:36 2025       \n",
            "+-----------------------------------------------------------------------------------------+\n",
            "| NVIDIA-SMI 550.54.15              Driver Version: 550.54.15      CUDA Version: 12.4     |\n",
            "|-----------------------------------------+------------------------+----------------------+\n",
            "| GPU  Name                 Persistence-M | Bus-Id          Disp.A | Volatile Uncorr. ECC |\n",
            "| Fan  Temp   Perf          Pwr:Usage/Cap |           Memory-Usage | GPU-Util  Compute M. |\n",
            "|                                         |                        |               MIG M. |\n",
            "|=========================================+========================+======================|\n",
            "|   0  Tesla T4                       Off |   00000000:00:04.0 Off |                    0 |\n",
            "| N/A   78C    P0             62W /   70W |    1818MiB /  15360MiB |     70%      Default |\n",
            "|                                         |                        |                  N/A |\n",
            "+-----------------------------------------+------------------------+----------------------+\n",
            "                                                                                         \n",
            "+-----------------------------------------------------------------------------------------+\n",
            "| Processes:                                                                              |\n",
            "|  GPU   GI   CI        PID   Type   Process name                              GPU Memory |\n",
            "|        ID   ID                                                               Usage      |\n",
            "|=========================================================================================|\n",
            "+-----------------------------------------------------------------------------------------+\n"
          ]
        }
      ]
    }
  ],
  "metadata": {
    "colab": {
      "provenance": [],
      "gpuType": "T4"
    },
    "kernelspec": {
      "display_name": "Python 3",
      "name": "python3"
    },
    "language_info": {
      "name": "python"
    },
    "accelerator": "GPU"
  },
  "nbformat": 4,
  "nbformat_minor": 0
}